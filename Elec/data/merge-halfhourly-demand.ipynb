{
 "cells": [
  {
   "cell_type": "code",
   "execution_count": 106,
   "metadata": {},
   "outputs": [],
   "source": [
    "import pandas as pd\n",
    "import numpy as np\n",
    "import os\n",
    "import matplotlib.pyplot as plt\n",
    "import seaborn as sns\n",
    "\n",
    "%matplotlib inline"
   ]
  },
  {
   "cell_type": "code",
   "execution_count": 15,
   "metadata": {},
   "outputs": [
    {
     "data": {
      "text/plain": [
       "['PUBLIC_ACTUAL_OPERATIONAL_DEMAND_HH_201801261730_20180126173118.zip',\n",
       " 'PUBLIC_ACTUAL_OPERATIONAL_DEMAND_HH_201804200130_20180420013107.zip',\n",
       " 'PUBLIC_ACTUAL_OPERATIONAL_DEMAND_HH_201806062100_20180606210123.zip',\n",
       " 'PUBLIC_ACTUAL_OPERATIONAL_DEMAND_HH_201806022000_20180602200104.zip',\n",
       " 'PUBLIC_ACTUAL_OPERATIONAL_DEMAND_HH_201807300000_20180730000107.zip']"
      ]
     },
     "execution_count": 15,
     "metadata": {},
     "output_type": "execute_result"
    }
   ],
   "source": [
    "files = [f for f in os.listdir(\"./demand_dump/halfhours/\") if f[-3:] == \"zip\"]\n",
    "files[:5]"
   ]
  },
  {
   "cell_type": "code",
   "execution_count": 27,
   "metadata": {},
   "outputs": [
    {
     "data": {
      "text/plain": [
       "['PUBLIC_ACTUAL_OPERATIONAL_DEMAND_HH_201712240000_20171224000051.zip',\n",
       " 'PUBLIC_ACTUAL_OPERATIONAL_DEMAND_HH_201712240030_20171224003022.zip',\n",
       " 'PUBLIC_ACTUAL_OPERATIONAL_DEMAND_HH_201712240100_20171224010116.zip',\n",
       " 'PUBLIC_ACTUAL_OPERATIONAL_DEMAND_HH_201712240130_20171224013047.zip',\n",
       " 'PUBLIC_ACTUAL_OPERATIONAL_DEMAND_HH_201712240200_20171224020019.zip',\n",
       " 'PUBLIC_ACTUAL_OPERATIONAL_DEMAND_HH_201712240230_20171224023114.zip',\n",
       " 'PUBLIC_ACTUAL_OPERATIONAL_DEMAND_HH_201712240300_20171224030044.zip',\n",
       " 'PUBLIC_ACTUAL_OPERATIONAL_DEMAND_HH_201712240330_20171224033015.zip',\n",
       " 'PUBLIC_ACTUAL_OPERATIONAL_DEMAND_HH_201712240400_20171224040111.zip',\n",
       " 'PUBLIC_ACTUAL_OPERATIONAL_DEMAND_HH_201712240430_20171224043043.zip']"
      ]
     },
     "execution_count": 27,
     "metadata": {},
     "output_type": "execute_result"
    }
   ],
   "source": [
    "files = sorted(files)\n",
    "files[:10]"
   ]
  },
  {
   "cell_type": "code",
   "execution_count": 74,
   "metadata": {},
   "outputs": [
    {
     "data": {
      "text/plain": [
       "18555"
      ]
     },
     "execution_count": 74,
     "metadata": {},
     "output_type": "execute_result"
    }
   ],
   "source": [
    "len(files)"
   ]
  },
  {
   "cell_type": "code",
   "execution_count": 17,
   "metadata": {},
   "outputs": [
    {
     "data": {
      "text/html": [
       "<div>\n",
       "<style scoped>\n",
       "    .dataframe tbody tr th:only-of-type {\n",
       "        vertical-align: middle;\n",
       "    }\n",
       "\n",
       "    .dataframe tbody tr th {\n",
       "        vertical-align: top;\n",
       "    }\n",
       "\n",
       "    .dataframe thead th {\n",
       "        text-align: right;\n",
       "    }\n",
       "</style>\n",
       "<table border=\"1\" class=\"dataframe\">\n",
       "  <thead>\n",
       "    <tr style=\"text-align: right;\">\n",
       "      <th></th>\n",
       "      <th>C</th>\n",
       "      <th>NEMP.WORLD</th>\n",
       "      <th>ACTUAL_OPERATIONAL_DEMAND_HH</th>\n",
       "      <th>AEMO</th>\n",
       "      <th>REGIONID</th>\n",
       "      <th>INTERVAL_DATETIME</th>\n",
       "      <th>OPERATIONAL_DEMAND</th>\n",
       "      <th>LASTCHANGED</th>\n",
       "      <th>DEMAND</th>\n",
       "      <th>0000000295813169.1</th>\n",
       "    </tr>\n",
       "  </thead>\n",
       "  <tbody>\n",
       "    <tr>\n",
       "      <th>1</th>\n",
       "      <td>D</td>\n",
       "      <td>OPERATIONAL_DEMAND</td>\n",
       "      <td>ACTUAL</td>\n",
       "      <td>1.0</td>\n",
       "      <td>NSW1</td>\n",
       "      <td>2018/06/14 12:30:00</td>\n",
       "      <td>8329</td>\n",
       "      <td>2018/06/14 12:31:00</td>\n",
       "      <td>NaN</td>\n",
       "      <td>NaN</td>\n",
       "    </tr>\n",
       "    <tr>\n",
       "      <th>2</th>\n",
       "      <td>D</td>\n",
       "      <td>OPERATIONAL_DEMAND</td>\n",
       "      <td>ACTUAL</td>\n",
       "      <td>1.0</td>\n",
       "      <td>QLD1</td>\n",
       "      <td>2018/06/14 12:30:00</td>\n",
       "      <td>5820</td>\n",
       "      <td>2018/06/14 12:31:00</td>\n",
       "      <td>NaN</td>\n",
       "      <td>NaN</td>\n",
       "    </tr>\n",
       "    <tr>\n",
       "      <th>3</th>\n",
       "      <td>D</td>\n",
       "      <td>OPERATIONAL_DEMAND</td>\n",
       "      <td>ACTUAL</td>\n",
       "      <td>1.0</td>\n",
       "      <td>SA1</td>\n",
       "      <td>2018/06/14 12:30:00</td>\n",
       "      <td>1414</td>\n",
       "      <td>2018/06/14 12:31:00</td>\n",
       "      <td>NaN</td>\n",
       "      <td>NaN</td>\n",
       "    </tr>\n",
       "    <tr>\n",
       "      <th>4</th>\n",
       "      <td>D</td>\n",
       "      <td>OPERATIONAL_DEMAND</td>\n",
       "      <td>ACTUAL</td>\n",
       "      <td>1.0</td>\n",
       "      <td>TAS1</td>\n",
       "      <td>2018/06/14 12:30:00</td>\n",
       "      <td>1267</td>\n",
       "      <td>2018/06/14 12:31:00</td>\n",
       "      <td>NaN</td>\n",
       "      <td>NaN</td>\n",
       "    </tr>\n",
       "    <tr>\n",
       "      <th>5</th>\n",
       "      <td>D</td>\n",
       "      <td>OPERATIONAL_DEMAND</td>\n",
       "      <td>ACTUAL</td>\n",
       "      <td>1.0</td>\n",
       "      <td>VIC1</td>\n",
       "      <td>2018/06/14 12:30:00</td>\n",
       "      <td>5680</td>\n",
       "      <td>2018/06/14 12:31:00</td>\n",
       "      <td>NaN</td>\n",
       "      <td>NaN</td>\n",
       "    </tr>\n",
       "    <tr>\n",
       "      <th>6</th>\n",
       "      <td>C</td>\n",
       "      <td>END OF REPORT</td>\n",
       "      <td>8</td>\n",
       "      <td>NaN</td>\n",
       "      <td>NaN</td>\n",
       "      <td>NaN</td>\n",
       "      <td>NaN</td>\n",
       "      <td>NaN</td>\n",
       "      <td>NaN</td>\n",
       "      <td>NaN</td>\n",
       "    </tr>\n",
       "  </tbody>\n",
       "</table>\n",
       "</div>"
      ],
      "text/plain": [
       "   C          NEMP.WORLD ACTUAL_OPERATIONAL_DEMAND_HH  AEMO REGIONID  \\\n",
       "1  D  OPERATIONAL_DEMAND                       ACTUAL   1.0     NSW1   \n",
       "2  D  OPERATIONAL_DEMAND                       ACTUAL   1.0     QLD1   \n",
       "3  D  OPERATIONAL_DEMAND                       ACTUAL   1.0      SA1   \n",
       "4  D  OPERATIONAL_DEMAND                       ACTUAL   1.0     TAS1   \n",
       "5  D  OPERATIONAL_DEMAND                       ACTUAL   1.0     VIC1   \n",
       "6  C       END OF REPORT                            8   NaN      NaN   \n",
       "\n",
       "     INTERVAL_DATETIME OPERATIONAL_DEMAND          LASTCHANGED  DEMAND  \\\n",
       "1  2018/06/14 12:30:00               8329  2018/06/14 12:31:00     NaN   \n",
       "2  2018/06/14 12:30:00               5820  2018/06/14 12:31:00     NaN   \n",
       "3  2018/06/14 12:30:00               1414  2018/06/14 12:31:00     NaN   \n",
       "4  2018/06/14 12:30:00               1267  2018/06/14 12:31:00     NaN   \n",
       "5  2018/06/14 12:30:00               5680  2018/06/14 12:31:00     NaN   \n",
       "6                  NaN                NaN                  NaN     NaN   \n",
       "\n",
       "   0000000295813169.1  \n",
       "1                 NaN  \n",
       "2                 NaN  \n",
       "3                 NaN  \n",
       "4                 NaN  \n",
       "5                 NaN  \n",
       "6                 NaN  "
      ]
     },
     "execution_count": 17,
     "metadata": {},
     "output_type": "execute_result"
    }
   ],
   "source": [
    "#     try:\n",
    "#         f1 = \"AEMO-datadump/PUBLIC_ACTUAL_OPERATIONAL_DEMAND_HH_20171224/\" + file\n",
    "# df1 = pd.read_csv(f\"./demand_dump/halfhours/{files[0]}\")\n",
    "# df1.columns = list(df1.columns)[:4] + list(df1.iloc[0,4:8]) + list(df1.columns[8:])\n",
    "# df1.drop(index=0, inplace=True)\n",
    "#     except:\n",
    "#         print(file)\n",
    "df1"
   ]
  },
  {
   "cell_type": "markdown",
   "metadata": {},
   "source": [
    "<font color = \"purple\"><font size = 5>\n",
    "    New try with better processing and including ISSUED timestamp"
   ]
  },
  {
   "cell_type": "code",
   "execution_count": 64,
   "metadata": {},
   "outputs": [
    {
     "name": "stdout",
     "output_type": "stream",
     "text": [
      "CPU times: user 48min 56s, sys: 28.1 s, total: 49min 24s\n",
      "Wall time: 51min 52s\n"
     ]
    }
   ],
   "source": [
    "%%time\n",
    "day_df = pd.DataFrame(index=[\"NSW1\",\"QLD1\",\"SA1\",\"TAS1\",\"VIC1\",\"ISSUED\"])\n",
    "dup_df = pd.DataFrame(index=[\"NSW1\",\"QLD1\",\"SA1\",\"TAS1\",\"VIC1\",\"ISSUED\"])\n",
    "failed_list = []\n",
    "for file in files:\n",
    "    try:\n",
    "        df1 = pd.read_csv(f\"./demand_dump/halfhours/{file}\")\n",
    "        df1.loc[6,'PUBLIC'] = \"ISSUED\"\n",
    "        issued = pd.to_datetime(df1.columns[5] + \" \" + df1.columns[6])\n",
    "        df1.columns = list(df1.columns)[:4] + list(df1.iloc[0,4:8]) + list(df1.columns[8:])\n",
    "        df1.drop(index=0, inplace=True)\n",
    "        df1.OPERATIONAL_DEMAND = df1.OPERATIONAL_DEMAND.astype(float)\n",
    "        df1.loc[6,\"OPERATIONAL_DEMAND\"] = issued\n",
    "        dem_df1 = pd.DataFrame(data = df1.loc[1:6,\"OPERATIONAL_DEMAND\"].values, index = df1.loc[1:6,\"REGIONID\"],columns=[pd.to_datetime(df1.loc[1,\"INTERVAL_DATETIME\"])])\n",
    "        \n",
    "        this_timestamp = dem_df1.columns[0]\n",
    "        if (this_timestamp in day_df.columns) and (dem_df1.iloc[0,5] > day_df.loc[\"ISSUED\",this_timestamp]):\n",
    "            dup_df = pd.merge(dup_df,day_df[this_timestamp], how='outer').merge(dem_df1, how='outer')  ## keep record of different ones\n",
    "            day_df[dem_df1.columns[0]] = dem_df1                  ## assume most recent is most correct\n",
    "        elif (this_timestamp in day_df.columns) and (dem_df1.iloc[0,5] <= day_df.loc[\"ISSUED\",this_timestamp]):\n",
    "            dup_df = pd.merge(dup_df,day_df[this_timestamp], how='outer').merge(dem_df1, how='outer')  ## keep record, assume if an earlier version then ignore, keep original\n",
    "        else:\n",
    "            day_df = pd.merge(day_df, dem_df1, left_index=True, right_index=True)  ## otherwise go ahead and merge\n",
    "\n",
    "    except:\n",
    "        failed_list.append(file)\n",
    "\n",
    "day_df.to_csv(\"day_df_t3_all.csv\", sep=\"\\t\")\n"
   ]
  },
  {
   "cell_type": "code",
   "execution_count": 65,
   "metadata": {},
   "outputs": [
    {
     "data": {
      "text/html": [
       "<div>\n",
       "<style scoped>\n",
       "    .dataframe tbody tr th:only-of-type {\n",
       "        vertical-align: middle;\n",
       "    }\n",
       "\n",
       "    .dataframe tbody tr th {\n",
       "        vertical-align: top;\n",
       "    }\n",
       "\n",
       "    .dataframe thead th {\n",
       "        text-align: right;\n",
       "    }\n",
       "</style>\n",
       "<table border=\"1\" class=\"dataframe\">\n",
       "  <thead>\n",
       "    <tr style=\"text-align: right;\">\n",
       "      <th></th>\n",
       "      <th>2017-12-24 00:00:00</th>\n",
       "      <th>2017-12-24 00:30:00</th>\n",
       "      <th>2017-12-24 01:00:00</th>\n",
       "      <th>2017-12-24 01:30:00</th>\n",
       "      <th>2017-12-24 02:00:00</th>\n",
       "      <th>2017-12-24 02:30:00</th>\n",
       "      <th>2017-12-24 03:00:00</th>\n",
       "      <th>2017-12-24 03:30:00</th>\n",
       "      <th>2017-12-24 04:00:00</th>\n",
       "      <th>2017-12-24 04:30:00</th>\n",
       "      <th>...</th>\n",
       "      <th>2019-01-19 19:00:00</th>\n",
       "      <th>2019-01-19 19:30:00</th>\n",
       "      <th>2019-01-19 20:00:00</th>\n",
       "      <th>2019-01-19 20:30:00</th>\n",
       "      <th>2019-01-19 21:00:00</th>\n",
       "      <th>2019-01-19 21:30:00</th>\n",
       "      <th>2019-01-19 22:00:00</th>\n",
       "      <th>2019-01-19 22:30:00</th>\n",
       "      <th>2019-01-19 23:00:00</th>\n",
       "      <th>2019-01-19 23:30:00</th>\n",
       "    </tr>\n",
       "    <tr>\n",
       "      <th>REGIONID</th>\n",
       "      <th></th>\n",
       "      <th></th>\n",
       "      <th></th>\n",
       "      <th></th>\n",
       "      <th></th>\n",
       "      <th></th>\n",
       "      <th></th>\n",
       "      <th></th>\n",
       "      <th></th>\n",
       "      <th></th>\n",
       "      <th></th>\n",
       "      <th></th>\n",
       "      <th></th>\n",
       "      <th></th>\n",
       "      <th></th>\n",
       "      <th></th>\n",
       "      <th></th>\n",
       "      <th></th>\n",
       "      <th></th>\n",
       "      <th></th>\n",
       "      <th></th>\n",
       "    </tr>\n",
       "  </thead>\n",
       "  <tbody>\n",
       "    <tr>\n",
       "      <th>NSW1</th>\n",
       "      <td>7255</td>\n",
       "      <td>7028</td>\n",
       "      <td>6805</td>\n",
       "      <td>6513</td>\n",
       "      <td>6301</td>\n",
       "      <td>6184</td>\n",
       "      <td>6113</td>\n",
       "      <td>6060</td>\n",
       "      <td>6038</td>\n",
       "      <td>6087</td>\n",
       "      <td>...</td>\n",
       "      <td>8909</td>\n",
       "      <td>8833</td>\n",
       "      <td>8788</td>\n",
       "      <td>8641</td>\n",
       "      <td>8458</td>\n",
       "      <td>8281</td>\n",
       "      <td>8176</td>\n",
       "      <td>8041</td>\n",
       "      <td>7849</td>\n",
       "      <td>7689</td>\n",
       "    </tr>\n",
       "    <tr>\n",
       "      <th>QLD1</th>\n",
       "      <td>6198</td>\n",
       "      <td>5977</td>\n",
       "      <td>5805</td>\n",
       "      <td>5696</td>\n",
       "      <td>5587</td>\n",
       "      <td>5534</td>\n",
       "      <td>5515</td>\n",
       "      <td>5464</td>\n",
       "      <td>5429</td>\n",
       "      <td>5417</td>\n",
       "      <td>...</td>\n",
       "      <td>8032</td>\n",
       "      <td>8060</td>\n",
       "      <td>8010</td>\n",
       "      <td>7821</td>\n",
       "      <td>7568</td>\n",
       "      <td>7399</td>\n",
       "      <td>7196</td>\n",
       "      <td>7034</td>\n",
       "      <td>6879</td>\n",
       "      <td>6642</td>\n",
       "    </tr>\n",
       "    <tr>\n",
       "      <th>SA1</th>\n",
       "      <td>1580</td>\n",
       "      <td>1513</td>\n",
       "      <td>1448</td>\n",
       "      <td>1358</td>\n",
       "      <td>1310</td>\n",
       "      <td>1281</td>\n",
       "      <td>1263</td>\n",
       "      <td>1230</td>\n",
       "      <td>1208</td>\n",
       "      <td>1204</td>\n",
       "      <td>...</td>\n",
       "      <td>1517</td>\n",
       "      <td>1526</td>\n",
       "      <td>1520</td>\n",
       "      <td>1515</td>\n",
       "      <td>1503</td>\n",
       "      <td>1463</td>\n",
       "      <td>1437</td>\n",
       "      <td>1396</td>\n",
       "      <td>1367</td>\n",
       "      <td>1352</td>\n",
       "    </tr>\n",
       "    <tr>\n",
       "      <th>TAS1</th>\n",
       "      <td>1070</td>\n",
       "      <td>1075</td>\n",
       "      <td>1066</td>\n",
       "      <td>1066</td>\n",
       "      <td>1060</td>\n",
       "      <td>1063</td>\n",
       "      <td>1063</td>\n",
       "      <td>1061</td>\n",
       "      <td>1060</td>\n",
       "      <td>1065</td>\n",
       "      <td>...</td>\n",
       "      <td>1168</td>\n",
       "      <td>1156</td>\n",
       "      <td>1153</td>\n",
       "      <td>1174</td>\n",
       "      <td>1175</td>\n",
       "      <td>1163</td>\n",
       "      <td>1096</td>\n",
       "      <td>1019</td>\n",
       "      <td>1000</td>\n",
       "      <td>998</td>\n",
       "    </tr>\n",
       "    <tr>\n",
       "      <th>VIC1</th>\n",
       "      <td>4630</td>\n",
       "      <td>4433</td>\n",
       "      <td>4286</td>\n",
       "      <td>4159</td>\n",
       "      <td>4010</td>\n",
       "      <td>3886</td>\n",
       "      <td>3828</td>\n",
       "      <td>3789</td>\n",
       "      <td>3767</td>\n",
       "      <td>3793</td>\n",
       "      <td>...</td>\n",
       "      <td>4960</td>\n",
       "      <td>4897</td>\n",
       "      <td>4835</td>\n",
       "      <td>4834</td>\n",
       "      <td>4761</td>\n",
       "      <td>4658</td>\n",
       "      <td>4544</td>\n",
       "      <td>4459</td>\n",
       "      <td>4390</td>\n",
       "      <td>4547</td>\n",
       "    </tr>\n",
       "    <tr>\n",
       "      <th>ISSUED</th>\n",
       "      <td>2017-12-24 00:00:51</td>\n",
       "      <td>2017-12-24 00:30:22</td>\n",
       "      <td>2017-12-24 01:01:16</td>\n",
       "      <td>2017-12-24 01:30:47</td>\n",
       "      <td>2017-12-24 02:00:19</td>\n",
       "      <td>2017-12-24 02:31:14</td>\n",
       "      <td>2017-12-24 03:00:44</td>\n",
       "      <td>2017-12-24 03:30:15</td>\n",
       "      <td>2017-12-24 04:01:11</td>\n",
       "      <td>2017-12-24 04:30:43</td>\n",
       "      <td>...</td>\n",
       "      <td>2019-01-19 19:00:31</td>\n",
       "      <td>2019-01-19 19:30:07</td>\n",
       "      <td>2019-01-19 20:01:06</td>\n",
       "      <td>2019-01-19 20:30:42</td>\n",
       "      <td>2019-01-19 21:00:17</td>\n",
       "      <td>2019-01-19 21:31:17</td>\n",
       "      <td>2019-01-19 22:00:51</td>\n",
       "      <td>2019-01-19 22:30:25</td>\n",
       "      <td>2019-01-19 23:01:25</td>\n",
       "      <td>2019-01-19 23:31:00</td>\n",
       "    </tr>\n",
       "  </tbody>\n",
       "</table>\n",
       "<p>6 rows Ã 18480 columns</p>\n",
       "</div>"
      ],
      "text/plain": [
       "          2017-12-24 00:00:00  2017-12-24 00:30:00  2017-12-24 01:00:00  \\\n",
       "REGIONID                                                                  \n",
       "NSW1                     7255                 7028                 6805   \n",
       "QLD1                     6198                 5977                 5805   \n",
       "SA1                      1580                 1513                 1448   \n",
       "TAS1                     1070                 1075                 1066   \n",
       "VIC1                     4630                 4433                 4286   \n",
       "ISSUED    2017-12-24 00:00:51  2017-12-24 00:30:22  2017-12-24 01:01:16   \n",
       "\n",
       "          2017-12-24 01:30:00  2017-12-24 02:00:00  2017-12-24 02:30:00  \\\n",
       "REGIONID                                                                  \n",
       "NSW1                     6513                 6301                 6184   \n",
       "QLD1                     5696                 5587                 5534   \n",
       "SA1                      1358                 1310                 1281   \n",
       "TAS1                     1066                 1060                 1063   \n",
       "VIC1                     4159                 4010                 3886   \n",
       "ISSUED    2017-12-24 01:30:47  2017-12-24 02:00:19  2017-12-24 02:31:14   \n",
       "\n",
       "          2017-12-24 03:00:00  2017-12-24 03:30:00  2017-12-24 04:00:00  \\\n",
       "REGIONID                                                                  \n",
       "NSW1                     6113                 6060                 6038   \n",
       "QLD1                     5515                 5464                 5429   \n",
       "SA1                      1263                 1230                 1208   \n",
       "TAS1                     1063                 1061                 1060   \n",
       "VIC1                     3828                 3789                 3767   \n",
       "ISSUED    2017-12-24 03:00:44  2017-12-24 03:30:15  2017-12-24 04:01:11   \n",
       "\n",
       "          2017-12-24 04:30:00         ...           2019-01-19 19:00:00  \\\n",
       "REGIONID                              ...                                 \n",
       "NSW1                     6087         ...                          8909   \n",
       "QLD1                     5417         ...                          8032   \n",
       "SA1                      1204         ...                          1517   \n",
       "TAS1                     1065         ...                          1168   \n",
       "VIC1                     3793         ...                          4960   \n",
       "ISSUED    2017-12-24 04:30:43         ...           2019-01-19 19:00:31   \n",
       "\n",
       "          2019-01-19 19:30:00  2019-01-19 20:00:00  2019-01-19 20:30:00  \\\n",
       "REGIONID                                                                  \n",
       "NSW1                     8833                 8788                 8641   \n",
       "QLD1                     8060                 8010                 7821   \n",
       "SA1                      1526                 1520                 1515   \n",
       "TAS1                     1156                 1153                 1174   \n",
       "VIC1                     4897                 4835                 4834   \n",
       "ISSUED    2019-01-19 19:30:07  2019-01-19 20:01:06  2019-01-19 20:30:42   \n",
       "\n",
       "          2019-01-19 21:00:00  2019-01-19 21:30:00  2019-01-19 22:00:00  \\\n",
       "REGIONID                                                                  \n",
       "NSW1                     8458                 8281                 8176   \n",
       "QLD1                     7568                 7399                 7196   \n",
       "SA1                      1503                 1463                 1437   \n",
       "TAS1                     1175                 1163                 1096   \n",
       "VIC1                     4761                 4658                 4544   \n",
       "ISSUED    2019-01-19 21:00:17  2019-01-19 21:31:17  2019-01-19 22:00:51   \n",
       "\n",
       "          2019-01-19 22:30:00  2019-01-19 23:00:00  2019-01-19 23:30:00  \n",
       "REGIONID                                                                 \n",
       "NSW1                     8041                 7849                 7689  \n",
       "QLD1                     7034                 6879                 6642  \n",
       "SA1                      1396                 1367                 1352  \n",
       "TAS1                     1019                 1000                  998  \n",
       "VIC1                     4459                 4390                 4547  \n",
       "ISSUED    2019-01-19 22:30:25  2019-01-19 23:01:25  2019-01-19 23:31:00  \n",
       "\n",
       "[6 rows x 18480 columns]"
      ]
     },
     "execution_count": 65,
     "metadata": {},
     "output_type": "execute_result"
    }
   ],
   "source": [
    "day_df"
   ]
  },
  {
   "cell_type": "code",
   "execution_count": 71,
   "metadata": {},
   "outputs": [
    {
     "name": "stdout",
     "output_type": "stream",
     "text": [
      "75\n"
     ]
    },
    {
     "data": {
      "text/plain": [
       "['PUBLIC_ACTUAL_OPERATIONAL_DEMAND_HH_201806140030_20180614161132.zip',\n",
       " 'PUBLIC_ACTUAL_OPERATIONAL_DEMAND_HH_201806140100_20180614161132.zip',\n",
       " 'PUBLIC_ACTUAL_OPERATIONAL_DEMAND_HH_201806140130_20180614161132.zip',\n",
       " 'PUBLIC_ACTUAL_OPERATIONAL_DEMAND_HH_201806140200_20180614161132.zip',\n",
       " 'PUBLIC_ACTUAL_OPERATIONAL_DEMAND_HH_201806140230_20180614161132.zip']"
      ]
     },
     "execution_count": 71,
     "metadata": {},
     "output_type": "execute_result"
    }
   ],
   "source": [
    "print(len(failed_list))\n",
    "failed_list[:5]"
   ]
  },
  {
   "cell_type": "code",
   "execution_count": 69,
   "metadata": {},
   "outputs": [],
   "source": [
    "dicfailed = {k:v for k,v in zip(files,[files.index(f) for f in failed_list])}"
   ]
  },
  {
   "cell_type": "code",
   "execution_count": 75,
   "metadata": {},
   "outputs": [
    {
     "data": {
      "text/html": [
       "<div>\n",
       "<style scoped>\n",
       "    .dataframe tbody tr th:only-of-type {\n",
       "        vertical-align: middle;\n",
       "    }\n",
       "\n",
       "    .dataframe tbody tr th {\n",
       "        vertical-align: top;\n",
       "    }\n",
       "\n",
       "    .dataframe thead th {\n",
       "        text-align: right;\n",
       "    }\n",
       "</style>\n",
       "<table border=\"1\" class=\"dataframe\">\n",
       "  <thead>\n",
       "    <tr style=\"text-align: right;\">\n",
       "      <th>REGIONID</th>\n",
       "      <th>NSW1</th>\n",
       "      <th>QLD1</th>\n",
       "      <th>SA1</th>\n",
       "      <th>TAS1</th>\n",
       "      <th>VIC1</th>\n",
       "      <th>ISSUED</th>\n",
       "    </tr>\n",
       "  </thead>\n",
       "  <tbody>\n",
       "    <tr>\n",
       "      <th>2017-12-24 00:00:00</th>\n",
       "      <td>7255</td>\n",
       "      <td>6198</td>\n",
       "      <td>1580</td>\n",
       "      <td>1070</td>\n",
       "      <td>4630</td>\n",
       "      <td>2017-12-24 00:00:51</td>\n",
       "    </tr>\n",
       "    <tr>\n",
       "      <th>2017-12-24 00:30:00</th>\n",
       "      <td>7028</td>\n",
       "      <td>5977</td>\n",
       "      <td>1513</td>\n",
       "      <td>1075</td>\n",
       "      <td>4433</td>\n",
       "      <td>2017-12-24 00:30:22</td>\n",
       "    </tr>\n",
       "    <tr>\n",
       "      <th>2017-12-24 01:00:00</th>\n",
       "      <td>6805</td>\n",
       "      <td>5805</td>\n",
       "      <td>1448</td>\n",
       "      <td>1066</td>\n",
       "      <td>4286</td>\n",
       "      <td>2017-12-24 01:01:16</td>\n",
       "    </tr>\n",
       "    <tr>\n",
       "      <th>2017-12-24 01:30:00</th>\n",
       "      <td>6513</td>\n",
       "      <td>5696</td>\n",
       "      <td>1358</td>\n",
       "      <td>1066</td>\n",
       "      <td>4159</td>\n",
       "      <td>2017-12-24 01:30:47</td>\n",
       "    </tr>\n",
       "    <tr>\n",
       "      <th>2017-12-24 02:00:00</th>\n",
       "      <td>6301</td>\n",
       "      <td>5587</td>\n",
       "      <td>1310</td>\n",
       "      <td>1060</td>\n",
       "      <td>4010</td>\n",
       "      <td>2017-12-24 02:00:19</td>\n",
       "    </tr>\n",
       "  </tbody>\n",
       "</table>\n",
       "</div>"
      ],
      "text/plain": [
       "REGIONID             NSW1  QLD1   SA1  TAS1  VIC1               ISSUED\n",
       "2017-12-24 00:00:00  7255  6198  1580  1070  4630  2017-12-24 00:00:51\n",
       "2017-12-24 00:30:00  7028  5977  1513  1075  4433  2017-12-24 00:30:22\n",
       "2017-12-24 01:00:00  6805  5805  1448  1066  4286  2017-12-24 01:01:16\n",
       "2017-12-24 01:30:00  6513  5696  1358  1066  4159  2017-12-24 01:30:47\n",
       "2017-12-24 02:00:00  6301  5587  1310  1060  4010  2017-12-24 02:00:19"
      ]
     },
     "execution_count": 75,
     "metadata": {},
     "output_type": "execute_result"
    }
   ],
   "source": [
    "tdf = day_df.T\n",
    "tdf.head()"
   ]
  },
  {
   "cell_type": "code",
   "execution_count": 80,
   "metadata": {},
   "outputs": [
    {
     "data": {
      "text/html": [
       "<div>\n",
       "<style scoped>\n",
       "    .dataframe tbody tr th:only-of-type {\n",
       "        vertical-align: middle;\n",
       "    }\n",
       "\n",
       "    .dataframe tbody tr th {\n",
       "        vertical-align: top;\n",
       "    }\n",
       "\n",
       "    .dataframe thead th {\n",
       "        text-align: right;\n",
       "    }\n",
       "</style>\n",
       "<table border=\"1\" class=\"dataframe\">\n",
       "  <thead>\n",
       "    <tr style=\"text-align: right;\">\n",
       "      <th>REGIONID</th>\n",
       "      <th>NSW1</th>\n",
       "      <th>QLD1</th>\n",
       "      <th>SA1</th>\n",
       "      <th>TAS1</th>\n",
       "      <th>VIC1</th>\n",
       "      <th>ISSUED</th>\n",
       "    </tr>\n",
       "  </thead>\n",
       "  <tbody>\n",
       "    <tr>\n",
       "      <th>2019-01-19 21:30:00</th>\n",
       "      <td>8281</td>\n",
       "      <td>7399</td>\n",
       "      <td>1463</td>\n",
       "      <td>1163</td>\n",
       "      <td>4658</td>\n",
       "      <td>2019-01-19 21:31:17</td>\n",
       "    </tr>\n",
       "    <tr>\n",
       "      <th>2019-01-19 22:00:00</th>\n",
       "      <td>8176</td>\n",
       "      <td>7196</td>\n",
       "      <td>1437</td>\n",
       "      <td>1096</td>\n",
       "      <td>4544</td>\n",
       "      <td>2019-01-19 22:00:51</td>\n",
       "    </tr>\n",
       "    <tr>\n",
       "      <th>2019-01-19 22:30:00</th>\n",
       "      <td>8041</td>\n",
       "      <td>7034</td>\n",
       "      <td>1396</td>\n",
       "      <td>1019</td>\n",
       "      <td>4459</td>\n",
       "      <td>2019-01-19 22:30:25</td>\n",
       "    </tr>\n",
       "    <tr>\n",
       "      <th>2019-01-19 23:00:00</th>\n",
       "      <td>7849</td>\n",
       "      <td>6879</td>\n",
       "      <td>1367</td>\n",
       "      <td>1000</td>\n",
       "      <td>4390</td>\n",
       "      <td>2019-01-19 23:01:25</td>\n",
       "    </tr>\n",
       "    <tr>\n",
       "      <th>2019-01-19 23:30:00</th>\n",
       "      <td>7689</td>\n",
       "      <td>6642</td>\n",
       "      <td>1352</td>\n",
       "      <td>998</td>\n",
       "      <td>4547</td>\n",
       "      <td>2019-01-19 23:31:00</td>\n",
       "    </tr>\n",
       "  </tbody>\n",
       "</table>\n",
       "</div>"
      ],
      "text/plain": [
       "REGIONID             NSW1  QLD1   SA1  TAS1  VIC1               ISSUED\n",
       "2019-01-19 21:30:00  8281  7399  1463  1163  4658  2019-01-19 21:31:17\n",
       "2019-01-19 22:00:00  8176  7196  1437  1096  4544  2019-01-19 22:00:51\n",
       "2019-01-19 22:30:00  8041  7034  1396  1019  4459  2019-01-19 22:30:25\n",
       "2019-01-19 23:00:00  7849  6879  1367  1000  4390  2019-01-19 23:01:25\n",
       "2019-01-19 23:30:00  7689  6642  1352   998  4547  2019-01-19 23:31:00"
      ]
     },
     "execution_count": 80,
     "metadata": {},
     "output_type": "execute_result"
    }
   ],
   "source": [
    "tdf.sort_index(inplace=True)\n",
    "tdf.tail()"
   ]
  },
  {
   "cell_type": "code",
   "execution_count": 90,
   "metadata": {},
   "outputs": [],
   "source": [
    "tdf.to_csv(\"Tdf_demand_20171224-2018119.csv\")"
   ]
  },
  {
   "cell_type": "code",
   "execution_count": 82,
   "metadata": {},
   "outputs": [],
   "source": [
    "fulldtrange = pd.date_range(start='2017-12-24 00:00:00', end='2019-01-19 23:30:00', freq='30min')"
   ]
  },
  {
   "cell_type": "code",
   "execution_count": 83,
   "metadata": {},
   "outputs": [
    {
     "name": "stdout",
     "output_type": "stream",
     "text": [
      "336\n"
     ]
    },
    {
     "data": {
      "text/plain": [
       "[Timestamp('2018-09-02 00:00:00', freq='30T'),\n",
       " Timestamp('2018-09-02 00:30:00', freq='30T'),\n",
       " Timestamp('2018-09-02 01:00:00', freq='30T'),\n",
       " Timestamp('2018-09-02 01:30:00', freq='30T'),\n",
       " Timestamp('2018-09-02 02:00:00', freq='30T'),\n",
       " Timestamp('2018-09-02 02:30:00', freq='30T'),\n",
       " Timestamp('2018-09-02 03:00:00', freq='30T'),\n",
       " Timestamp('2018-09-02 03:30:00', freq='30T'),\n",
       " Timestamp('2018-09-02 04:00:00', freq='30T'),\n",
       " Timestamp('2018-09-02 04:30:00', freq='30T')]"
      ]
     },
     "execution_count": 83,
     "metadata": {},
     "output_type": "execute_result"
    }
   ],
   "source": [
    "missing = [dts for dts in fulldtrange if dts not in tdf.index]\n",
    "print(len(missing))\n",
    "missing[:10]"
   ]
  },
  {
   "cell_type": "code",
   "execution_count": 89,
   "metadata": {},
   "outputs": [
    {
     "data": {
      "text/plain": [
       "{datetime.date(2018, 9, 2),\n",
       " datetime.date(2018, 9, 3),\n",
       " datetime.date(2018, 9, 4),\n",
       " datetime.date(2018, 9, 5),\n",
       " datetime.date(2018, 9, 6),\n",
       " datetime.date(2018, 9, 7),\n",
       " datetime.date(2018, 9, 8)}"
      ]
     },
     "execution_count": 89,
     "metadata": {},
     "output_type": "execute_result"
    }
   ],
   "source": [
    "set(dt.date() for dt in missing)\n",
    "#     print(dt.date())"
   ]
  },
  {
   "cell_type": "code",
   "execution_count": 96,
   "metadata": {},
   "outputs": [
    {
     "data": {
      "text/plain": [
       "(18480, 6)"
      ]
     },
     "execution_count": 96,
     "metadata": {},
     "output_type": "execute_result"
    }
   ],
   "source": [
    "tdf.shape"
   ]
  },
  {
   "cell_type": "code",
   "execution_count": 97,
   "metadata": {},
   "outputs": [
    {
     "data": {
      "text/html": [
       "<div>\n",
       "<style scoped>\n",
       "    .dataframe tbody tr th:only-of-type {\n",
       "        vertical-align: middle;\n",
       "    }\n",
       "\n",
       "    .dataframe tbody tr th {\n",
       "        vertical-align: top;\n",
       "    }\n",
       "\n",
       "    .dataframe thead th {\n",
       "        text-align: right;\n",
       "    }\n",
       "</style>\n",
       "<table border=\"1\" class=\"dataframe\">\n",
       "  <thead>\n",
       "    <tr style=\"text-align: right;\">\n",
       "      <th></th>\n",
       "      <th>NSW1</th>\n",
       "      <th>QLD1</th>\n",
       "      <th>SA1</th>\n",
       "      <th>TAS1</th>\n",
       "      <th>VIC1</th>\n",
       "    </tr>\n",
       "  </thead>\n",
       "  <tbody>\n",
       "    <tr>\n",
       "      <th>2017-12-24 00:00:00</th>\n",
       "      <td>7255</td>\n",
       "      <td>6198</td>\n",
       "      <td>1580</td>\n",
       "      <td>1070</td>\n",
       "      <td>4630</td>\n",
       "    </tr>\n",
       "    <tr>\n",
       "      <th>2017-12-24 00:30:00</th>\n",
       "      <td>7028</td>\n",
       "      <td>5977</td>\n",
       "      <td>1513</td>\n",
       "      <td>1075</td>\n",
       "      <td>4433</td>\n",
       "    </tr>\n",
       "    <tr>\n",
       "      <th>2017-12-24 01:00:00</th>\n",
       "      <td>6805</td>\n",
       "      <td>5805</td>\n",
       "      <td>1448</td>\n",
       "      <td>1066</td>\n",
       "      <td>4286</td>\n",
       "    </tr>\n",
       "    <tr>\n",
       "      <th>2017-12-24 01:30:00</th>\n",
       "      <td>6513</td>\n",
       "      <td>5696</td>\n",
       "      <td>1358</td>\n",
       "      <td>1066</td>\n",
       "      <td>4159</td>\n",
       "    </tr>\n",
       "    <tr>\n",
       "      <th>2017-12-24 02:00:00</th>\n",
       "      <td>6301</td>\n",
       "      <td>5587</td>\n",
       "      <td>1310</td>\n",
       "      <td>1060</td>\n",
       "      <td>4010</td>\n",
       "    </tr>\n",
       "  </tbody>\n",
       "</table>\n",
       "</div>"
      ],
      "text/plain": [
       "                     NSW1  QLD1   SA1  TAS1  VIC1\n",
       "2017-12-24 00:00:00  7255  6198  1580  1070  4630\n",
       "2017-12-24 00:30:00  7028  5977  1513  1075  4433\n",
       "2017-12-24 01:00:00  6805  5805  1448  1066  4286\n",
       "2017-12-24 01:30:00  6513  5696  1358  1066  4159\n",
       "2017-12-24 02:00:00  6301  5587  1310  1060  4010"
      ]
     },
     "execution_count": 97,
     "metadata": {},
     "output_type": "execute_result"
    }
   ],
   "source": [
    "ftdf = pd.merge(pd.DataFrame(index=fulldtrange), tdf.iloc[:,:5], how='outer', left_index=True, right_index=True)\n",
    "ftdf.head()"
   ]
  },
  {
   "cell_type": "code",
   "execution_count": 100,
   "metadata": {},
   "outputs": [
    {
     "data": {
      "text/html": [
       "<div>\n",
       "<style scoped>\n",
       "    .dataframe tbody tr th:only-of-type {\n",
       "        vertical-align: middle;\n",
       "    }\n",
       "\n",
       "    .dataframe tbody tr th {\n",
       "        vertical-align: top;\n",
       "    }\n",
       "\n",
       "    .dataframe thead th {\n",
       "        text-align: right;\n",
       "    }\n",
       "</style>\n",
       "<table border=\"1\" class=\"dataframe\">\n",
       "  <thead>\n",
       "    <tr style=\"text-align: right;\">\n",
       "      <th></th>\n",
       "      <th>NSW1</th>\n",
       "      <th>QLD1</th>\n",
       "      <th>SA1</th>\n",
       "      <th>TAS1</th>\n",
       "      <th>VIC1</th>\n",
       "      <th>NEMtotal</th>\n",
       "    </tr>\n",
       "  </thead>\n",
       "  <tbody>\n",
       "    <tr>\n",
       "      <th>2017-12-24 00:00:00</th>\n",
       "      <td>7255</td>\n",
       "      <td>6198</td>\n",
       "      <td>1580</td>\n",
       "      <td>1070</td>\n",
       "      <td>4630</td>\n",
       "      <td>20733.0</td>\n",
       "    </tr>\n",
       "    <tr>\n",
       "      <th>2017-12-24 00:30:00</th>\n",
       "      <td>7028</td>\n",
       "      <td>5977</td>\n",
       "      <td>1513</td>\n",
       "      <td>1075</td>\n",
       "      <td>4433</td>\n",
       "      <td>20026.0</td>\n",
       "    </tr>\n",
       "    <tr>\n",
       "      <th>2017-12-24 01:00:00</th>\n",
       "      <td>6805</td>\n",
       "      <td>5805</td>\n",
       "      <td>1448</td>\n",
       "      <td>1066</td>\n",
       "      <td>4286</td>\n",
       "      <td>19410.0</td>\n",
       "    </tr>\n",
       "    <tr>\n",
       "      <th>2017-12-24 01:30:00</th>\n",
       "      <td>6513</td>\n",
       "      <td>5696</td>\n",
       "      <td>1358</td>\n",
       "      <td>1066</td>\n",
       "      <td>4159</td>\n",
       "      <td>18792.0</td>\n",
       "    </tr>\n",
       "    <tr>\n",
       "      <th>2017-12-24 02:00:00</th>\n",
       "      <td>6301</td>\n",
       "      <td>5587</td>\n",
       "      <td>1310</td>\n",
       "      <td>1060</td>\n",
       "      <td>4010</td>\n",
       "      <td>18268.0</td>\n",
       "    </tr>\n",
       "  </tbody>\n",
       "</table>\n",
       "</div>"
      ],
      "text/plain": [
       "                     NSW1  QLD1   SA1  TAS1  VIC1  NEMtotal\n",
       "2017-12-24 00:00:00  7255  6198  1580  1070  4630   20733.0\n",
       "2017-12-24 00:30:00  7028  5977  1513  1075  4433   20026.0\n",
       "2017-12-24 01:00:00  6805  5805  1448  1066  4286   19410.0\n",
       "2017-12-24 01:30:00  6513  5696  1358  1066  4159   18792.0\n",
       "2017-12-24 02:00:00  6301  5587  1310  1060  4010   18268.0"
      ]
     },
     "execution_count": 100,
     "metadata": {},
     "output_type": "execute_result"
    }
   ],
   "source": [
    "ftdf[\"NEMtotal\"] = ftdf.iloc[:,:5].sum(axis=1)\n",
    "ftdf.head()"
   ]
  },
  {
   "cell_type": "code",
   "execution_count": 104,
   "metadata": {},
   "outputs": [
    {
     "data": {
      "text/html": [
       "<div>\n",
       "<style scoped>\n",
       "    .dataframe tbody tr th:only-of-type {\n",
       "        vertical-align: middle;\n",
       "    }\n",
       "\n",
       "    .dataframe tbody tr th {\n",
       "        vertical-align: top;\n",
       "    }\n",
       "\n",
       "    .dataframe thead th {\n",
       "        text-align: right;\n",
       "    }\n",
       "</style>\n",
       "<table border=\"1\" class=\"dataframe\">\n",
       "  <thead>\n",
       "    <tr style=\"text-align: right;\">\n",
       "      <th></th>\n",
       "      <th>NSW1</th>\n",
       "      <th>QLD1</th>\n",
       "      <th>SA1</th>\n",
       "      <th>TAS1</th>\n",
       "      <th>VIC1</th>\n",
       "      <th>NEMtotal</th>\n",
       "      <th>ISSUED</th>\n",
       "    </tr>\n",
       "  </thead>\n",
       "  <tbody>\n",
       "    <tr>\n",
       "      <th>2017-12-24 00:00:00</th>\n",
       "      <td>7255</td>\n",
       "      <td>6198</td>\n",
       "      <td>1580</td>\n",
       "      <td>1070</td>\n",
       "      <td>4630</td>\n",
       "      <td>20733.0</td>\n",
       "      <td>2017-12-24 00:00:51</td>\n",
       "    </tr>\n",
       "    <tr>\n",
       "      <th>2017-12-24 00:30:00</th>\n",
       "      <td>7028</td>\n",
       "      <td>5977</td>\n",
       "      <td>1513</td>\n",
       "      <td>1075</td>\n",
       "      <td>4433</td>\n",
       "      <td>20026.0</td>\n",
       "      <td>2017-12-24 00:30:22</td>\n",
       "    </tr>\n",
       "    <tr>\n",
       "      <th>2017-12-24 01:00:00</th>\n",
       "      <td>6805</td>\n",
       "      <td>5805</td>\n",
       "      <td>1448</td>\n",
       "      <td>1066</td>\n",
       "      <td>4286</td>\n",
       "      <td>19410.0</td>\n",
       "      <td>2017-12-24 01:01:16</td>\n",
       "    </tr>\n",
       "    <tr>\n",
       "      <th>2017-12-24 01:30:00</th>\n",
       "      <td>6513</td>\n",
       "      <td>5696</td>\n",
       "      <td>1358</td>\n",
       "      <td>1066</td>\n",
       "      <td>4159</td>\n",
       "      <td>18792.0</td>\n",
       "      <td>2017-12-24 01:30:47</td>\n",
       "    </tr>\n",
       "    <tr>\n",
       "      <th>2017-12-24 02:00:00</th>\n",
       "      <td>6301</td>\n",
       "      <td>5587</td>\n",
       "      <td>1310</td>\n",
       "      <td>1060</td>\n",
       "      <td>4010</td>\n",
       "      <td>18268.0</td>\n",
       "      <td>2017-12-24 02:00:19</td>\n",
       "    </tr>\n",
       "  </tbody>\n",
       "</table>\n",
       "</div>"
      ],
      "text/plain": [
       "                     NSW1  QLD1   SA1  TAS1  VIC1  NEMtotal  \\\n",
       "2017-12-24 00:00:00  7255  6198  1580  1070  4630   20733.0   \n",
       "2017-12-24 00:30:00  7028  5977  1513  1075  4433   20026.0   \n",
       "2017-12-24 01:00:00  6805  5805  1448  1066  4286   19410.0   \n",
       "2017-12-24 01:30:00  6513  5696  1358  1066  4159   18792.0   \n",
       "2017-12-24 02:00:00  6301  5587  1310  1060  4010   18268.0   \n",
       "\n",
       "                                  ISSUED  \n",
       "2017-12-24 00:00:00  2017-12-24 00:00:51  \n",
       "2017-12-24 00:30:00  2017-12-24 00:30:22  \n",
       "2017-12-24 01:00:00  2017-12-24 01:01:16  \n",
       "2017-12-24 01:30:00  2017-12-24 01:30:47  \n",
       "2017-12-24 02:00:00  2017-12-24 02:00:19  "
      ]
     },
     "execution_count": 104,
     "metadata": {},
     "output_type": "execute_result"
    }
   ],
   "source": [
    "ftdf = ftdf.merge(tdf[[\"ISSUED\"]], how='outer', right_index=True, left_index=True)\n",
    "ftdf.head()"
   ]
  },
  {
   "cell_type": "code",
   "execution_count": 105,
   "metadata": {},
   "outputs": [],
   "source": [
    "ftdf.to_csv(\"Tdf-NEMtotal_demand_20171224-2018119.csv\")"
   ]
  },
  {
   "cell_type": "code",
   "execution_count": 79,
   "metadata": {},
   "outputs": [
    {
     "ename": "TypeError",
     "evalue": "invalid type promotion",
     "output_type": "error",
     "traceback": [
      "\u001b[0;31m---------------------------------------------------------------------------\u001b[0m",
      "\u001b[0;31mTypeError\u001b[0m                                 Traceback (most recent call last)",
      "\u001b[0;32m<ipython-input-79-5771818865cc>\u001b[0m in \u001b[0;36m<module>\u001b[0;34m\u001b[0m\n\u001b[1;32m      1\u001b[0m \u001b[0;31m# tdf = day_df.T\u001b[0m\u001b[0;34m\u001b[0m\u001b[0;34m\u001b[0m\u001b[0m\n\u001b[0;32m----> 2\u001b[0;31m \u001b[0mtdf\u001b[0m\u001b[0;34m.\u001b[0m\u001b[0mplot\u001b[0m\u001b[0;34m.\u001b[0m\u001b[0marea\u001b[0m\u001b[0;34m(\u001b[0m\u001b[0mfigsize\u001b[0m \u001b[0;34m=\u001b[0m \u001b[0;34m(\u001b[0m\u001b[0;36m14\u001b[0m\u001b[0;34m,\u001b[0m\u001b[0;36m14\u001b[0m\u001b[0;34m)\u001b[0m\u001b[0;34m)\u001b[0m\u001b[0;34m\u001b[0m\u001b[0m\n\u001b[0m\u001b[1;32m      3\u001b[0m \u001b[0mplt\u001b[0m\u001b[0;34m.\u001b[0m\u001b[0mshow\u001b[0m\u001b[0;34m(\u001b[0m\u001b[0;34m)\u001b[0m\u001b[0;34m\u001b[0m\u001b[0m\n",
      "\u001b[0;32m~/anaconda3/lib/python3.6/site-packages/pandas/plotting/_core.py\u001b[0m in \u001b[0;36marea\u001b[0;34m(self, x, y, **kwds)\u001b[0m\n\u001b[1;32m   3328\u001b[0m         \u001b[0maxes\u001b[0m \u001b[0;34m:\u001b[0m \u001b[0;34m:\u001b[0m\u001b[0;32mclass\u001b[0m\u001b[0;34m:\u001b[0m\u001b[0;31m`\u001b[0m\u001b[0mmatplotlib\u001b[0m\u001b[0;34m.\u001b[0m\u001b[0maxes\u001b[0m\u001b[0;34m.\u001b[0m\u001b[0mAxes\u001b[0m\u001b[0;31m`\u001b[0m \u001b[0;32mor\u001b[0m \u001b[0mnumpy\u001b[0m\u001b[0;34m.\u001b[0m\u001b[0mndarray\u001b[0m \u001b[0mof\u001b[0m \u001b[0mthem\u001b[0m\u001b[0;34m\u001b[0m\u001b[0m\n\u001b[1;32m   3329\u001b[0m         \"\"\"\n\u001b[0;32m-> 3330\u001b[0;31m         \u001b[0;32mreturn\u001b[0m \u001b[0mself\u001b[0m\u001b[0;34m(\u001b[0m\u001b[0mkind\u001b[0m\u001b[0;34m=\u001b[0m\u001b[0;34m'area'\u001b[0m\u001b[0;34m,\u001b[0m \u001b[0mx\u001b[0m\u001b[0;34m=\u001b[0m\u001b[0mx\u001b[0m\u001b[0;34m,\u001b[0m \u001b[0my\u001b[0m\u001b[0;34m=\u001b[0m\u001b[0my\u001b[0m\u001b[0;34m,\u001b[0m \u001b[0;34m**\u001b[0m\u001b[0mkwds\u001b[0m\u001b[0;34m)\u001b[0m\u001b[0;34m\u001b[0m\u001b[0m\n\u001b[0m\u001b[1;32m   3331\u001b[0m \u001b[0;34m\u001b[0m\u001b[0m\n\u001b[1;32m   3332\u001b[0m     \u001b[0;32mdef\u001b[0m \u001b[0mpie\u001b[0m\u001b[0;34m(\u001b[0m\u001b[0mself\u001b[0m\u001b[0;34m,\u001b[0m \u001b[0my\u001b[0m\u001b[0;34m=\u001b[0m\u001b[0;32mNone\u001b[0m\u001b[0;34m,\u001b[0m \u001b[0;34m**\u001b[0m\u001b[0mkwds\u001b[0m\u001b[0;34m)\u001b[0m\u001b[0;34m:\u001b[0m\u001b[0;34m\u001b[0m\u001b[0m\n",
      "\u001b[0;32m~/anaconda3/lib/python3.6/site-packages/pandas/plotting/_core.py\u001b[0m in \u001b[0;36m__call__\u001b[0;34m(self, x, y, kind, ax, subplots, sharex, sharey, layout, figsize, use_index, title, grid, legend, style, logx, logy, loglog, xticks, yticks, xlim, ylim, rot, fontsize, colormap, table, yerr, xerr, secondary_y, sort_columns, **kwds)\u001b[0m\n\u001b[1;32m   2939\u001b[0m                           \u001b[0mfontsize\u001b[0m\u001b[0;34m=\u001b[0m\u001b[0mfontsize\u001b[0m\u001b[0;34m,\u001b[0m \u001b[0mcolormap\u001b[0m\u001b[0;34m=\u001b[0m\u001b[0mcolormap\u001b[0m\u001b[0;34m,\u001b[0m \u001b[0mtable\u001b[0m\u001b[0;34m=\u001b[0m\u001b[0mtable\u001b[0m\u001b[0;34m,\u001b[0m\u001b[0;34m\u001b[0m\u001b[0m\n\u001b[1;32m   2940\u001b[0m                           \u001b[0myerr\u001b[0m\u001b[0;34m=\u001b[0m\u001b[0myerr\u001b[0m\u001b[0;34m,\u001b[0m \u001b[0mxerr\u001b[0m\u001b[0;34m=\u001b[0m\u001b[0mxerr\u001b[0m\u001b[0;34m,\u001b[0m \u001b[0msecondary_y\u001b[0m\u001b[0;34m=\u001b[0m\u001b[0msecondary_y\u001b[0m\u001b[0;34m,\u001b[0m\u001b[0;34m\u001b[0m\u001b[0m\n\u001b[0;32m-> 2941\u001b[0;31m                           sort_columns=sort_columns, **kwds)\n\u001b[0m\u001b[1;32m   2942\u001b[0m     \u001b[0m__call__\u001b[0m\u001b[0;34m.\u001b[0m\u001b[0m__doc__\u001b[0m \u001b[0;34m=\u001b[0m \u001b[0mplot_frame\u001b[0m\u001b[0;34m.\u001b[0m\u001b[0m__doc__\u001b[0m\u001b[0;34m\u001b[0m\u001b[0m\n\u001b[1;32m   2943\u001b[0m \u001b[0;34m\u001b[0m\u001b[0m\n",
      "\u001b[0;32m~/anaconda3/lib/python3.6/site-packages/pandas/plotting/_core.py\u001b[0m in \u001b[0;36mplot_frame\u001b[0;34m(data, x, y, kind, ax, subplots, sharex, sharey, layout, figsize, use_index, title, grid, legend, style, logx, logy, loglog, xticks, yticks, xlim, ylim, rot, fontsize, colormap, table, yerr, xerr, secondary_y, sort_columns, **kwds)\u001b[0m\n\u001b[1;32m   1975\u001b[0m                  \u001b[0myerr\u001b[0m\u001b[0;34m=\u001b[0m\u001b[0myerr\u001b[0m\u001b[0;34m,\u001b[0m \u001b[0mxerr\u001b[0m\u001b[0;34m=\u001b[0m\u001b[0mxerr\u001b[0m\u001b[0;34m,\u001b[0m\u001b[0;34m\u001b[0m\u001b[0m\n\u001b[1;32m   1976\u001b[0m                  \u001b[0msecondary_y\u001b[0m\u001b[0;34m=\u001b[0m\u001b[0msecondary_y\u001b[0m\u001b[0;34m,\u001b[0m \u001b[0msort_columns\u001b[0m\u001b[0;34m=\u001b[0m\u001b[0msort_columns\u001b[0m\u001b[0;34m,\u001b[0m\u001b[0;34m\u001b[0m\u001b[0m\n\u001b[0;32m-> 1977\u001b[0;31m                  **kwds)\n\u001b[0m\u001b[1;32m   1978\u001b[0m \u001b[0;34m\u001b[0m\u001b[0m\n\u001b[1;32m   1979\u001b[0m \u001b[0;34m\u001b[0m\u001b[0m\n",
      "\u001b[0;32m~/anaconda3/lib/python3.6/site-packages/pandas/plotting/_core.py\u001b[0m in \u001b[0;36m_plot\u001b[0;34m(data, x, y, subplots, ax, kind, **kwds)\u001b[0m\n\u001b[1;32m   1802\u001b[0m         \u001b[0mplot_obj\u001b[0m \u001b[0;34m=\u001b[0m \u001b[0mklass\u001b[0m\u001b[0;34m(\u001b[0m\u001b[0mdata\u001b[0m\u001b[0;34m,\u001b[0m \u001b[0msubplots\u001b[0m\u001b[0;34m=\u001b[0m\u001b[0msubplots\u001b[0m\u001b[0;34m,\u001b[0m \u001b[0max\u001b[0m\u001b[0;34m=\u001b[0m\u001b[0max\u001b[0m\u001b[0;34m,\u001b[0m \u001b[0mkind\u001b[0m\u001b[0;34m=\u001b[0m\u001b[0mkind\u001b[0m\u001b[0;34m,\u001b[0m \u001b[0;34m**\u001b[0m\u001b[0mkwds\u001b[0m\u001b[0;34m)\u001b[0m\u001b[0;34m\u001b[0m\u001b[0m\n\u001b[1;32m   1803\u001b[0m \u001b[0;34m\u001b[0m\u001b[0m\n\u001b[0;32m-> 1804\u001b[0;31m     \u001b[0mplot_obj\u001b[0m\u001b[0;34m.\u001b[0m\u001b[0mgenerate\u001b[0m\u001b[0;34m(\u001b[0m\u001b[0;34m)\u001b[0m\u001b[0;34m\u001b[0m\u001b[0m\n\u001b[0m\u001b[1;32m   1805\u001b[0m     \u001b[0mplot_obj\u001b[0m\u001b[0;34m.\u001b[0m\u001b[0mdraw\u001b[0m\u001b[0;34m(\u001b[0m\u001b[0;34m)\u001b[0m\u001b[0;34m\u001b[0m\u001b[0m\n\u001b[1;32m   1806\u001b[0m     \u001b[0;32mreturn\u001b[0m \u001b[0mplot_obj\u001b[0m\u001b[0;34m.\u001b[0m\u001b[0mresult\u001b[0m\u001b[0;34m\u001b[0m\u001b[0m\n",
      "\u001b[0;32m~/anaconda3/lib/python3.6/site-packages/pandas/plotting/_core.py\u001b[0m in \u001b[0;36mgenerate\u001b[0;34m(self)\u001b[0m\n\u001b[1;32m    258\u001b[0m         \u001b[0mself\u001b[0m\u001b[0;34m.\u001b[0m\u001b[0m_compute_plot_data\u001b[0m\u001b[0;34m(\u001b[0m\u001b[0;34m)\u001b[0m\u001b[0;34m\u001b[0m\u001b[0m\n\u001b[1;32m    259\u001b[0m         \u001b[0mself\u001b[0m\u001b[0;34m.\u001b[0m\u001b[0m_setup_subplots\u001b[0m\u001b[0;34m(\u001b[0m\u001b[0;34m)\u001b[0m\u001b[0;34m\u001b[0m\u001b[0m\n\u001b[0;32m--> 260\u001b[0;31m         \u001b[0mself\u001b[0m\u001b[0;34m.\u001b[0m\u001b[0m_make_plot\u001b[0m\u001b[0;34m(\u001b[0m\u001b[0;34m)\u001b[0m\u001b[0;34m\u001b[0m\u001b[0m\n\u001b[0m\u001b[1;32m    261\u001b[0m         \u001b[0mself\u001b[0m\u001b[0;34m.\u001b[0m\u001b[0m_add_table\u001b[0m\u001b[0;34m(\u001b[0m\u001b[0;34m)\u001b[0m\u001b[0;34m\u001b[0m\u001b[0m\n\u001b[1;32m    262\u001b[0m         \u001b[0mself\u001b[0m\u001b[0;34m.\u001b[0m\u001b[0m_make_legend\u001b[0m\u001b[0;34m(\u001b[0m\u001b[0;34m)\u001b[0m\u001b[0;34m\u001b[0m\u001b[0m\n",
      "\u001b[0;32m~/anaconda3/lib/python3.6/site-packages/pandas/plotting/_core.py\u001b[0m in \u001b[0;36m_make_plot\u001b[0;34m(self)\u001b[0m\n\u001b[1;32m    983\u001b[0m                              \u001b[0mstacking_id\u001b[0m\u001b[0;34m=\u001b[0m\u001b[0mstacking_id\u001b[0m\u001b[0;34m,\u001b[0m\u001b[0;34m\u001b[0m\u001b[0m\n\u001b[1;32m    984\u001b[0m                              \u001b[0mis_errorbar\u001b[0m\u001b[0;34m=\u001b[0m\u001b[0mis_errorbar\u001b[0m\u001b[0;34m,\u001b[0m\u001b[0;34m\u001b[0m\u001b[0m\n\u001b[0;32m--> 985\u001b[0;31m                              **kwds)\n\u001b[0m\u001b[1;32m    986\u001b[0m             \u001b[0mself\u001b[0m\u001b[0;34m.\u001b[0m\u001b[0m_add_legend_handle\u001b[0m\u001b[0;34m(\u001b[0m\u001b[0mnewlines\u001b[0m\u001b[0;34m[\u001b[0m\u001b[0;36m0\u001b[0m\u001b[0;34m]\u001b[0m\u001b[0;34m,\u001b[0m \u001b[0mlabel\u001b[0m\u001b[0;34m,\u001b[0m \u001b[0mindex\u001b[0m\u001b[0;34m=\u001b[0m\u001b[0mi\u001b[0m\u001b[0;34m)\u001b[0m\u001b[0;34m\u001b[0m\u001b[0m\n\u001b[1;32m    987\u001b[0m \u001b[0;34m\u001b[0m\u001b[0m\n",
      "\u001b[0;32m~/anaconda3/lib/python3.6/site-packages/pandas/plotting/_core.py\u001b[0m in \u001b[0;36m_plot\u001b[0;34m(cls, ax, x, y, style, column_num, stacking_id, is_errorbar, **kwds)\u001b[0m\n\u001b[1;32m   1111\u001b[0m         \u001b[0;32mif\u001b[0m \u001b[0mcolumn_num\u001b[0m \u001b[0;34m==\u001b[0m \u001b[0;36m0\u001b[0m\u001b[0;34m:\u001b[0m\u001b[0;34m\u001b[0m\u001b[0m\n\u001b[1;32m   1112\u001b[0m             \u001b[0mcls\u001b[0m\u001b[0;34m.\u001b[0m\u001b[0m_initialize_stacker\u001b[0m\u001b[0;34m(\u001b[0m\u001b[0max\u001b[0m\u001b[0;34m,\u001b[0m \u001b[0mstacking_id\u001b[0m\u001b[0;34m,\u001b[0m \u001b[0mlen\u001b[0m\u001b[0;34m(\u001b[0m\u001b[0my\u001b[0m\u001b[0;34m)\u001b[0m\u001b[0;34m)\u001b[0m\u001b[0;34m\u001b[0m\u001b[0m\n\u001b[0;32m-> 1113\u001b[0;31m         \u001b[0my_values\u001b[0m \u001b[0;34m=\u001b[0m \u001b[0mcls\u001b[0m\u001b[0;34m.\u001b[0m\u001b[0m_get_stacked_values\u001b[0m\u001b[0;34m(\u001b[0m\u001b[0max\u001b[0m\u001b[0;34m,\u001b[0m \u001b[0mstacking_id\u001b[0m\u001b[0;34m,\u001b[0m \u001b[0my\u001b[0m\u001b[0;34m,\u001b[0m \u001b[0mkwds\u001b[0m\u001b[0;34m[\u001b[0m\u001b[0;34m'label'\u001b[0m\u001b[0;34m]\u001b[0m\u001b[0;34m)\u001b[0m\u001b[0;34m\u001b[0m\u001b[0m\n\u001b[0m\u001b[1;32m   1114\u001b[0m \u001b[0;34m\u001b[0m\u001b[0m\n\u001b[1;32m   1115\u001b[0m         \u001b[0;31m# need to remove label, because subplots uses mpl legend as it is\u001b[0m\u001b[0;34m\u001b[0m\u001b[0;34m\u001b[0m\u001b[0m\n",
      "\u001b[0;32m~/anaconda3/lib/python3.6/site-packages/pandas/plotting/_core.py\u001b[0m in \u001b[0;36m_get_stacked_values\u001b[0;34m(cls, ax, stacking_id, values, label)\u001b[0m\n\u001b[1;32m   1052\u001b[0m             \u001b[0mcls\u001b[0m\u001b[0;34m.\u001b[0m\u001b[0m_initialize_stacker\u001b[0m\u001b[0;34m(\u001b[0m\u001b[0max\u001b[0m\u001b[0;34m,\u001b[0m \u001b[0mstacking_id\u001b[0m\u001b[0;34m,\u001b[0m \u001b[0mlen\u001b[0m\u001b[0;34m(\u001b[0m\u001b[0mvalues\u001b[0m\u001b[0;34m)\u001b[0m\u001b[0;34m)\u001b[0m\u001b[0;34m\u001b[0m\u001b[0m\n\u001b[1;32m   1053\u001b[0m \u001b[0;34m\u001b[0m\u001b[0m\n\u001b[0;32m-> 1054\u001b[0;31m         \u001b[0;32mif\u001b[0m \u001b[0;34m(\u001b[0m\u001b[0mvalues\u001b[0m \u001b[0;34m>=\u001b[0m \u001b[0;36m0\u001b[0m\u001b[0;34m)\u001b[0m\u001b[0;34m.\u001b[0m\u001b[0mall\u001b[0m\u001b[0;34m(\u001b[0m\u001b[0;34m)\u001b[0m\u001b[0;34m:\u001b[0m\u001b[0;34m\u001b[0m\u001b[0m\n\u001b[0m\u001b[1;32m   1055\u001b[0m             \u001b[0;32mreturn\u001b[0m \u001b[0max\u001b[0m\u001b[0;34m.\u001b[0m\u001b[0m_stacker_pos_prior\u001b[0m\u001b[0;34m[\u001b[0m\u001b[0mstacking_id\u001b[0m\u001b[0;34m]\u001b[0m \u001b[0;34m+\u001b[0m \u001b[0mvalues\u001b[0m\u001b[0;34m\u001b[0m\u001b[0m\n\u001b[1;32m   1056\u001b[0m         \u001b[0;32melif\u001b[0m \u001b[0;34m(\u001b[0m\u001b[0mvalues\u001b[0m \u001b[0;34m<=\u001b[0m \u001b[0;36m0\u001b[0m\u001b[0;34m)\u001b[0m\u001b[0;34m.\u001b[0m\u001b[0mall\u001b[0m\u001b[0;34m(\u001b[0m\u001b[0;34m)\u001b[0m\u001b[0;34m:\u001b[0m\u001b[0;34m\u001b[0m\u001b[0m\n",
      "\u001b[0;31mTypeError\u001b[0m: invalid type promotion"
     ]
    },
    {
     "data": {
      "image/png": "[encoded data removed]",
      "text/plain": [
       "<Figure size 1008x1008 with 1 Axes>"
      ]
     },
     "metadata": {
      "needs_background": "light"
     },
     "output_type": "display_data"
    }
   ],
   "source": [
    "# tdf = day_df.T\n",
    "tdf.plot.area(figsize = (14,14))\n",
    "plt.show()"
   ]
  },
  {
   "cell_type": "code",
   "execution_count": null,
   "metadata": {},
   "outputs": [],
   "source": [
    "tdf.NSW1"
   ]
  },
  {
   "cell_type": "code",
   "execution_count": 78,
   "metadata": {},
   "outputs": [
    {
     "data": {
      "text/plain": [
       "(18480, 6)"
      ]
     },
     "execution_count": 78,
     "metadata": {},
     "output_type": "execute_result"
    }
   ],
   "source": [
    "tdf.shape"
   ]
  },
  {
   "cell_type": "code",
   "execution_count": null,
   "metadata": {},
   "outputs": [],
   "source": [
    "fig1, ax1 = plt.subplots(figsize = (12,12))\n",
    "\n",
    "# ax1.scatter(x=tdf.index, y=tdf.NSW1)\n",
    "ax1.plot(x=tdf.NSW1.index, y=tdf.NSW1.values)\n",
    "ax1.set_xlim(left = pd.to_datetime(\"2017-12-24 0:00\"), right = pd.to_datetime(\"2017-12-31 0:00\"))\n",
    "ax1.set_ylim(bottom=0, top=30000)"
   ]
  },
  {
   "cell_type": "code",
   "execution_count": null,
   "metadata": {},
   "outputs": [],
   "source": []
  },
  {
   "cell_type": "code",
   "execution_count": null,
   "metadata": {},
   "outputs": [],
   "source": []
  },
  {
   "cell_type": "code",
   "execution_count": null,
   "metadata": {},
   "outputs": [],
   "source": []
  },
  {
   "cell_type": "code",
   "execution_count": null,
   "metadata": {},
   "outputs": [],
   "source": []
  },
  {
   "cell_type": "code",
   "execution_count": null,
   "metadata": {},
   "outputs": [],
   "source": []
  },
  {
   "cell_type": "code",
   "execution_count": null,
   "metadata": {},
   "outputs": [],
   "source": []
  }
 ],
 "metadata": {
  "kernelspec": {
   "display_name": "Python 3",
   "language": "python",
   "name": "python3"
  },
  "language_info": {
   "codemirror_mode": {
    "name": "ipython",
    "version": 3
   },
   "file_extension": ".py",
   "mimetype": "text/x-python",
   "name": "python",
   "nbconvert_exporter": "python",
   "pygments_lexer": "ipython3",
   "version": "3.6.8"
  }
 },
 "nbformat": 4,
 "nbformat_minor": 2
}

