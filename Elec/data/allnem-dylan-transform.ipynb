{
 "cells": [
  {
   "cell_type": "code",
   "execution_count": 1,
   "metadata": {},
   "outputs": [],
   "source": [
    "import numpy as np\n",
    "import pandas as pd\n",
    "import matplotlib.pyplot as plt\n",
    "import seaborn as sns\n",
    "from glob import glob"
   ]
  },
  {
   "cell_type": "code",
   "execution_count": 2,
   "metadata": {},
   "outputs": [
    {
     "data": {
      "text/plain": [
       "['TRADING_PRICE_DEMAND.csv']"
      ]
     },
     "execution_count": 2,
     "metadata": {},
     "output_type": "execute_result"
    }
   ],
   "source": [
    "glob(\"*.csv\")"
   ]
  },
  {
   "cell_type": "code",
   "execution_count": 3,
   "metadata": {},
   "outputs": [
    {
     "data": {
      "text/html": [
       "<div>\n",
       "<style scoped>\n",
       "    .dataframe tbody tr th:only-of-type {\n",
       "        vertical-align: middle;\n",
       "    }\n",
       "\n",
       "    .dataframe tbody tr th {\n",
       "        vertical-align: top;\n",
       "    }\n",
       "\n",
       "    .dataframe thead th {\n",
       "        text-align: right;\n",
       "    }\n",
       "</style>\n",
       "<table border=\"1\" class=\"dataframe\">\n",
       "  <thead>\n",
       "    <tr style=\"text-align: right;\">\n",
       "      <th></th>\n",
       "      <th>SETTLEMENTDATE</th>\n",
       "      <th>REGIONID</th>\n",
       "      <th>RRP</th>\n",
       "      <th>TOTALDEMAND</th>\n",
       "    </tr>\n",
       "  </thead>\n",
       "  <tbody>\n",
       "    <tr>\n",
       "      <th>0</th>\n",
       "      <td>2009-01-01 00:30:00</td>\n",
       "      <td>QLD1</td>\n",
       "      <td>17.63</td>\n",
       "      <td>5611.54</td>\n",
       "    </tr>\n",
       "    <tr>\n",
       "      <th>1</th>\n",
       "      <td>2009-01-01 00:30:00</td>\n",
       "      <td>VIC1</td>\n",
       "      <td>16.76</td>\n",
       "      <td>4799.87</td>\n",
       "    </tr>\n",
       "    <tr>\n",
       "      <th>2</th>\n",
       "      <td>2009-01-01 00:30:00</td>\n",
       "      <td>NSW1</td>\n",
       "      <td>18.38</td>\n",
       "      <td>7535.00</td>\n",
       "    </tr>\n",
       "    <tr>\n",
       "      <th>3</th>\n",
       "      <td>2009-01-01 00:30:00</td>\n",
       "      <td>SA1</td>\n",
       "      <td>21.87</td>\n",
       "      <td>1310.89</td>\n",
       "    </tr>\n",
       "    <tr>\n",
       "      <th>4</th>\n",
       "      <td>2009-01-01 00:30:00</td>\n",
       "      <td>TAS1</td>\n",
       "      <td>25.20</td>\n",
       "      <td>909.71</td>\n",
       "    </tr>\n",
       "  </tbody>\n",
       "</table>\n",
       "</div>"
      ],
      "text/plain": [
       "       SETTLEMENTDATE REGIONID    RRP  TOTALDEMAND\n",
       "0 2009-01-01 00:30:00     QLD1  17.63      5611.54\n",
       "1 2009-01-01 00:30:00     VIC1  16.76      4799.87\n",
       "2 2009-01-01 00:30:00     NSW1  18.38      7535.00\n",
       "3 2009-01-01 00:30:00      SA1  21.87      1310.89\n",
       "4 2009-01-01 00:30:00     TAS1  25.20       909.71"
      ]
     },
     "execution_count": 3,
     "metadata": {},
     "output_type": "execute_result"
    }
   ],
   "source": [
    "nemdf = pd.read_csv('TRADING_PRICE_DEMAND.csv', parse_dates=[\"SETTLEMENTDATE\"])\n",
    "nemdf.head()"
   ]
  },
  {
   "cell_type": "code",
   "execution_count": 4,
   "metadata": {},
   "outputs": [
    {
     "name": "stdout",
     "output_type": "stream",
     "text": [
      "<class 'pandas.core.frame.DataFrame'>\n",
      "RangeIndex: 876475 entries, 0 to 876474\n",
      "Data columns (total 4 columns):\n",
      "SETTLEMENTDATE    876475 non-null datetime64[ns]\n",
      "REGIONID          876475 non-null object\n",
      "RRP               876475 non-null float64\n",
      "TOTALDEMAND       876475 non-null float64\n",
      "dtypes: datetime64[ns](1), float64(2), object(1)\n",
      "memory usage: 26.7+ MB\n"
     ]
    }
   ],
   "source": [
    "nemdf.info()"
   ]
  },
  {
   "cell_type": "code",
   "execution_count": null,
   "metadata": {},
   "outputs": [],
   "source": []
  },
  {
   "cell_type": "code",
   "execution_count": 5,
   "metadata": {},
   "outputs": [
    {
     "data": {
      "text/html": [
       "<div>\n",
       "<style scoped>\n",
       "    .dataframe tbody tr th:only-of-type {\n",
       "        vertical-align: middle;\n",
       "    }\n",
       "\n",
       "    .dataframe tbody tr th {\n",
       "        vertical-align: top;\n",
       "    }\n",
       "\n",
       "    .dataframe thead th {\n",
       "        text-align: right;\n",
       "    }\n",
       "</style>\n",
       "<table border=\"1\" class=\"dataframe\">\n",
       "  <thead>\n",
       "    <tr style=\"text-align: right;\">\n",
       "      <th>REGIONID</th>\n",
       "      <th>NSW1</th>\n",
       "      <th>QLD1</th>\n",
       "      <th>SA1</th>\n",
       "      <th>TAS1</th>\n",
       "      <th>VIC1</th>\n",
       "    </tr>\n",
       "    <tr>\n",
       "      <th>SETTLEMENTDATE</th>\n",
       "      <th></th>\n",
       "      <th></th>\n",
       "      <th></th>\n",
       "      <th></th>\n",
       "      <th></th>\n",
       "    </tr>\n",
       "  </thead>\n",
       "  <tbody>\n",
       "    <tr>\n",
       "      <th>2009-01-01 00:30:00</th>\n",
       "      <td>7535.00</td>\n",
       "      <td>5611.54</td>\n",
       "      <td>1310.89</td>\n",
       "      <td>909.71</td>\n",
       "      <td>4799.87</td>\n",
       "    </tr>\n",
       "    <tr>\n",
       "      <th>2009-01-01 01:00:00</th>\n",
       "      <td>7229.24</td>\n",
       "      <td>5457.34</td>\n",
       "      <td>1272.69</td>\n",
       "      <td>896.63</td>\n",
       "      <td>4646.21</td>\n",
       "    </tr>\n",
       "    <tr>\n",
       "      <th>2009-01-01 01:30:00</th>\n",
       "      <td>6857.62</td>\n",
       "      <td>5294.12</td>\n",
       "      <td>1178.87</td>\n",
       "      <td>897.52</td>\n",
       "      <td>4950.16</td>\n",
       "    </tr>\n",
       "    <tr>\n",
       "      <th>2009-01-01 02:00:00</th>\n",
       "      <td>6535.05</td>\n",
       "      <td>5153.47</td>\n",
       "      <td>1130.78</td>\n",
       "      <td>906.22</td>\n",
       "      <td>4755.46</td>\n",
       "    </tr>\n",
       "    <tr>\n",
       "      <th>2009-01-01 02:30:00</th>\n",
       "      <td>6287.88</td>\n",
       "      <td>5060.33</td>\n",
       "      <td>1059.53</td>\n",
       "      <td>893.19</td>\n",
       "      <td>4545.67</td>\n",
       "    </tr>\n",
       "  </tbody>\n",
       "</table>\n",
       "</div>"
      ],
      "text/plain": [
       "REGIONID                NSW1     QLD1      SA1    TAS1     VIC1\n",
       "SETTLEMENTDATE                                                 \n",
       "2009-01-01 00:30:00  7535.00  5611.54  1310.89  909.71  4799.87\n",
       "2009-01-01 01:00:00  7229.24  5457.34  1272.69  896.63  4646.21\n",
       "2009-01-01 01:30:00  6857.62  5294.12  1178.87  897.52  4950.16\n",
       "2009-01-01 02:00:00  6535.05  5153.47  1130.78  906.22  4755.46\n",
       "2009-01-01 02:30:00  6287.88  5060.33  1059.53  893.19  4545.67"
      ]
     },
     "execution_count": 5,
     "metadata": {},
     "output_type": "execute_result"
    }
   ],
   "source": [
    "pvnem = nemdf.pivot_table(values='TOTALDEMAND', index='SETTLEMENTDATE', columns='REGIONID')\n",
    "pvnem.head()"
   ]
  },
  {
   "cell_type": "code",
   "execution_count": 6,
   "metadata": {},
   "outputs": [
    {
     "data": {
      "text/html": [
       "<div>\n",
       "<style scoped>\n",
       "    .dataframe tbody tr th:only-of-type {\n",
       "        vertical-align: middle;\n",
       "    }\n",
       "\n",
       "    .dataframe tbody tr th {\n",
       "        vertical-align: top;\n",
       "    }\n",
       "\n",
       "    .dataframe thead th {\n",
       "        text-align: right;\n",
       "    }\n",
       "</style>\n",
       "<table border=\"1\" class=\"dataframe\">\n",
       "  <thead>\n",
       "    <tr style=\"text-align: right;\">\n",
       "      <th>REGIONID</th>\n",
       "      <th>NSW1</th>\n",
       "      <th>QLD1</th>\n",
       "      <th>SA1</th>\n",
       "      <th>TAS1</th>\n",
       "      <th>VIC1</th>\n",
       "    </tr>\n",
       "    <tr>\n",
       "      <th>SETTLEMENTDATE</th>\n",
       "      <th></th>\n",
       "      <th></th>\n",
       "      <th></th>\n",
       "      <th></th>\n",
       "      <th></th>\n",
       "    </tr>\n",
       "  </thead>\n",
       "  <tbody>\n",
       "    <tr>\n",
       "      <th>2018-12-31 22:00:00</th>\n",
       "      <td>8053.74</td>\n",
       "      <td>6663.50</td>\n",
       "      <td>1325.86</td>\n",
       "      <td>1049.19</td>\n",
       "      <td>4292.49</td>\n",
       "    </tr>\n",
       "    <tr>\n",
       "      <th>2018-12-31 22:30:00</th>\n",
       "      <td>8043.91</td>\n",
       "      <td>6599.79</td>\n",
       "      <td>1323.90</td>\n",
       "      <td>1061.77</td>\n",
       "      <td>4257.85</td>\n",
       "    </tr>\n",
       "    <tr>\n",
       "      <th>2018-12-31 23:00:00</th>\n",
       "      <td>7901.73</td>\n",
       "      <td>6511.35</td>\n",
       "      <td>1312.90</td>\n",
       "      <td>1046.08</td>\n",
       "      <td>4247.55</td>\n",
       "    </tr>\n",
       "    <tr>\n",
       "      <th>2018-12-31 23:30:00</th>\n",
       "      <td>7720.44</td>\n",
       "      <td>6283.71</td>\n",
       "      <td>1313.37</td>\n",
       "      <td>1022.57</td>\n",
       "      <td>4439.96</td>\n",
       "    </tr>\n",
       "    <tr>\n",
       "      <th>2019-01-01 00:00:00</th>\n",
       "      <td>7612.74</td>\n",
       "      <td>6104.63</td>\n",
       "      <td>1472.42</td>\n",
       "      <td>1024.83</td>\n",
       "      <td>4486.20</td>\n",
       "    </tr>\n",
       "  </tbody>\n",
       "</table>\n",
       "</div>"
      ],
      "text/plain": [
       "REGIONID                NSW1     QLD1      SA1     TAS1     VIC1\n",
       "SETTLEMENTDATE                                                  \n",
       "2018-12-31 22:00:00  8053.74  6663.50  1325.86  1049.19  4292.49\n",
       "2018-12-31 22:30:00  8043.91  6599.79  1323.90  1061.77  4257.85\n",
       "2018-12-31 23:00:00  7901.73  6511.35  1312.90  1046.08  4247.55\n",
       "2018-12-31 23:30:00  7720.44  6283.71  1313.37  1022.57  4439.96\n",
       "2019-01-01 00:00:00  7612.74  6104.63  1472.42  1024.83  4486.20"
      ]
     },
     "execution_count": 6,
     "metadata": {},
     "output_type": "execute_result"
    }
   ],
   "source": [
    "pvnem.tail()"
   ]
  },
  {
   "cell_type": "code",
   "execution_count": 7,
   "metadata": {},
   "outputs": [
    {
     "data": {
      "text/html": [
       "<div>\n",
       "<style scoped>\n",
       "    .dataframe tbody tr th:only-of-type {\n",
       "        vertical-align: middle;\n",
       "    }\n",
       "\n",
       "    .dataframe tbody tr th {\n",
       "        vertical-align: top;\n",
       "    }\n",
       "\n",
       "    .dataframe thead th {\n",
       "        text-align: right;\n",
       "    }\n",
       "</style>\n",
       "<table border=\"1\" class=\"dataframe\">\n",
       "  <thead>\n",
       "    <tr style=\"text-align: right;\">\n",
       "      <th></th>\n",
       "      <th>SETTLEMENTDATE</th>\n",
       "    </tr>\n",
       "  </thead>\n",
       "  <tbody>\n",
       "    <tr>\n",
       "      <th>2012-06-21 11:30:00</th>\n",
       "      <td>5</td>\n",
       "    </tr>\n",
       "    <tr>\n",
       "      <th>2010-11-02 05:30:00</th>\n",
       "      <td>5</td>\n",
       "    </tr>\n",
       "    <tr>\n",
       "      <th>2009-02-17 14:00:00</th>\n",
       "      <td>5</td>\n",
       "    </tr>\n",
       "    <tr>\n",
       "      <th>2016-12-28 22:30:00</th>\n",
       "      <td>5</td>\n",
       "    </tr>\n",
       "    <tr>\n",
       "      <th>2013-02-25 01:00:00</th>\n",
       "      <td>5</td>\n",
       "    </tr>\n",
       "  </tbody>\n",
       "</table>\n",
       "</div>"
      ],
      "text/plain": [
       "                     SETTLEMENTDATE\n",
       "2012-06-21 11:30:00               5\n",
       "2010-11-02 05:30:00               5\n",
       "2009-02-17 14:00:00               5\n",
       "2016-12-28 22:30:00               5\n",
       "2013-02-25 01:00:00               5"
      ]
     },
     "execution_count": 7,
     "metadata": {},
     "output_type": "execute_result"
    }
   ],
   "source": [
    "vc = pd.DataFrame(nemdf.SETTLEMENTDATE.value_counts())\n",
    "vc.head()"
   ]
  },
  {
   "cell_type": "code",
   "execution_count": 8,
   "metadata": {},
   "outputs": [
    {
     "data": {
      "text/html": [
       "<div>\n",
       "<style scoped>\n",
       "    .dataframe tbody tr th:only-of-type {\n",
       "        vertical-align: middle;\n",
       "    }\n",
       "\n",
       "    .dataframe tbody tr th {\n",
       "        vertical-align: top;\n",
       "    }\n",
       "\n",
       "    .dataframe thead th {\n",
       "        text-align: right;\n",
       "    }\n",
       "</style>\n",
       "<table border=\"1\" class=\"dataframe\">\n",
       "  <thead>\n",
       "    <tr style=\"text-align: right;\">\n",
       "      <th></th>\n",
       "      <th>SETTLEMENTDATE</th>\n",
       "    </tr>\n",
       "  </thead>\n",
       "  <tbody>\n",
       "  </tbody>\n",
       "</table>\n",
       "</div>"
      ],
      "text/plain": [
       "Empty DataFrame\n",
       "Columns: [SETTLEMENTDATE]\n",
       "Index: []"
      ]
     },
     "execution_count": 8,
     "metadata": {},
     "output_type": "execute_result"
    }
   ],
   "source": [
    "vc[vc.SETTLEMENTDATE != 5]"
   ]
  },
  {
   "cell_type": "code",
   "execution_count": 9,
   "metadata": {},
   "outputs": [],
   "source": [
    "pvnem.to_csv(\"2009-18_NEMdemand.csv\")"
   ]
  },
  {
   "cell_type": "code",
   "execution_count": 10,
   "metadata": {},
   "outputs": [
    {
     "data": {
      "text/html": [
       "<div>\n",
       "<style scoped>\n",
       "    .dataframe tbody tr th:only-of-type {\n",
       "        vertical-align: middle;\n",
       "    }\n",
       "\n",
       "    .dataframe tbody tr th {\n",
       "        vertical-align: top;\n",
       "    }\n",
       "\n",
       "    .dataframe thead th {\n",
       "        text-align: right;\n",
       "    }\n",
       "</style>\n",
       "<table border=\"1\" class=\"dataframe\">\n",
       "  <thead>\n",
       "    <tr style=\"text-align: right;\">\n",
       "      <th></th>\n",
       "      <th>NSW1</th>\n",
       "      <th>QLD1</th>\n",
       "      <th>SA1</th>\n",
       "      <th>TAS1</th>\n",
       "      <th>VIC1</th>\n",
       "    </tr>\n",
       "    <tr>\n",
       "      <th>SETTLEMENTDATE</th>\n",
       "      <th></th>\n",
       "      <th></th>\n",
       "      <th></th>\n",
       "      <th></th>\n",
       "      <th></th>\n",
       "    </tr>\n",
       "  </thead>\n",
       "  <tbody>\n",
       "    <tr>\n",
       "      <th>2009-01-01 00:30:00</th>\n",
       "      <td>7535.00</td>\n",
       "      <td>5611.54</td>\n",
       "      <td>1310.89</td>\n",
       "      <td>909.71</td>\n",
       "      <td>4799.87</td>\n",
       "    </tr>\n",
       "    <tr>\n",
       "      <th>2009-01-01 01:00:00</th>\n",
       "      <td>7229.24</td>\n",
       "      <td>5457.34</td>\n",
       "      <td>1272.69</td>\n",
       "      <td>896.63</td>\n",
       "      <td>4646.21</td>\n",
       "    </tr>\n",
       "    <tr>\n",
       "      <th>2009-01-01 01:30:00</th>\n",
       "      <td>6857.62</td>\n",
       "      <td>5294.12</td>\n",
       "      <td>1178.87</td>\n",
       "      <td>897.52</td>\n",
       "      <td>4950.16</td>\n",
       "    </tr>\n",
       "    <tr>\n",
       "      <th>2009-01-01 02:00:00</th>\n",
       "      <td>6535.05</td>\n",
       "      <td>5153.47</td>\n",
       "      <td>1130.78</td>\n",
       "      <td>906.22</td>\n",
       "      <td>4755.46</td>\n",
       "    </tr>\n",
       "    <tr>\n",
       "      <th>2009-01-01 02:30:00</th>\n",
       "      <td>6287.88</td>\n",
       "      <td>5060.33</td>\n",
       "      <td>1059.53</td>\n",
       "      <td>893.19</td>\n",
       "      <td>4545.67</td>\n",
       "    </tr>\n",
       "  </tbody>\n",
       "</table>\n",
       "</div>"
      ],
      "text/plain": [
       "                        NSW1     QLD1      SA1    TAS1     VIC1\n",
       "SETTLEMENTDATE                                                 \n",
       "2009-01-01 00:30:00  7535.00  5611.54  1310.89  909.71  4799.87\n",
       "2009-01-01 01:00:00  7229.24  5457.34  1272.69  896.63  4646.21\n",
       "2009-01-01 01:30:00  6857.62  5294.12  1178.87  897.52  4950.16\n",
       "2009-01-01 02:00:00  6535.05  5153.47  1130.78  906.22  4755.46\n",
       "2009-01-01 02:30:00  6287.88  5060.33  1059.53  893.19  4545.67"
      ]
     },
     "execution_count": 10,
     "metadata": {},
     "output_type": "execute_result"
    }
   ],
   "source": [
    "df = pd.read_csv(\"2009-18_NEMdemand.csv\", index_col=0, parse_dates=['SETTLEMENTDATE'])\n",
    "df.head()"
   ]
  },
  {
   "cell_type": "code",
   "execution_count": 11,
   "metadata": {},
   "outputs": [
    {
     "name": "stdout",
     "output_type": "stream",
     "text": [
      "<class 'pandas.core.frame.DataFrame'>\n",
      "DatetimeIndex: 175295 entries, 2009-01-01 00:30:00 to 2019-01-01 00:00:00\n",
      "Data columns (total 5 columns):\n",
      "NSW1    175295 non-null float64\n",
      "QLD1    175295 non-null float64\n",
      "SA1     175295 non-null float64\n",
      "TAS1    175295 non-null float64\n",
      "VIC1    175295 non-null float64\n",
      "dtypes: float64(5)\n",
      "memory usage: 8.0 MB\n"
     ]
    }
   ],
   "source": [
    "df.info()"
   ]
  },
  {
   "cell_type": "code",
   "execution_count": 12,
   "metadata": {},
   "outputs": [
    {
     "data": {
      "text/html": [
       "<div>\n",
       "<style scoped>\n",
       "    .dataframe tbody tr th:only-of-type {\n",
       "        vertical-align: middle;\n",
       "    }\n",
       "\n",
       "    .dataframe tbody tr th {\n",
       "        vertical-align: top;\n",
       "    }\n",
       "\n",
       "    .dataframe thead th {\n",
       "        text-align: right;\n",
       "    }\n",
       "</style>\n",
       "<table border=\"1\" class=\"dataframe\">\n",
       "  <thead>\n",
       "    <tr style=\"text-align: right;\">\n",
       "      <th></th>\n",
       "      <th>NSW1</th>\n",
       "      <th>QLD1</th>\n",
       "      <th>SA1</th>\n",
       "      <th>TAS1</th>\n",
       "      <th>VIC1</th>\n",
       "      <th>NEMtotal</th>\n",
       "    </tr>\n",
       "    <tr>\n",
       "      <th>SETTLEMENTDATE</th>\n",
       "      <th></th>\n",
       "      <th></th>\n",
       "      <th></th>\n",
       "      <th></th>\n",
       "      <th></th>\n",
       "      <th></th>\n",
       "    </tr>\n",
       "  </thead>\n",
       "  <tbody>\n",
       "    <tr>\n",
       "      <th>2009-01-01 00:30:00</th>\n",
       "      <td>7535.00</td>\n",
       "      <td>5611.54</td>\n",
       "      <td>1310.89</td>\n",
       "      <td>909.71</td>\n",
       "      <td>4799.87</td>\n",
       "      <td>20167.01</td>\n",
       "    </tr>\n",
       "    <tr>\n",
       "      <th>2009-01-01 01:00:00</th>\n",
       "      <td>7229.24</td>\n",
       "      <td>5457.34</td>\n",
       "      <td>1272.69</td>\n",
       "      <td>896.63</td>\n",
       "      <td>4646.21</td>\n",
       "      <td>19502.11</td>\n",
       "    </tr>\n",
       "    <tr>\n",
       "      <th>2009-01-01 01:30:00</th>\n",
       "      <td>6857.62</td>\n",
       "      <td>5294.12</td>\n",
       "      <td>1178.87</td>\n",
       "      <td>897.52</td>\n",
       "      <td>4950.16</td>\n",
       "      <td>19178.29</td>\n",
       "    </tr>\n",
       "    <tr>\n",
       "      <th>2009-01-01 02:00:00</th>\n",
       "      <td>6535.05</td>\n",
       "      <td>5153.47</td>\n",
       "      <td>1130.78</td>\n",
       "      <td>906.22</td>\n",
       "      <td>4755.46</td>\n",
       "      <td>18480.98</td>\n",
       "    </tr>\n",
       "    <tr>\n",
       "      <th>2009-01-01 02:30:00</th>\n",
       "      <td>6287.88</td>\n",
       "      <td>5060.33</td>\n",
       "      <td>1059.53</td>\n",
       "      <td>893.19</td>\n",
       "      <td>4545.67</td>\n",
       "      <td>17846.60</td>\n",
       "    </tr>\n",
       "  </tbody>\n",
       "</table>\n",
       "</div>"
      ],
      "text/plain": [
       "                        NSW1     QLD1      SA1    TAS1     VIC1  NEMtotal\n",
       "SETTLEMENTDATE                                                           \n",
       "2009-01-01 00:30:00  7535.00  5611.54  1310.89  909.71  4799.87  20167.01\n",
       "2009-01-01 01:00:00  7229.24  5457.34  1272.69  896.63  4646.21  19502.11\n",
       "2009-01-01 01:30:00  6857.62  5294.12  1178.87  897.52  4950.16  19178.29\n",
       "2009-01-01 02:00:00  6535.05  5153.47  1130.78  906.22  4755.46  18480.98\n",
       "2009-01-01 02:30:00  6287.88  5060.33  1059.53  893.19  4545.67  17846.60"
      ]
     },
     "execution_count": 12,
     "metadata": {},
     "output_type": "execute_result"
    }
   ],
   "source": [
    "df['NEMtotal'] = df.sum(axis=1)\n",
    "df.head()"
   ]
  },
  {
   "cell_type": "code",
   "execution_count": 13,
   "metadata": {},
   "outputs": [],
   "source": [
    "df.to_csv(\"2009-18_NEMtotaldemand.csv\")"
   ]
  },
  {
   "cell_type": "code",
   "execution_count": null,
   "metadata": {},
   "outputs": [],
   "source": []
  }
 ],
 "metadata": {
  "kernelspec": {
   "display_name": "Python 3",
   "language": "python",
   "name": "python3"
  },
  "language_info": {
   "codemirror_mode": {
    "name": "ipython",
    "version": 3
   },
   "file_extension": ".py",
   "mimetype": "text/x-python",
   "name": "python",
   "nbconvert_exporter": "python",
   "pygments_lexer": "ipython3",
   "version": "3.6.8"
  }
 },
 "nbformat": 4,
 "nbformat_minor": 2
}
