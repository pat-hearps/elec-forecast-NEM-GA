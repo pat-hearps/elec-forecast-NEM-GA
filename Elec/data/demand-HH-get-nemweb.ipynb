{
 "cells": [
  {
   "cell_type": "code",
   "execution_count": 16,
   "metadata": {},
   "outputs": [],
   "source": [
    "from bs4 import BeautifulSoup\n",
    "import os\n",
    "import requests\n",
    "import re\n",
    "# from lxml import html\n",
    "import zipfile\n",
    "import numpy as np\n",
    "import pandas as pd"
   ]
  },
  {
   "cell_type": "code",
   "execution_count": 2,
   "metadata": {},
   "outputs": [],
   "source": [
    "root = \"http://nemweb.com.au/Reports/ARCHIVE/Operational_Demand/ACTUAL_HH/\""
   ]
  },
  {
   "cell_type": "code",
   "execution_count": 3,
   "metadata": {},
   "outputs": [],
   "source": [
    "response = requests.get(root)"
   ]
  },
  {
   "cell_type": "code",
   "execution_count": 4,
   "metadata": {},
   "outputs": [
    {
     "data": {
      "text/plain": [
       "'<html><head><title>nemweb.com.au - /Reports/ARCHIVE/Operational_Demand/ACTUAL_HH/</title></head><body><H1>nemweb.com.au - /Reports/ARCHIVE/Operational_Demand/ACTUAL_HH/</H1><hr>\\r\\n\\r\\n<pre><A HREF=\"/Reports/ARCHIVE/Operational_Demand/\">[To Parent Directory]</A><br><br>      Sunday, January 7, 2018  1:02 AM       182472 <A HREF=\"/Reports/ARCHIVE/Operational_Demand/ACTUAL_HH/PUBLIC_ACTUAL_OPERATIONAL_DEMAND_HH_20171224.zip\">PUBLIC_ACTUAL_OPERATIONAL_DEMAND_HH_20171224.zip</A><br>    Tuesday, January '"
      ]
     },
     "execution_count": 4,
     "metadata": {},
     "output_type": "execute_result"
    }
   ],
   "source": [
    "response.text[:500]"
   ]
  },
  {
   "cell_type": "code",
   "execution_count": 5,
   "metadata": {},
   "outputs": [],
   "source": [
    "soup = BeautifulSoup(response.text)"
   ]
  },
  {
   "cell_type": "code",
   "execution_count": 6,
   "metadata": {},
   "outputs": [
    {
     "data": {
      "text/plain": [
       "['/Reports/ARCHIVE/Operational_Demand/ACTUAL_HH/PUBLIC_ACTUAL_OPERATIONAL_DEMAND_HH_20171224.zip',\n",
       " '/Reports/ARCHIVE/Operational_Demand/ACTUAL_HH/PUBLIC_ACTUAL_OPERATIONAL_DEMAND_HH_20171231.zip',\n",
       " '/Reports/ARCHIVE/Operational_Demand/ACTUAL_HH/PUBLIC_ACTUAL_OPERATIONAL_DEMAND_HH_20180107.zip',\n",
       " '/Reports/ARCHIVE/Operational_Demand/ACTUAL_HH/PUBLIC_ACTUAL_OPERATIONAL_DEMAND_HH_20180114.zip',\n",
       " '/Reports/ARCHIVE/Operational_Demand/ACTUAL_HH/PUBLIC_ACTUAL_OPERATIONAL_DEMAND_HH_20180121.zip',\n",
       " '/Reports/ARCHIVE/Operational_Demand/ACTUAL_HH/PUBLIC_ACTUAL_OPERATIONAL_DEMAND_HH_20180128.zip',\n",
       " '/Reports/ARCHIVE/Operational_Demand/ACTUAL_HH/PUBLIC_ACTUAL_OPERATIONAL_DEMAND_HH_20180204.zip',\n",
       " '/Reports/ARCHIVE/Operational_Demand/ACTUAL_HH/PUBLIC_ACTUAL_OPERATIONAL_DEMAND_HH_20180211.zip',\n",
       " '/Reports/ARCHIVE/Operational_Demand/ACTUAL_HH/PUBLIC_ACTUAL_OPERATIONAL_DEMAND_HH_20180218.zip',\n",
       " '/Reports/ARCHIVE/Operational_Demand/ACTUAL_HH/PUBLIC_ACTUAL_OPERATIONAL_DEMAND_HH_20180225.zip',\n",
       " '/Reports/ARCHIVE/Operational_Demand/ACTUAL_HH/PUBLIC_ACTUAL_OPERATIONAL_DEMAND_HH_20180304.zip',\n",
       " '/Reports/ARCHIVE/Operational_Demand/ACTUAL_HH/PUBLIC_ACTUAL_OPERATIONAL_DEMAND_HH_20180311.zip',\n",
       " '/Reports/ARCHIVE/Operational_Demand/ACTUAL_HH/PUBLIC_ACTUAL_OPERATIONAL_DEMAND_HH_20180318.zip',\n",
       " '/Reports/ARCHIVE/Operational_Demand/ACTUAL_HH/PUBLIC_ACTUAL_OPERATIONAL_DEMAND_HH_20180325.zip',\n",
       " '/Reports/ARCHIVE/Operational_Demand/ACTUAL_HH/PUBLIC_ACTUAL_OPERATIONAL_DEMAND_HH_20180401.zip',\n",
       " '/Reports/ARCHIVE/Operational_Demand/ACTUAL_HH/PUBLIC_ACTUAL_OPERATIONAL_DEMAND_HH_20180408.zip',\n",
       " '/Reports/ARCHIVE/Operational_Demand/ACTUAL_HH/PUBLIC_ACTUAL_OPERATIONAL_DEMAND_HH_20180415.zip',\n",
       " '/Reports/ARCHIVE/Operational_Demand/ACTUAL_HH/PUBLIC_ACTUAL_OPERATIONAL_DEMAND_HH_20180422.zip',\n",
       " '/Reports/ARCHIVE/Operational_Demand/ACTUAL_HH/PUBLIC_ACTUAL_OPERATIONAL_DEMAND_HH_20180429.zip',\n",
       " '/Reports/ARCHIVE/Operational_Demand/ACTUAL_HH/PUBLIC_ACTUAL_OPERATIONAL_DEMAND_HH_20180506.zip',\n",
       " '/Reports/ARCHIVE/Operational_Demand/ACTUAL_HH/PUBLIC_ACTUAL_OPERATIONAL_DEMAND_HH_20180513.zip',\n",
       " '/Reports/ARCHIVE/Operational_Demand/ACTUAL_HH/PUBLIC_ACTUAL_OPERATIONAL_DEMAND_HH_20180520.zip',\n",
       " '/Reports/ARCHIVE/Operational_Demand/ACTUAL_HH/PUBLIC_ACTUAL_OPERATIONAL_DEMAND_HH_20180527.zip',\n",
       " '/Reports/ARCHIVE/Operational_Demand/ACTUAL_HH/PUBLIC_ACTUAL_OPERATIONAL_DEMAND_HH_20180603.zip',\n",
       " '/Reports/ARCHIVE/Operational_Demand/ACTUAL_HH/PUBLIC_ACTUAL_OPERATIONAL_DEMAND_HH_20180610.zip',\n",
       " '/Reports/ARCHIVE/Operational_Demand/ACTUAL_HH/PUBLIC_ACTUAL_OPERATIONAL_DEMAND_HH_20180617.zip',\n",
       " '/Reports/ARCHIVE/Operational_Demand/ACTUAL_HH/PUBLIC_ACTUAL_OPERATIONAL_DEMAND_HH_20180624.zip',\n",
       " '/Reports/ARCHIVE/Operational_Demand/ACTUAL_HH/PUBLIC_ACTUAL_OPERATIONAL_DEMAND_HH_20180701.zip',\n",
       " '/Reports/ARCHIVE/Operational_Demand/ACTUAL_HH/PUBLIC_ACTUAL_OPERATIONAL_DEMAND_HH_20180708.zip',\n",
       " '/Reports/ARCHIVE/Operational_Demand/ACTUAL_HH/PUBLIC_ACTUAL_OPERATIONAL_DEMAND_HH_20180715.zip',\n",
       " '/Reports/ARCHIVE/Operational_Demand/ACTUAL_HH/PUBLIC_ACTUAL_OPERATIONAL_DEMAND_HH_20180722.zip',\n",
       " '/Reports/ARCHIVE/Operational_Demand/ACTUAL_HH/PUBLIC_ACTUAL_OPERATIONAL_DEMAND_HH_20180729.zip',\n",
       " '/Reports/ARCHIVE/Operational_Demand/ACTUAL_HH/PUBLIC_ACTUAL_OPERATIONAL_DEMAND_HH_20180805.zip',\n",
       " '/Reports/ARCHIVE/Operational_Demand/ACTUAL_HH/PUBLIC_ACTUAL_OPERATIONAL_DEMAND_HH_20180812.zip',\n",
       " '/Reports/ARCHIVE/Operational_Demand/ACTUAL_HH/PUBLIC_ACTUAL_OPERATIONAL_DEMAND_HH_20180819.zip',\n",
       " '/Reports/ARCHIVE/Operational_Demand/ACTUAL_HH/PUBLIC_ACTUAL_OPERATIONAL_DEMAND_HH_20180826.zip',\n",
       " '/Reports/ARCHIVE/Operational_Demand/ACTUAL_HH/PUBLIC_ACTUAL_OPERATIONAL_DEMAND_HH_20180902.zip',\n",
       " '/Reports/ARCHIVE/Operational_Demand/ACTUAL_HH/PUBLIC_ACTUAL_OPERATIONAL_DEMAND_HH_20180909.zip',\n",
       " '/Reports/ARCHIVE/Operational_Demand/ACTUAL_HH/PUBLIC_ACTUAL_OPERATIONAL_DEMAND_HH_20180916.zip',\n",
       " '/Reports/ARCHIVE/Operational_Demand/ACTUAL_HH/PUBLIC_ACTUAL_OPERATIONAL_DEMAND_HH_20180923.zip',\n",
       " '/Reports/ARCHIVE/Operational_Demand/ACTUAL_HH/PUBLIC_ACTUAL_OPERATIONAL_DEMAND_HH_20180930.zip',\n",
       " '/Reports/ARCHIVE/Operational_Demand/ACTUAL_HH/PUBLIC_ACTUAL_OPERATIONAL_DEMAND_HH_20181007.zip',\n",
       " '/Reports/ARCHIVE/Operational_Demand/ACTUAL_HH/PUBLIC_ACTUAL_OPERATIONAL_DEMAND_HH_20181014.zip',\n",
       " '/Reports/ARCHIVE/Operational_Demand/ACTUAL_HH/PUBLIC_ACTUAL_OPERATIONAL_DEMAND_HH_20181021.zip',\n",
       " '/Reports/ARCHIVE/Operational_Demand/ACTUAL_HH/PUBLIC_ACTUAL_OPERATIONAL_DEMAND_HH_20181028.zip',\n",
       " '/Reports/ARCHIVE/Operational_Demand/ACTUAL_HH/PUBLIC_ACTUAL_OPERATIONAL_DEMAND_HH_20181104.zip',\n",
       " '/Reports/ARCHIVE/Operational_Demand/ACTUAL_HH/PUBLIC_ACTUAL_OPERATIONAL_DEMAND_HH_20181111.zip',\n",
       " '/Reports/ARCHIVE/Operational_Demand/ACTUAL_HH/PUBLIC_ACTUAL_OPERATIONAL_DEMAND_HH_20181118.zip',\n",
       " '/Reports/ARCHIVE/Operational_Demand/ACTUAL_HH/PUBLIC_ACTUAL_OPERATIONAL_DEMAND_HH_20181125.zip',\n",
       " '/Reports/ARCHIVE/Operational_Demand/ACTUAL_HH/PUBLIC_ACTUAL_OPERATIONAL_DEMAND_HH_20181202.zip',\n",
       " '/Reports/ARCHIVE/Operational_Demand/ACTUAL_HH/PUBLIC_ACTUAL_OPERATIONAL_DEMAND_HH_20181209.zip',\n",
       " '/Reports/ARCHIVE/Operational_Demand/ACTUAL_HH/PUBLIC_ACTUAL_OPERATIONAL_DEMAND_HH_20181216.zip',\n",
       " '/Reports/ARCHIVE/Operational_Demand/ACTUAL_HH/PUBLIC_ACTUAL_OPERATIONAL_DEMAND_HH_20181223.zip',\n",
       " '/Reports/ARCHIVE/Operational_Demand/ACTUAL_HH/PUBLIC_ACTUAL_OPERATIONAL_DEMAND_HH_20181230.zip',\n",
       " '/Reports/ARCHIVE/Operational_Demand/ACTUAL_HH/PUBLIC_ACTUAL_OPERATIONAL_DEMAND_HH_20190106.zip',\n",
       " '/Reports/ARCHIVE/Operational_Demand/ACTUAL_HH/PUBLIC_ACTUAL_OPERATIONAL_DEMAND_HH_20190113.zip']"
      ]
     },
     "execution_count": 6,
     "metadata": {},
     "output_type": "execute_result"
    }
   ],
   "source": [
    "links = [a.get('href') for a in soup.findAll(\"a\") if a.string.endswith(\"zip\")]\n",
    "links"
   ]
  },
  {
   "cell_type": "code",
   "execution_count": 7,
   "metadata": {},
   "outputs": [],
   "source": [
    "sroot = \"http://nemweb.com.au\""
   ]
  },
  {
   "cell_type": "code",
   "execution_count": 11,
   "metadata": {},
   "outputs": [
    {
     "name": "stdout",
     "output_type": "stream",
     "text": [
      "CPU times: user 756 ms, sys: 219 ms, total: 975 ms\n",
      "Wall time: 8.01 s\n"
     ]
    }
   ],
   "source": [
    "# %%time\n",
    "# for l in links:\n",
    "#     url = sroot + l\n",
    "#     target_path = \"./demand_dump/\" + url.split(\"/\")[-1].split(\"_\")[-1]\n",
    "\n",
    "#     response = requests.get(url, stream=True)\n",
    "#     handle = open(target_path, \"wb\")\n",
    "#     for chunk in response.iter_content(chunk_size=512):\n",
    "#         if chunk:  # filter out keep-alive new chunks\n",
    "#             handle.write(chunk)\n",
    "#     handle.close()"
   ]
  },
  {
   "cell_type": "code",
   "execution_count": 41,
   "metadata": {},
   "outputs": [
    {
     "data": {
      "text/plain": [
       "'/Users/pat.hearps/Documents/DataScienceStudy/General Assembly/Capstone_working/Elec/demand_dump'"
      ]
     },
     "execution_count": 41,
     "metadata": {},
     "output_type": "execute_result"
    }
   ],
   "source": [
    "# os.chdir(\"./demand_dump/\")\n",
    "# os.mkdir(\"./days/\")\n",
    "# os.chdir(\"./days/\")\n",
    "os.chdir(\"../\")\n",
    "os.getcwd()"
   ]
  },
  {
   "cell_type": "code",
   "execution_count": 50,
   "metadata": {},
   "outputs": [
    {
     "name": "stdout",
     "output_type": "stream",
     "text": [
      "CPU times: user 2.72 s, sys: 3 s, total: 5.72 s\n",
      "Wall time: 7.19 s\n"
     ]
    }
   ],
   "source": [
    "%%time\n",
    "for fortnight in os.listdir(\"./\"):\n",
    "    if fortnight[-3:] == 'zip':\n",
    "        filepath = \"./\" + fortnight\n",
    "        zipfile.ZipFile(filepath).extractall(path=\"./days/\")"
   ]
  },
  {
   "cell_type": "code",
   "execution_count": 49,
   "metadata": {},
   "outputs": [
    {
     "data": {
      "text/plain": [
       "'zip'"
      ]
     },
     "execution_count": 49,
     "metadata": {},
     "output_type": "execute_result"
    }
   ],
   "source": [
    "os.listdir(\"./\")[0][-3:]"
   ]
  },
  {
   "cell_type": "code",
   "execution_count": 35,
   "metadata": {},
   "outputs": [],
   "source": [
    "# zp = zipfile.ZipFile(\"20171224.zip\")"
   ]
  },
  {
   "cell_type": "code",
   "execution_count": 36,
   "metadata": {},
   "outputs": [],
   "source": [
    "# zcontents = zp.namelist()\n",
    "# zcontents[0]"
   ]
  },
  {
   "cell_type": "code",
   "execution_count": 38,
   "metadata": {},
   "outputs": [],
   "source": [
    "# zp.extractall(\"./extest/\")"
   ]
  },
  {
   "cell_type": "code",
   "execution_count": 37,
   "metadata": {},
   "outputs": [],
   "source": [
    "# with zp.open(zcontents[0]) as zfile:\n",
    "#     zdf = pd.read_csv(zfile)"
   ]
  },
  {
   "cell_type": "code",
   "execution_count": 22,
   "metadata": {},
   "outputs": [],
   "source": [
    "# zp.infolist()"
   ]
  },
  {
   "cell_type": "code",
   "execution_count": null,
   "metadata": {},
   "outputs": [],
   "source": []
  }
 ],
 "metadata": {
  "kernelspec": {
   "display_name": "Python 3",
   "language": "python",
   "name": "python3"
  },
  "language_info": {
   "codemirror_mode": {
    "name": "ipython",
    "version": 3
   },
   "file_extension": ".py",
   "mimetype": "text/x-python",
   "name": "python",
   "nbconvert_exporter": "python",
   "pygments_lexer": "ipython3",
   "version": "3.6.8"
  }
 },
 "nbformat": 4,
 "nbformat_minor": 2
}
