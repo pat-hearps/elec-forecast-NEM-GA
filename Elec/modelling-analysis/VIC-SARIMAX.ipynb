{
 "cells": [
  {
   "cell_type": "code",
   "execution_count": 1,
   "metadata": {},
   "outputs": [],
   "source": [
    "import pandas as pd\n",
    "import numpy as np"
   ]
  },
  {
   "cell_type": "code",
   "execution_count": 2,
   "metadata": {},
   "outputs": [],
   "source": [
    "from glob import glob\n",
    "from pprint import pprint\n",
    "import dill\n",
    "import json"
   ]
  },
  {
   "cell_type": "code",
   "execution_count": 3,
   "metadata": {},
   "outputs": [
    {
     "data": {
      "text/html": [
       "\n",
       "    <div class=\"bk-root\">\n",
       "        <a href=\"https://bokeh.pydata.org\" target=\"_blank\" class=\"bk-logo bk-logo-small bk-logo-notebook\"></a>\n",
       "        <span id=\"1001\">Loading BokehJS ...</span>\n",
       "    </div>"
      ]
     },
     "metadata": {},
     "output_type": "display_data"
    },
    {
     "data": {
      "application/javascript": [
       "\n",
       "(function(root) {\n",
       "  function now() {\n",
       "    return new Date();\n",
       "  }\n",
       "\n",
       "  var force = true;\n",
       "\n",
       "  if (typeof (root._bokeh_onload_callbacks) === \"undefined\" || force === true) {\n",
       "    root._bokeh_onload_callbacks = [];\n",
       "    root._bokeh_is_loading = undefined;\n",
       "  }\n",
       "\n",
       "  var JS_MIME_TYPE = 'application/javascript';\n",
       "  var HTML_MIME_TYPE = 'text/html';\n",
       "  var EXEC_MIME_TYPE = 'application/vnd.bokehjs_exec.v0+json';\n",
       "  var CLASS_NAME = 'output_bokeh rendered_html';\n",
       "\n",
       "  /**\n",
       "   * Render data to the DOM node\n",
       "   */\n",
       "  function render(props, node) {\n",
       "    var script = document.createElement(\"script\");\n",
       "    node.appendChild(script);\n",
       "  }\n",
       "\n",
       "  /**\n",
       "   * Handle when an output is cleared or removed\n",
       "   */\n",
       "  function handleClearOutput(event, handle) {\n",
       "    var cell = handle.cell;\n",
       "\n",
       "    var id = cell.output_area._bokeh_element_id;\n",
       "    var server_id = cell.output_area._bokeh_server_id;\n",
       "    // Clean up Bokeh references\n",
       "    if (id != null && id in Bokeh.index) {\n",
       "      Bokeh.index[id].model.document.clear();\n",
       "      delete Bokeh.index[id];\n",
       "    }\n",
       "\n",
       "    if (server_id !== undefined) {\n",
       "      // Clean up Bokeh references\n",
       "      var cmd = \"from bokeh.io.state import curstate; print(curstate().uuid_to_server['\" + server_id + \"'].get_sessions()[0].document.roots[0]._id)\";\n",
       "      cell.notebook.kernel.execute(cmd, {\n",
       "        iopub: {\n",
       "          output: function(msg) {\n",
       "            var id = msg.content.text.trim();\n",
       "            if (id in Bokeh.index) {\n",
       "              Bokeh.index[id].model.document.clear();\n",
       "              delete Bokeh.index[id];\n",
       "            }\n",
       "          }\n",
       "        }\n",
       "      });\n",
       "      // Destroy server and session\n",
       "      var cmd = \"import bokeh.io.notebook as ion; ion.destroy_server('\" + server_id + \"')\";\n",
       "      cell.notebook.kernel.execute(cmd);\n",
       "    }\n",
       "  }\n",
       "\n",
       "  /**\n",
       "   * Handle when a new output is added\n",
       "   */\n",
       "  function handleAddOutput(event, handle) {\n",
       "    var output_area = handle.output_area;\n",
       "    var output = handle.output;\n",
       "\n",
       "    // limit handleAddOutput to display_data with EXEC_MIME_TYPE content only\n",
       "    if ((output.output_type != \"display_data\") || (!output.data.hasOwnProperty(EXEC_MIME_TYPE))) {\n",
       "      return\n",
       "    }\n",
       "\n",
       "    var toinsert = output_area.element.find(\".\" + CLASS_NAME.split(' ')[0]);\n",
       "\n",
       "    if (output.metadata[EXEC_MIME_TYPE][\"id\"] !== undefined) {\n",
       "      toinsert[toinsert.length - 1].firstChild.textContent = output.data[JS_MIME_TYPE];\n",
       "      // store reference to embed id on output_area\n",
       "      output_area._bokeh_element_id = output.metadata[EXEC_MIME_TYPE][\"id\"];\n",
       "    }\n",
       "    if (output.metadata[EXEC_MIME_TYPE][\"server_id\"] !== undefined) {\n",
       "      var bk_div = document.createElement(\"div\");\n",
       "      bk_div.innerHTML = output.data[HTML_MIME_TYPE];\n",
       "      var script_attrs = bk_div.children[0].attributes;\n",
       "      for (var i = 0; i < script_attrs.length; i++) {\n",
       "        toinsert[toinsert.length - 1].firstChild.setAttribute(script_attrs[i].name, script_attrs[i].value);\n",
       "      }\n",
       "      // store reference to server id on output_area\n",
       "      output_area._bokeh_server_id = output.metadata[EXEC_MIME_TYPE][\"server_id\"];\n",
       "    }\n",
       "  }\n",
       "\n",
       "  function register_renderer(events, OutputArea) {\n",
       "\n",
       "    function append_mime(data, metadata, element) {\n",
       "      // create a DOM node to render to\n",
       "      var toinsert = this.create_output_subarea(\n",
       "        metadata,\n",
       "        CLASS_NAME,\n",
       "        EXEC_MIME_TYPE\n",
       "      );\n",
       "      this.keyboard_manager.register_events(toinsert);\n",
       "      // Render to node\n",
       "      var props = {data: data, metadata: metadata[EXEC_MIME_TYPE]};\n",
       "      render(props, toinsert[toinsert.length - 1]);\n",
       "      element.append(toinsert);\n",
       "      return toinsert\n",
       "    }\n",
       "\n",
       "    /* Handle when an output is cleared or removed */\n",
       "    events.on('clear_output.CodeCell', handleClearOutput);\n",
       "    events.on('delete.Cell', handleClearOutput);\n",
       "\n",
       "    /* Handle when a new output is added */\n",
       "    events.on('output_added.OutputArea', handleAddOutput);\n",
       "\n",
       "    /**\n",
       "     * Register the mime type and append_mime function with output_area\n",
       "     */\n",
       "    OutputArea.prototype.register_mime_type(EXEC_MIME_TYPE, append_mime, {\n",
       "      /* Is output safe? */\n",
       "      safe: true,\n",
       "      /* Index of renderer in `output_area.display_order` */\n",
       "      index: 0\n",
       "    });\n",
       "  }\n",
       "\n",
       "  // register the mime type if in Jupyter Notebook environment and previously unregistered\n",
       "  if (root.Jupyter !== undefined) {\n",
       "    var events = require('base/js/events');\n",
       "    var OutputArea = require('notebook/js/outputarea').OutputArea;\n",
       "\n",
       "    if (OutputArea.prototype.mime_types().indexOf(EXEC_MIME_TYPE) == -1) {\n",
       "      register_renderer(events, OutputArea);\n",
       "    }\n",
       "  }\n",
       "\n",
       "  \n",
       "  if (typeof (root._bokeh_timeout) === \"undefined\" || force === true) {\n",
       "    root._bokeh_timeout = Date.now() + 5000;\n",
       "    root._bokeh_failed_load = false;\n",
       "  }\n",
       "\n",
       "  var NB_LOAD_WARNING = {'data': {'text/html':\n",
       "     \"<div style='background-color: #fdd'>\\n\"+\n",
       "     \"<p>\\n\"+\n",
       "     \"BokehJS does not appear to have successfully loaded. If loading BokehJS from CDN, this \\n\"+\n",
       "     \"may be due to a slow or bad network connection. Possible fixes:\\n\"+\n",
       "     \"</p>\\n\"+\n",
       "     \"<ul>\\n\"+\n",
       "     \"<li>re-rerun `output_notebook()` to attempt to load from CDN again, or</li>\\n\"+\n",
       "     \"<li>use INLINE resources instead, as so:</li>\\n\"+\n",
       "     \"</ul>\\n\"+\n",
       "     \"<code>\\n\"+\n",
       "     \"from bokeh.resources import INLINE\\n\"+\n",
       "     \"output_notebook(resources=INLINE)\\n\"+\n",
       "     \"</code>\\n\"+\n",
       "     \"</div>\"}};\n",
       "\n",
       "  function display_loaded() {\n",
       "    var el = document.getElementById(\"1001\");\n",
       "    if (el != null) {\n",
       "      el.textContent = \"BokehJS is loading...\";\n",
       "    }\n",
       "    if (root.Bokeh !== undefined) {\n",
       "      if (el != null) {\n",
       "        el.textContent = \"BokehJS \" + root.Bokeh.version + \" successfully loaded.\";\n",
       "      }\n",
       "    } else if (Date.now() < root._bokeh_timeout) {\n",
       "      setTimeout(display_loaded, 100)\n",
       "    }\n",
       "  }\n",
       "\n",
       "\n",
       "  function run_callbacks() {\n",
       "    try {\n",
       "      root._bokeh_onload_callbacks.forEach(function(callback) { callback() });\n",
       "    }\n",
       "    finally {\n",
       "      delete root._bokeh_onload_callbacks\n",
       "    }\n",
       "    console.info(\"Bokeh: all callbacks have finished\");\n",
       "  }\n",
       "\n",
       "  function load_libs(js_urls, callback) {\n",
       "    root._bokeh_onload_callbacks.push(callback);\n",
       "    if (root._bokeh_is_loading > 0) {\n",
       "      console.log(\"Bokeh: BokehJS is being loaded, scheduling callback at\", now());\n",
       "      return null;\n",
       "    }\n",
       "    if (js_urls == null || js_urls.length === 0) {\n",
       "      run_callbacks();\n",
       "      return null;\n",
       "    }\n",
       "    console.log(\"Bokeh: BokehJS not loaded, scheduling load and callback at\", now());\n",
       "    root._bokeh_is_loading = js_urls.length;\n",
       "    for (var i = 0; i < js_urls.length; i++) {\n",
       "      var url = js_urls[i];\n",
       "      var s = document.createElement('script');\n",
       "      s.src = url;\n",
       "      s.async = false;\n",
       "      s.onreadystatechange = s.onload = function() {\n",
       "        root._bokeh_is_loading--;\n",
       "        if (root._bokeh_is_loading === 0) {\n",
       "          console.log(\"Bokeh: all BokehJS libraries loaded\");\n",
       "          run_callbacks()\n",
       "        }\n",
       "      };\n",
       "      s.onerror = function() {\n",
       "        console.warn(\"failed to load library \" + url);\n",
       "      };\n",
       "      console.log(\"Bokeh: injecting script tag for BokehJS library: \", url);\n",
       "      document.getElementsByTagName(\"head\")[0].appendChild(s);\n",
       "    }\n",
       "  };var element = document.getElementById(\"1001\");\n",
       "  if (element == null) {\n",
       "    console.log(\"Bokeh: ERROR: autoload.js configured with elementid '1001' but no matching script tag was found. \")\n",
       "    return false;\n",
       "  }\n",
       "\n",
       "  var js_urls = [\"https://cdn.pydata.org/bokeh/release/bokeh-1.0.4.min.js\", \"https://cdn.pydata.org/bokeh/release/bokeh-widgets-1.0.4.min.js\", \"https://cdn.pydata.org/bokeh/release/bokeh-tables-1.0.4.min.js\", \"https://cdn.pydata.org/bokeh/release/bokeh-gl-1.0.4.min.js\"];\n",
       "\n",
       "  var inline_js = [\n",
       "    function(Bokeh) {\n",
       "      Bokeh.set_log_level(\"info\");\n",
       "    },\n",
       "    \n",
       "    function(Bokeh) {\n",
       "      \n",
       "    },\n",
       "    function(Bokeh) {\n",
       "      console.log(\"Bokeh: injecting CSS: https://cdn.pydata.org/bokeh/release/bokeh-1.0.4.min.css\");\n",
       "      Bokeh.embed.inject_css(\"https://cdn.pydata.org/bokeh/release/bokeh-1.0.4.min.css\");\n",
       "      console.log(\"Bokeh: injecting CSS: https://cdn.pydata.org/bokeh/release/bokeh-widgets-1.0.4.min.css\");\n",
       "      Bokeh.embed.inject_css(\"https://cdn.pydata.org/bokeh/release/bokeh-widgets-1.0.4.min.css\");\n",
       "      console.log(\"Bokeh: injecting CSS: https://cdn.pydata.org/bokeh/release/bokeh-tables-1.0.4.min.css\");\n",
       "      Bokeh.embed.inject_css(\"https://cdn.pydata.org/bokeh/release/bokeh-tables-1.0.4.min.css\");\n",
       "    }\n",
       "  ];\n",
       "\n",
       "  function run_inline_js() {\n",
       "    \n",
       "    if ((root.Bokeh !== undefined) || (force === true)) {\n",
       "      for (var i = 0; i < inline_js.length; i++) {\n",
       "        inline_js[i].call(root, root.Bokeh);\n",
       "      }if (force === true) {\n",
       "        display_loaded();\n",
       "      }} else if (Date.now() < root._bokeh_timeout) {\n",
       "      setTimeout(run_inline_js, 100);\n",
       "    } else if (!root._bokeh_failed_load) {\n",
       "      console.log(\"Bokeh: BokehJS failed to load within specified timeout.\");\n",
       "      root._bokeh_failed_load = true;\n",
       "    } else if (force !== true) {\n",
       "      var cell = $(document.getElementById(\"1001\")).parents('.cell').data().cell;\n",
       "      cell.output_area.append_execute_result(NB_LOAD_WARNING)\n",
       "    }\n",
       "\n",
       "  }\n",
       "\n",
       "  if (root._bokeh_is_loading === 0) {\n",
       "    console.log(\"Bokeh: BokehJS loaded, going straight to plotting\");\n",
       "    run_inline_js();\n",
       "  } else {\n",
       "    load_libs(js_urls, function() {\n",
       "      console.log(\"Bokeh: BokehJS plotting callback run at\", now());\n",
       "      run_inline_js();\n",
       "    });\n",
       "  }\n",
       "}(window));"
      ],
      "application/vnd.bokehjs_load.v0+json": "\n(function(root) {\n  function now() {\n    return new Date();\n  }\n\n  var force = true;\n\n  if (typeof (root._bokeh_onload_callbacks) === \"undefined\" || force === true) {\n    root._bokeh_onload_callbacks = [];\n    root._bokeh_is_loading = undefined;\n  }\n\n  \n\n  \n  if (typeof (root._bokeh_timeout) === \"undefined\" || force === true) {\n    root._bokeh_timeout = Date.now() + 5000;\n    root._bokeh_failed_load = false;\n  }\n\n  var NB_LOAD_WARNING = {'data': {'text/html':\n     \"<div style='background-color: #fdd'>\\n\"+\n     \"<p>\\n\"+\n     \"BokehJS does not appear to have successfully loaded. If loading BokehJS from CDN, this \\n\"+\n     \"may be due to a slow or bad network connection. Possible fixes:\\n\"+\n     \"</p>\\n\"+\n     \"<ul>\\n\"+\n     \"<li>re-rerun `output_notebook()` to attempt to load from CDN again, or</li>\\n\"+\n     \"<li>use INLINE resources instead, as so:</li>\\n\"+\n     \"</ul>\\n\"+\n     \"<code>\\n\"+\n     \"from bokeh.resources import INLINE\\n\"+\n     \"output_notebook(resources=INLINE)\\n\"+\n     \"</code>\\n\"+\n     \"</div>\"}};\n\n  function display_loaded() {\n    var el = document.getElementById(\"1001\");\n    if (el != null) {\n      el.textContent = \"BokehJS is loading...\";\n    }\n    if (root.Bokeh !== undefined) {\n      if (el != null) {\n        el.textContent = \"BokehJS \" + root.Bokeh.version + \" successfully loaded.\";\n      }\n    } else if (Date.now() < root._bokeh_timeout) {\n      setTimeout(display_loaded, 100)\n    }\n  }\n\n\n  function run_callbacks() {\n    try {\n      root._bokeh_onload_callbacks.forEach(function(callback) { callback() });\n    }\n    finally {\n      delete root._bokeh_onload_callbacks\n    }\n    console.info(\"Bokeh: all callbacks have finished\");\n  }\n\n  function load_libs(js_urls, callback) {\n    root._bokeh_onload_callbacks.push(callback);\n    if (root._bokeh_is_loading > 0) {\n      console.log(\"Bokeh: BokehJS is being loaded, scheduling callback at\", now());\n      return null;\n    }\n    if (js_urls == null || js_urls.length === 0) {\n      run_callbacks();\n      return null;\n    }\n    console.log(\"Bokeh: BokehJS not loaded, scheduling load and callback at\", now());\n    root._bokeh_is_loading = js_urls.length;\n    for (var i = 0; i < js_urls.length; i++) {\n      var url = js_urls[i];\n      var s = document.createElement('script');\n      s.src = url;\n      s.async = false;\n      s.onreadystatechange = s.onload = function() {\n        root._bokeh_is_loading--;\n        if (root._bokeh_is_loading === 0) {\n          console.log(\"Bokeh: all BokehJS libraries loaded\");\n          run_callbacks()\n        }\n      };\n      s.onerror = function() {\n        console.warn(\"failed to load library \" + url);\n      };\n      console.log(\"Bokeh: injecting script tag for BokehJS library: \", url);\n      document.getElementsByTagName(\"head\")[0].appendChild(s);\n    }\n  };var element = document.getElementById(\"1001\");\n  if (element == null) {\n    console.log(\"Bokeh: ERROR: autoload.js configured with elementid '1001' but no matching script tag was found. \")\n    return false;\n  }\n\n  var js_urls = [\"https://cdn.pydata.org/bokeh/release/bokeh-1.0.4.min.js\", \"https://cdn.pydata.org/bokeh/release/bokeh-widgets-1.0.4.min.js\", \"https://cdn.pydata.org/bokeh/release/bokeh-tables-1.0.4.min.js\", \"https://cdn.pydata.org/bokeh/release/bokeh-gl-1.0.4.min.js\"];\n\n  var inline_js = [\n    function(Bokeh) {\n      Bokeh.set_log_level(\"info\");\n    },\n    \n    function(Bokeh) {\n      \n    },\n    function(Bokeh) {\n      console.log(\"Bokeh: injecting CSS: https://cdn.pydata.org/bokeh/release/bokeh-1.0.4.min.css\");\n      Bokeh.embed.inject_css(\"https://cdn.pydata.org/bokeh/release/bokeh-1.0.4.min.css\");\n      console.log(\"Bokeh: injecting CSS: https://cdn.pydata.org/bokeh/release/bokeh-widgets-1.0.4.min.css\");\n      Bokeh.embed.inject_css(\"https://cdn.pydata.org/bokeh/release/bokeh-widgets-1.0.4.min.css\");\n      console.log(\"Bokeh: injecting CSS: https://cdn.pydata.org/bokeh/release/bokeh-tables-1.0.4.min.css\");\n      Bokeh.embed.inject_css(\"https://cdn.pydata.org/bokeh/release/bokeh-tables-1.0.4.min.css\");\n    }\n  ];\n\n  function run_inline_js() {\n    \n    if ((root.Bokeh !== undefined) || (force === true)) {\n      for (var i = 0; i < inline_js.length; i++) {\n        inline_js[i].call(root, root.Bokeh);\n      }if (force === true) {\n        display_loaded();\n      }} else if (Date.now() < root._bokeh_timeout) {\n      setTimeout(run_inline_js, 100);\n    } else if (!root._bokeh_failed_load) {\n      console.log(\"Bokeh: BokehJS failed to load within specified timeout.\");\n      root._bokeh_failed_load = true;\n    } else if (force !== true) {\n      var cell = $(document.getElementById(\"1001\")).parents('.cell').data().cell;\n      cell.output_area.append_execute_result(NB_LOAD_WARNING)\n    }\n\n  }\n\n  if (root._bokeh_is_loading === 0) {\n    console.log(\"Bokeh: BokehJS loaded, going straight to plotting\");\n    run_inline_js();\n  } else {\n    load_libs(js_urls, function() {\n      console.log(\"Bokeh: BokehJS plotting callback run at\", now());\n      run_inline_js();\n    });\n  }\n}(window));"
     },
     "metadata": {},
     "output_type": "display_data"
    }
   ],
   "source": [
    "from bokeh.plotting import figure, output_notebook, show\n",
    "from bokeh.layouts import gridplot\n",
    "import bokeh.palettes as bpal\n",
    "from bokeh.models import CategoricalColorMapper\n",
    "from bokeh.transform import factor_cmap, linear_cmap\n",
    "from bokeh.models import Legend, LinearAxis, Range1d, DatetimeTickFormatter\n",
    "from bokeh.io import export_png\n",
    "output_notebook()\n",
    "\n",
    "import matplotlib.pyplot as plt\n",
    "%matplotlib inline"
   ]
  },
  {
   "cell_type": "code",
   "execution_count": 4,
   "metadata": {},
   "outputs": [],
   "source": [
    "import statsmodels.api as sm  \n",
    "from statsmodels.tsa.stattools import acf, pacf\n",
    "from statsmodels.tsa.seasonal import seasonal_decompose\n",
    "from statsmodels.tsa.arima_model import ARMA\n",
    "from statsmodels.graphics.tsaplots import plot_acf, plot_pacf\n",
    "# from pmdarima import auto_arima\n",
    "from sklearn.preprocessing import StandardScaler"
   ]
  },
  {
   "cell_type": "code",
   "execution_count": 5,
   "metadata": {},
   "outputs": [],
   "source": [
    "def make_plotgrid(totalrange, ncols):\n",
    "    \"\"\"for feeding into bokeh griplot, returns array of rows/columns\"\"\"\n",
    "    nrows = int(np.ceil(totalrange/ncols))\n",
    "    feeder = iter(range(totalrange))\n",
    "    plotgrid = [[]]*nrows\n",
    "    for r in range(nrows):\n",
    "        thisrow = []\n",
    "        for c in range(ncols):\n",
    "            try:\n",
    "                thisrow.append(next(feeder))\n",
    "            except:\n",
    "                thisrow.append(None)\n",
    "        plotgrid[r] = thisrow\n",
    "    return plotgrid"
   ]
  },
  {
   "cell_type": "code",
   "execution_count": 6,
   "metadata": {},
   "outputs": [],
   "source": [
    "def draw_gridplot(indf, columns='first', ncols=3, total_width=900, each_height=300, incolours = ['blue','red','yellow','green','purple','orange']):\n",
    "    \"\"\"Grid plots by month in bokeh\n",
    "    Requires:\n",
    "    > indf has datetime index\n",
    "    > if columns are left unspecified (should be a list of col names), then just first column is plotted\n",
    "    > only takes up to 6 columns, then runs out of colours to plot unless you put more into incolours\"\"\"\n",
    "    if columns == 'first':\n",
    "        columns = [indf.columns[0]]\n",
    "    else:\n",
    "        pass\n",
    "    indf['Month'] = indf.index.month\n",
    "    indf['mthname'] = indf.index.month_name()\n",
    "    \n",
    "    each_width = int(total_width/ncols)\n",
    "    \n",
    "    clrcols = [(col, clr) for col, clr in zip(columns, incolours)]\n",
    "    dictmonth = {}\n",
    "    \n",
    "    for no,mth in enumerate(indf.mthname.unique()):\n",
    "        dictmonth[no] = figure(plot_width=each_width, plot_height=each_height, title=mth, x_axis_type='datetime')\n",
    "        for col, clr in clrcols:\n",
    "            dictmonth[no].line(indf.index[indf.Month == no+1], indf[col][indf.Month == no+1], line_width=1, color = clr)\n",
    "    \n",
    "    plotgrid = make_plotgrid(len(indf.mthname.unique()), ncols=ncols)\n",
    "    for row in range(len(plotgrid)):\n",
    "        for p in range(len(plotgrid[row])):\n",
    "            plotgrid[row][p] = dictmonth[plotgrid[row][p]]\n",
    "    \n",
    "    the_grid = gridplot(plotgrid)\n",
    "    show(the_grid)\n",
    "    return the_grid"
   ]
  },
  {
   "cell_type": "code",
   "execution_count": 7,
   "metadata": {},
   "outputs": [
    {
     "data": {
      "text/plain": [
       "['../data/ready-for-model/20190808_TAS_interpolated_df_features.csv',\n",
       " '../data/ready-for-model/20190808_QLD_interpolated_df_features.csv',\n",
       " '../data/ready-for-model/2009-18_NEMtotaldemand.csv',\n",
       " '../data/ready-for-model/20190808_VIC_interpolated_df_features.csv',\n",
       " '../data/ready-for-model/20190226_SAdf_features.csv',\n",
       " '../data/ready-for-model/20190226_TASdf_features.csv',\n",
       " '../data/ready-for-model/20190226_NSWdf_features.csv',\n",
       " '../data/ready-for-model/20190226_VICdf_features.csv',\n",
       " '../data/ready-for-model/20190226_QLDdf_features.csv',\n",
       " '../data/ready-for-model/20190808_NSW_interpolated_df_features.csv',\n",
       " '../data/ready-for-model/20190808_SA_interpolated_df_features.csv']"
      ]
     },
     "execution_count": 7,
     "metadata": {},
     "output_type": "execute_result"
    }
   ],
   "source": [
    "feat_files = glob('../data/ready-for-model/*.csv')\n",
    "feat_files"
   ]
  },
  {
   "cell_type": "code",
   "execution_count": 11,
   "metadata": {},
   "outputs": [
    {
     "data": {
      "text/plain": [
       "'../data/ready-for-model/20190808_VIC_interpolated_df_features.csv'"
      ]
     },
     "execution_count": 11,
     "metadata": {},
     "output_type": "execute_result"
    }
   ],
   "source": [
    "fvic = glob('../data/ready-for-model/*VIC*interp*.csv')[0]\n",
    "fvic"
   ]
  },
  {
   "cell_type": "code",
   "execution_count": 17,
   "metadata": {},
   "outputs": [
    {
     "data": {
      "text/plain": [
       "'../data/ready-for-model/2009-18_NEMtotaldemand.csv'"
      ]
     },
     "execution_count": 17,
     "metadata": {},
     "output_type": "execute_result"
    }
   ],
   "source": [
    "ftarget = feat_files = glob('../data/ready-for-model/*NEM*.csv')[0]\n",
    "ftarget"
   ]
  },
  {
   "cell_type": "code",
   "execution_count": 18,
   "metadata": {},
   "outputs": [
    {
     "data": {
      "text/html": [
       "<div>\n",
       "<style scoped>\n",
       "    .dataframe tbody tr th:only-of-type {\n",
       "        vertical-align: middle;\n",
       "    }\n",
       "\n",
       "    .dataframe tbody tr th {\n",
       "        vertical-align: top;\n",
       "    }\n",
       "\n",
       "    .dataframe thead th {\n",
       "        text-align: right;\n",
       "    }\n",
       "</style>\n",
       "<table border=\"1\" class=\"dataframe\">\n",
       "  <thead>\n",
       "    <tr style=\"text-align: right;\">\n",
       "      <th></th>\n",
       "      <th>NSW1</th>\n",
       "      <th>QLD1</th>\n",
       "      <th>SA1</th>\n",
       "      <th>TAS1</th>\n",
       "      <th>VIC1</th>\n",
       "      <th>NEMtotal</th>\n",
       "    </tr>\n",
       "    <tr>\n",
       "      <th>SETTLEMENTDATE</th>\n",
       "      <th></th>\n",
       "      <th></th>\n",
       "      <th></th>\n",
       "      <th></th>\n",
       "      <th></th>\n",
       "      <th></th>\n",
       "    </tr>\n",
       "  </thead>\n",
       "  <tbody>\n",
       "    <tr>\n",
       "      <th>2009-01-01 00:30:00</th>\n",
       "      <td>7535.00</td>\n",
       "      <td>5611.54</td>\n",
       "      <td>1310.89</td>\n",
       "      <td>909.71</td>\n",
       "      <td>4799.87</td>\n",
       "      <td>20167.01</td>\n",
       "    </tr>\n",
       "    <tr>\n",
       "      <th>2009-01-01 01:00:00</th>\n",
       "      <td>7229.24</td>\n",
       "      <td>5457.34</td>\n",
       "      <td>1272.69</td>\n",
       "      <td>896.63</td>\n",
       "      <td>4646.21</td>\n",
       "      <td>19502.11</td>\n",
       "    </tr>\n",
       "    <tr>\n",
       "      <th>2009-01-01 01:30:00</th>\n",
       "      <td>6857.62</td>\n",
       "      <td>5294.12</td>\n",
       "      <td>1178.87</td>\n",
       "      <td>897.52</td>\n",
       "      <td>4950.16</td>\n",
       "      <td>19178.29</td>\n",
       "    </tr>\n",
       "  </tbody>\n",
       "</table>\n",
       "</div>"
      ],
      "text/plain": [
       "                        NSW1     QLD1      SA1    TAS1     VIC1  NEMtotal\n",
       "SETTLEMENTDATE                                                           \n",
       "2009-01-01 00:30:00  7535.00  5611.54  1310.89  909.71  4799.87  20167.01\n",
       "2009-01-01 01:00:00  7229.24  5457.34  1272.69  896.63  4646.21  19502.11\n",
       "2009-01-01 01:30:00  6857.62  5294.12  1178.87  897.52  4950.16  19178.29"
      ]
     },
     "execution_count": 18,
     "metadata": {},
     "output_type": "execute_result"
    }
   ],
   "source": [
    "dftarget = pd.read_csv(ftarget, index_col=0, parse_dates=[0])\n",
    "dftarget.head(3)"
   ]
  },
  {
   "cell_type": "markdown",
   "metadata": {},
   "source": [
    "### Setting target variable as the electricity demand ('VIC1') up to (& including) year 2018"
   ]
  },
  {
   "cell_type": "code",
   "execution_count": 35,
   "metadata": {},
   "outputs": [
    {
     "data": {
      "text/html": [
       "<div>\n",
       "<style scoped>\n",
       "    .dataframe tbody tr th:only-of-type {\n",
       "        vertical-align: middle;\n",
       "    }\n",
       "\n",
       "    .dataframe tbody tr th {\n",
       "        vertical-align: top;\n",
       "    }\n",
       "\n",
       "    .dataframe thead th {\n",
       "        text-align: right;\n",
       "    }\n",
       "</style>\n",
       "<table border=\"1\" class=\"dataframe\">\n",
       "  <thead>\n",
       "    <tr style=\"text-align: right;\">\n",
       "      <th></th>\n",
       "      <th>VIC1</th>\n",
       "    </tr>\n",
       "    <tr>\n",
       "      <th>SETTLEMENTDATE</th>\n",
       "      <th></th>\n",
       "    </tr>\n",
       "  </thead>\n",
       "  <tbody>\n",
       "    <tr>\n",
       "      <th>2009-01-01 00:30:00</th>\n",
       "      <td>4799.87</td>\n",
       "    </tr>\n",
       "    <tr>\n",
       "      <th>2009-01-01 01:00:00</th>\n",
       "      <td>4646.21</td>\n",
       "    </tr>\n",
       "    <tr>\n",
       "      <th>2009-01-01 01:30:00</th>\n",
       "      <td>4950.16</td>\n",
       "    </tr>\n",
       "  </tbody>\n",
       "</table>\n",
       "</div>"
      ],
      "text/plain": [
       "                        VIC1\n",
       "SETTLEMENTDATE              \n",
       "2009-01-01 00:30:00  4799.87\n",
       "2009-01-01 01:00:00  4646.21\n",
       "2009-01-01 01:30:00  4950.16"
      ]
     },
     "execution_count": 35,
     "metadata": {},
     "output_type": "execute_result"
    }
   ],
   "source": [
    "target = dftarget[['VIC1']][dftarget.index.year != 2019]\n",
    "target.head(3)"
   ]
  },
  {
   "cell_type": "code",
   "execution_count": 40,
   "metadata": {},
   "outputs": [
    {
     "data": {
      "text/plain": [
       "VIC1    0\n",
       "dtype: int64"
      ]
     },
     "execution_count": 40,
     "metadata": {},
     "output_type": "execute_result"
    }
   ],
   "source": [
    "target.isnull().sum()"
   ]
  },
  {
   "cell_type": "markdown",
   "metadata": {},
   "source": [
    "### dfvic contains all independent variable data, on matching timescale"
   ]
  },
  {
   "cell_type": "code",
   "execution_count": 36,
   "metadata": {},
   "outputs": [
    {
     "data": {
      "text/html": [
       "<div>\n",
       "<style scoped>\n",
       "    .dataframe tbody tr th:only-of-type {\n",
       "        vertical-align: middle;\n",
       "    }\n",
       "\n",
       "    .dataframe tbody tr th {\n",
       "        vertical-align: top;\n",
       "    }\n",
       "\n",
       "    .dataframe thead th {\n",
       "        text-align: right;\n",
       "    }\n",
       "</style>\n",
       "<table border=\"1\" class=\"dataframe\">\n",
       "  <thead>\n",
       "    <tr style=\"text-align: right;\">\n",
       "      <th></th>\n",
       "      <th>Date</th>\n",
       "      <th>Hour_of_day</th>\n",
       "      <th>Year</th>\n",
       "      <th>shoulder</th>\n",
       "      <th>summer</th>\n",
       "      <th>winter</th>\n",
       "      <th>workdayVIC</th>\n",
       "      <th>MILDURA-AIRPORT_MinT_76031</th>\n",
       "      <th>CAPE-NELSON_MaxT_90184</th>\n",
       "      <th>MORWELL_MaxT_85280</th>\n",
       "      <th>MELBOURNE-AIRPORT_MinT_86282</th>\n",
       "      <th>CAPE-NELSON_MinT_90184</th>\n",
       "      <th>MILDURA-AIRPORT_MaxT_76031</th>\n",
       "      <th>MELBOURNE-AIRPORT_MaxT_86282</th>\n",
       "      <th>MORWELL_MinT_85280</th>\n",
       "    </tr>\n",
       "    <tr>\n",
       "      <th>SETTLEMENTDATE</th>\n",
       "      <th></th>\n",
       "      <th></th>\n",
       "      <th></th>\n",
       "      <th></th>\n",
       "      <th></th>\n",
       "      <th></th>\n",
       "      <th></th>\n",
       "      <th></th>\n",
       "      <th></th>\n",
       "      <th></th>\n",
       "      <th></th>\n",
       "      <th></th>\n",
       "      <th></th>\n",
       "      <th></th>\n",
       "      <th></th>\n",
       "    </tr>\n",
       "  </thead>\n",
       "  <tbody>\n",
       "    <tr>\n",
       "      <th>2009-01-01 00:30:00</th>\n",
       "      <td>2009-01-01</td>\n",
       "      <td>0.5</td>\n",
       "      <td>2009</td>\n",
       "      <td>0</td>\n",
       "      <td>1</td>\n",
       "      <td>0</td>\n",
       "      <td>0.0</td>\n",
       "      <td>13.8</td>\n",
       "      <td>15.9</td>\n",
       "      <td>20.1</td>\n",
       "      <td>11.2</td>\n",
       "      <td>12.7</td>\n",
       "      <td>27.4</td>\n",
       "      <td>19.9</td>\n",
       "      <td>9.4</td>\n",
       "    </tr>\n",
       "    <tr>\n",
       "      <th>2009-01-01 01:00:00</th>\n",
       "      <td>2009-01-01</td>\n",
       "      <td>1.0</td>\n",
       "      <td>2009</td>\n",
       "      <td>0</td>\n",
       "      <td>1</td>\n",
       "      <td>0</td>\n",
       "      <td>0.0</td>\n",
       "      <td>13.8</td>\n",
       "      <td>15.9</td>\n",
       "      <td>20.1</td>\n",
       "      <td>11.2</td>\n",
       "      <td>12.7</td>\n",
       "      <td>27.4</td>\n",
       "      <td>19.9</td>\n",
       "      <td>9.4</td>\n",
       "    </tr>\n",
       "    <tr>\n",
       "      <th>2009-01-01 01:30:00</th>\n",
       "      <td>2009-01-01</td>\n",
       "      <td>1.5</td>\n",
       "      <td>2009</td>\n",
       "      <td>0</td>\n",
       "      <td>1</td>\n",
       "      <td>0</td>\n",
       "      <td>0.0</td>\n",
       "      <td>13.8</td>\n",
       "      <td>15.9</td>\n",
       "      <td>20.1</td>\n",
       "      <td>11.2</td>\n",
       "      <td>12.7</td>\n",
       "      <td>27.4</td>\n",
       "      <td>19.9</td>\n",
       "      <td>9.4</td>\n",
       "    </tr>\n",
       "  </tbody>\n",
       "</table>\n",
       "</div>"
      ],
      "text/plain": [
       "                           Date  Hour_of_day  Year  shoulder  summer  winter  \\\n",
       "SETTLEMENTDATE                                                                 \n",
       "2009-01-01 00:30:00  2009-01-01          0.5  2009         0       1       0   \n",
       "2009-01-01 01:00:00  2009-01-01          1.0  2009         0       1       0   \n",
       "2009-01-01 01:30:00  2009-01-01          1.5  2009         0       1       0   \n",
       "\n",
       "                     workdayVIC  MILDURA-AIRPORT_MinT_76031  \\\n",
       "SETTLEMENTDATE                                                \n",
       "2009-01-01 00:30:00         0.0                        13.8   \n",
       "2009-01-01 01:00:00         0.0                        13.8   \n",
       "2009-01-01 01:30:00         0.0                        13.8   \n",
       "\n",
       "                     CAPE-NELSON_MaxT_90184  MORWELL_MaxT_85280  \\\n",
       "SETTLEMENTDATE                                                    \n",
       "2009-01-01 00:30:00                    15.9                20.1   \n",
       "2009-01-01 01:00:00                    15.9                20.1   \n",
       "2009-01-01 01:30:00                    15.9                20.1   \n",
       "\n",
       "                     MELBOURNE-AIRPORT_MinT_86282  CAPE-NELSON_MinT_90184  \\\n",
       "SETTLEMENTDATE                                                              \n",
       "2009-01-01 00:30:00                          11.2                    12.7   \n",
       "2009-01-01 01:00:00                          11.2                    12.7   \n",
       "2009-01-01 01:30:00                          11.2                    12.7   \n",
       "\n",
       "                     MILDURA-AIRPORT_MaxT_76031  MELBOURNE-AIRPORT_MaxT_86282  \\\n",
       "SETTLEMENTDATE                                                                  \n",
       "2009-01-01 00:30:00                        27.4                          19.9   \n",
       "2009-01-01 01:00:00                        27.4                          19.9   \n",
       "2009-01-01 01:30:00                        27.4                          19.9   \n",
       "\n",
       "                     MORWELL_MinT_85280  \n",
       "SETTLEMENTDATE                           \n",
       "2009-01-01 00:30:00                 9.4  \n",
       "2009-01-01 01:00:00                 9.4  \n",
       "2009-01-01 01:30:00                 9.4  "
      ]
     },
     "execution_count": 36,
     "metadata": {},
     "output_type": "execute_result"
    }
   ],
   "source": [
    "dfvic = pd.read_csv(fvic, index_col=0, parse_dates=[0])\n",
    "dfvic.head(3)"
   ]
  },
  {
   "cell_type": "code",
   "execution_count": 37,
   "metadata": {},
   "outputs": [
    {
     "data": {
      "text/html": [
       "<div>\n",
       "<style scoped>\n",
       "    .dataframe tbody tr th:only-of-type {\n",
       "        vertical-align: middle;\n",
       "    }\n",
       "\n",
       "    .dataframe tbody tr th {\n",
       "        vertical-align: top;\n",
       "    }\n",
       "\n",
       "    .dataframe thead th {\n",
       "        text-align: right;\n",
       "    }\n",
       "</style>\n",
       "<table border=\"1\" class=\"dataframe\">\n",
       "  <thead>\n",
       "    <tr style=\"text-align: right;\">\n",
       "      <th></th>\n",
       "      <th>Date</th>\n",
       "      <th>Hour_of_day</th>\n",
       "      <th>Year</th>\n",
       "      <th>shoulder</th>\n",
       "      <th>summer</th>\n",
       "      <th>winter</th>\n",
       "      <th>workdayVIC</th>\n",
       "      <th>MILDURA-AIRPORT_MinT_76031</th>\n",
       "      <th>CAPE-NELSON_MaxT_90184</th>\n",
       "      <th>MORWELL_MaxT_85280</th>\n",
       "      <th>MELBOURNE-AIRPORT_MinT_86282</th>\n",
       "      <th>CAPE-NELSON_MinT_90184</th>\n",
       "      <th>MILDURA-AIRPORT_MaxT_76031</th>\n",
       "      <th>MELBOURNE-AIRPORT_MaxT_86282</th>\n",
       "      <th>MORWELL_MinT_85280</th>\n",
       "    </tr>\n",
       "    <tr>\n",
       "      <th>SETTLEMENTDATE</th>\n",
       "      <th></th>\n",
       "      <th></th>\n",
       "      <th></th>\n",
       "      <th></th>\n",
       "      <th></th>\n",
       "      <th></th>\n",
       "      <th></th>\n",
       "      <th></th>\n",
       "      <th></th>\n",
       "      <th></th>\n",
       "      <th></th>\n",
       "      <th></th>\n",
       "      <th></th>\n",
       "      <th></th>\n",
       "      <th></th>\n",
       "    </tr>\n",
       "  </thead>\n",
       "  <tbody>\n",
       "    <tr>\n",
       "      <th>2018-12-31 23:00:00</th>\n",
       "      <td>2018-12-31</td>\n",
       "      <td>23.0</td>\n",
       "      <td>2018</td>\n",
       "      <td>0</td>\n",
       "      <td>1</td>\n",
       "      <td>0</td>\n",
       "      <td>1.0</td>\n",
       "      <td>21.3</td>\n",
       "      <td>21.4</td>\n",
       "      <td>31.4</td>\n",
       "      <td>15.8</td>\n",
       "      <td>14.9</td>\n",
       "      <td>36.5</td>\n",
       "      <td>25.4</td>\n",
       "      <td>17.1</td>\n",
       "    </tr>\n",
       "    <tr>\n",
       "      <th>2018-12-31 23:30:00</th>\n",
       "      <td>2018-12-31</td>\n",
       "      <td>23.5</td>\n",
       "      <td>2018</td>\n",
       "      <td>0</td>\n",
       "      <td>1</td>\n",
       "      <td>0</td>\n",
       "      <td>1.0</td>\n",
       "      <td>21.3</td>\n",
       "      <td>21.4</td>\n",
       "      <td>31.4</td>\n",
       "      <td>15.8</td>\n",
       "      <td>14.9</td>\n",
       "      <td>36.5</td>\n",
       "      <td>25.4</td>\n",
       "      <td>17.1</td>\n",
       "    </tr>\n",
       "    <tr>\n",
       "      <th>2019-01-01 00:00:00</th>\n",
       "      <td>2019-01-01</td>\n",
       "      <td>0.0</td>\n",
       "      <td>2019</td>\n",
       "      <td>0</td>\n",
       "      <td>1</td>\n",
       "      <td>0</td>\n",
       "      <td>NaN</td>\n",
       "      <td>NaN</td>\n",
       "      <td>NaN</td>\n",
       "      <td>NaN</td>\n",
       "      <td>NaN</td>\n",
       "      <td>NaN</td>\n",
       "      <td>NaN</td>\n",
       "      <td>NaN</td>\n",
       "      <td>NaN</td>\n",
       "    </tr>\n",
       "  </tbody>\n",
       "</table>\n",
       "</div>"
      ],
      "text/plain": [
       "                           Date  Hour_of_day  Year  shoulder  summer  winter  \\\n",
       "SETTLEMENTDATE                                                                 \n",
       "2018-12-31 23:00:00  2018-12-31         23.0  2018         0       1       0   \n",
       "2018-12-31 23:30:00  2018-12-31         23.5  2018         0       1       0   \n",
       "2019-01-01 00:00:00  2019-01-01          0.0  2019         0       1       0   \n",
       "\n",
       "                     workdayVIC  MILDURA-AIRPORT_MinT_76031  \\\n",
       "SETTLEMENTDATE                                                \n",
       "2018-12-31 23:00:00         1.0                        21.3   \n",
       "2018-12-31 23:30:00         1.0                        21.3   \n",
       "2019-01-01 00:00:00         NaN                         NaN   \n",
       "\n",
       "                     CAPE-NELSON_MaxT_90184  MORWELL_MaxT_85280  \\\n",
       "SETTLEMENTDATE                                                    \n",
       "2018-12-31 23:00:00                    21.4                31.4   \n",
       "2018-12-31 23:30:00                    21.4                31.4   \n",
       "2019-01-01 00:00:00                     NaN                 NaN   \n",
       "\n",
       "                     MELBOURNE-AIRPORT_MinT_86282  CAPE-NELSON_MinT_90184  \\\n",
       "SETTLEMENTDATE                                                              \n",
       "2018-12-31 23:00:00                          15.8                    14.9   \n",
       "2018-12-31 23:30:00                          15.8                    14.9   \n",
       "2019-01-01 00:00:00                           NaN                     NaN   \n",
       "\n",
       "                     MILDURA-AIRPORT_MaxT_76031  MELBOURNE-AIRPORT_MaxT_86282  \\\n",
       "SETTLEMENTDATE                                                                  \n",
       "2018-12-31 23:00:00                        36.5                          25.4   \n",
       "2018-12-31 23:30:00                        36.5                          25.4   \n",
       "2019-01-01 00:00:00                         NaN                           NaN   \n",
       "\n",
       "                     MORWELL_MinT_85280  \n",
       "SETTLEMENTDATE                           \n",
       "2018-12-31 23:00:00                17.1  \n",
       "2018-12-31 23:30:00                17.1  \n",
       "2019-01-01 00:00:00                 NaN  "
      ]
     },
     "execution_count": 37,
     "metadata": {},
     "output_type": "execute_result"
    }
   ],
   "source": [
    "dfvic.tail(3)"
   ]
  },
  {
   "cell_type": "code",
   "execution_count": 38,
   "metadata": {},
   "outputs": [
    {
     "data": {
      "text/plain": [
       "Date                            0\n",
       "Hour_of_day                     0\n",
       "Year                            0\n",
       "shoulder                        0\n",
       "summer                          0\n",
       "winter                          0\n",
       "workdayVIC                      1\n",
       "MILDURA-AIRPORT_MinT_76031      1\n",
       "CAPE-NELSON_MaxT_90184          1\n",
       "MORWELL_MaxT_85280              1\n",
       "MELBOURNE-AIRPORT_MinT_86282    1\n",
       "CAPE-NELSON_MinT_90184          1\n",
       "MILDURA-AIRPORT_MaxT_76031      1\n",
       "MELBOURNE-AIRPORT_MaxT_86282    1\n",
       "MORWELL_MinT_85280              1\n",
       "dtype: int64"
      ]
     },
     "execution_count": 38,
     "metadata": {},
     "output_type": "execute_result"
    }
   ],
   "source": [
    "dfvic.isnull().sum()"
   ]
  },
  {
   "cell_type": "markdown",
   "metadata": {},
   "source": [
    "### dfmerged now contains both the target variable and all independent variables, for year 2018"
   ]
  },
  {
   "cell_type": "code",
   "execution_count": 23,
   "metadata": {},
   "outputs": [
    {
     "data": {
      "text/html": [
       "<div>\n",
       "<style scoped>\n",
       "    .dataframe tbody tr th:only-of-type {\n",
       "        vertical-align: middle;\n",
       "    }\n",
       "\n",
       "    .dataframe tbody tr th {\n",
       "        vertical-align: top;\n",
       "    }\n",
       "\n",
       "    .dataframe thead th {\n",
       "        text-align: right;\n",
       "    }\n",
       "</style>\n",
       "<table border=\"1\" class=\"dataframe\">\n",
       "  <thead>\n",
       "    <tr style=\"text-align: right;\">\n",
       "      <th></th>\n",
       "      <th>Date</th>\n",
       "      <th>Hour_of_day</th>\n",
       "      <th>Year</th>\n",
       "      <th>shoulder</th>\n",
       "      <th>summer</th>\n",
       "      <th>winter</th>\n",
       "      <th>workdayVIC</th>\n",
       "      <th>MILDURA-AIRPORT_MinT_76031</th>\n",
       "      <th>CAPE-NELSON_MaxT_90184</th>\n",
       "      <th>MORWELL_MaxT_85280</th>\n",
       "      <th>MELBOURNE-AIRPORT_MinT_86282</th>\n",
       "      <th>CAPE-NELSON_MinT_90184</th>\n",
       "      <th>MILDURA-AIRPORT_MaxT_76031</th>\n",
       "      <th>MELBOURNE-AIRPORT_MaxT_86282</th>\n",
       "      <th>MORWELL_MinT_85280</th>\n",
       "      <th>VIC1</th>\n",
       "    </tr>\n",
       "    <tr>\n",
       "      <th>SETTLEMENTDATE</th>\n",
       "      <th></th>\n",
       "      <th></th>\n",
       "      <th></th>\n",
       "      <th></th>\n",
       "      <th></th>\n",
       "      <th></th>\n",
       "      <th></th>\n",
       "      <th></th>\n",
       "      <th></th>\n",
       "      <th></th>\n",
       "      <th></th>\n",
       "      <th></th>\n",
       "      <th></th>\n",
       "      <th></th>\n",
       "      <th></th>\n",
       "      <th></th>\n",
       "    </tr>\n",
       "  </thead>\n",
       "  <tbody>\n",
       "    <tr>\n",
       "      <th>2018-01-01 00:00:00</th>\n",
       "      <td>2018-01-01</td>\n",
       "      <td>0.0</td>\n",
       "      <td>2018</td>\n",
       "      <td>0</td>\n",
       "      <td>1</td>\n",
       "      <td>0</td>\n",
       "      <td>0.0</td>\n",
       "      <td>14.3</td>\n",
       "      <td>21.1</td>\n",
       "      <td>26.2</td>\n",
       "      <td>14.0</td>\n",
       "      <td>14.9</td>\n",
       "      <td>31.7</td>\n",
       "      <td>26.2</td>\n",
       "      <td>15.5</td>\n",
       "      <td>4445.07</td>\n",
       "    </tr>\n",
       "    <tr>\n",
       "      <th>2018-01-01 00:30:00</th>\n",
       "      <td>2018-01-01</td>\n",
       "      <td>0.5</td>\n",
       "      <td>2018</td>\n",
       "      <td>0</td>\n",
       "      <td>1</td>\n",
       "      <td>0</td>\n",
       "      <td>0.0</td>\n",
       "      <td>14.3</td>\n",
       "      <td>21.1</td>\n",
       "      <td>26.2</td>\n",
       "      <td>14.0</td>\n",
       "      <td>14.9</td>\n",
       "      <td>31.7</td>\n",
       "      <td>26.2</td>\n",
       "      <td>15.5</td>\n",
       "      <td>4251.18</td>\n",
       "    </tr>\n",
       "    <tr>\n",
       "      <th>2018-01-01 01:00:00</th>\n",
       "      <td>2018-01-01</td>\n",
       "      <td>1.0</td>\n",
       "      <td>2018</td>\n",
       "      <td>0</td>\n",
       "      <td>1</td>\n",
       "      <td>0</td>\n",
       "      <td>0.0</td>\n",
       "      <td>14.3</td>\n",
       "      <td>21.1</td>\n",
       "      <td>26.2</td>\n",
       "      <td>14.0</td>\n",
       "      <td>14.9</td>\n",
       "      <td>31.7</td>\n",
       "      <td>26.2</td>\n",
       "      <td>15.5</td>\n",
       "      <td>4092.53</td>\n",
       "    </tr>\n",
       "  </tbody>\n",
       "</table>\n",
       "</div>"
      ],
      "text/plain": [
       "                           Date  Hour_of_day  Year  shoulder  summer  winter  \\\n",
       "SETTLEMENTDATE                                                                 \n",
       "2018-01-01 00:00:00  2018-01-01          0.0  2018         0       1       0   \n",
       "2018-01-01 00:30:00  2018-01-01          0.5  2018         0       1       0   \n",
       "2018-01-01 01:00:00  2018-01-01          1.0  2018         0       1       0   \n",
       "\n",
       "                     workdayVIC  MILDURA-AIRPORT_MinT_76031  \\\n",
       "SETTLEMENTDATE                                                \n",
       "2018-01-01 00:00:00         0.0                        14.3   \n",
       "2018-01-01 00:30:00         0.0                        14.3   \n",
       "2018-01-01 01:00:00         0.0                        14.3   \n",
       "\n",
       "                     CAPE-NELSON_MaxT_90184  MORWELL_MaxT_85280  \\\n",
       "SETTLEMENTDATE                                                    \n",
       "2018-01-01 00:00:00                    21.1                26.2   \n",
       "2018-01-01 00:30:00                    21.1                26.2   \n",
       "2018-01-01 01:00:00                    21.1                26.2   \n",
       "\n",
       "                     MELBOURNE-AIRPORT_MinT_86282  CAPE-NELSON_MinT_90184  \\\n",
       "SETTLEMENTDATE                                                              \n",
       "2018-01-01 00:00:00                          14.0                    14.9   \n",
       "2018-01-01 00:30:00                          14.0                    14.9   \n",
       "2018-01-01 01:00:00                          14.0                    14.9   \n",
       "\n",
       "                     MILDURA-AIRPORT_MaxT_76031  MELBOURNE-AIRPORT_MaxT_86282  \\\n",
       "SETTLEMENTDATE                                                                  \n",
       "2018-01-01 00:00:00                        31.7                          26.2   \n",
       "2018-01-01 00:30:00                        31.7                          26.2   \n",
       "2018-01-01 01:00:00                        31.7                          26.2   \n",
       "\n",
       "                     MORWELL_MinT_85280     VIC1  \n",
       "SETTLEMENTDATE                                    \n",
       "2018-01-01 00:00:00                15.5  4445.07  \n",
       "2018-01-01 00:30:00                15.5  4251.18  \n",
       "2018-01-01 01:00:00                15.5  4092.53  "
      ]
     },
     "execution_count": 23,
     "metadata": {},
     "output_type": "execute_result"
    }
   ],
   "source": [
    "dfmerged = pd.merge(dfvic, target, how='left', left_index=True, right_index=True)\n",
    "dfmerged.dropna(inplace=True)  # this should only get rid of last row, first half hour of 2019 with some NaN values\n",
    "dfmerged.head(3)"
   ]
  },
  {
   "cell_type": "code",
   "execution_count": 24,
   "metadata": {},
   "outputs": [
    {
     "data": {
      "text/plain": [
       "0"
      ]
     },
     "execution_count": 24,
     "metadata": {},
     "output_type": "execute_result"
    }
   ],
   "source": [
    "target = dfmerged[['VIC1']].copy()\n",
    "target.isnull().any(axis=1).sum()"
   ]
  },
  {
   "cell_type": "code",
   "execution_count": 25,
   "metadata": {},
   "outputs": [],
   "source": [
    "# daily = seasonal_decompose(target.VIC1, freq = 48)\n",
    "# fig = plt.figure()  \n",
    "# fig = daily.plot()  \n",
    "# fig.set_size_inches(12, 6)\n",
    "# plt.show()"
   ]
  },
  {
   "cell_type": "code",
   "execution_count": 26,
   "metadata": {},
   "outputs": [],
   "source": [
    "# weekly = seasonal_decompose(target.d_unexp, freq = 48*7)\n",
    "# fig = plt.figure()  \n",
    "# fig = weekly.plot()  \n",
    "# fig.set_size_inches(12, 6)"
   ]
  },
  {
   "cell_type": "code",
   "execution_count": 27,
   "metadata": {},
   "outputs": [],
   "source": [
    "target.dropna(inplace=True)\n",
    "# target.head()"
   ]
  },
  {
   "cell_type": "code",
   "execution_count": 28,
   "metadata": {},
   "outputs": [],
   "source": [
    "# def stacked(df):\n",
    "#     df_top = df.cumsum(axis=1)\n",
    "#     df_bottom = df_top.shift(axis=1).fillna({'y0': 0})[::-1]\n",
    "#     df_stack = pd.concat([df_bottom, df_top], ignore_index=True)\n",
    "#     return df_stack"
   ]
  },
  {
   "cell_type": "code",
   "execution_count": 29,
   "metadata": {},
   "outputs": [],
   "source": [
    "# vfeatures.head(2)"
   ]
  },
  {
   "cell_type": "code",
   "execution_count": 30,
   "metadata": {},
   "outputs": [],
   "source": [
    "# dfvic[dfvic.index.isin(target.index)].head()"
   ]
  },
  {
   "cell_type": "markdown",
   "metadata": {},
   "source": [
    "<font color = 'purple'><i>\n",
    "### This was just for creating graphs for a powerpoint presentation"
   ]
  },
  {
   "cell_type": "code",
   "execution_count": 31,
   "metadata": {},
   "outputs": [],
   "source": [
    "dtformats = DatetimeTickFormatter(microseconds = ['%fus'],\n",
    "milliseconds = ['%3Nms', '%S.%3Ns'],\n",
    "seconds = ['%Ss'],\n",
    "minsec = [':%M:%S'],\n",
    "minutes = [':%M', '%Mm'],\n",
    "hourmin = ['%H:%M'],\n",
    "hours = ['%Hh', '%H:%M'],\n",
    "days = ['%d/%m', '%a%d'],\n",
    "months = ['%m/%Y', '%b %Y'],\n",
    "years = ['%Y'])"
   ]
  },
  {
   "cell_type": "code",
   "execution_count": 32,
   "metadata": {},
   "outputs": [
    {
     "data": {
      "text/html": [
       "<div style=\"display: table;\"><div style=\"display: table-row;\"><div style=\"display: table-cell;\"><b title=\"bokeh.models.renderers.GlyphRenderer\">GlyphRenderer</b>(</div><div style=\"display: table-cell;\">id&nbsp;=&nbsp;'1058', <span id=\"1061\" style=\"cursor: pointer;\">&hellip;)</span></div></div><div class=\"1060\" style=\"display: none;\"><div style=\"display: table-cell;\"></div><div style=\"display: table-cell;\">data_source&nbsp;=&nbsp;ColumnDataSource(id='1055', ...),</div></div><div class=\"1060\" style=\"display: none;\"><div style=\"display: table-cell;\"></div><div style=\"display: table-cell;\">glyph&nbsp;=&nbsp;VBar(id='1056', ...),</div></div><div class=\"1060\" style=\"display: none;\"><div style=\"display: table-cell;\"></div><div style=\"display: table-cell;\">hover_glyph&nbsp;=&nbsp;None,</div></div><div class=\"1060\" style=\"display: none;\"><div style=\"display: table-cell;\"></div><div style=\"display: table-cell;\">js_event_callbacks&nbsp;=&nbsp;{},</div></div><div class=\"1060\" style=\"display: none;\"><div style=\"display: table-cell;\"></div><div style=\"display: table-cell;\">js_property_callbacks&nbsp;=&nbsp;{},</div></div><div class=\"1060\" style=\"display: none;\"><div style=\"display: table-cell;\"></div><div style=\"display: table-cell;\">level&nbsp;=&nbsp;'glyph',</div></div><div class=\"1060\" style=\"display: none;\"><div style=\"display: table-cell;\"></div><div style=\"display: table-cell;\">muted&nbsp;=&nbsp;False,</div></div><div class=\"1060\" style=\"display: none;\"><div style=\"display: table-cell;\"></div><div style=\"display: table-cell;\">muted_glyph&nbsp;=&nbsp;None,</div></div><div class=\"1060\" style=\"display: none;\"><div style=\"display: table-cell;\"></div><div style=\"display: table-cell;\">name&nbsp;=&nbsp;None,</div></div><div class=\"1060\" style=\"display: none;\"><div style=\"display: table-cell;\"></div><div style=\"display: table-cell;\">nonselection_glyph&nbsp;=&nbsp;VBar(id='1057', ...),</div></div><div class=\"1060\" style=\"display: none;\"><div style=\"display: table-cell;\"></div><div style=\"display: table-cell;\">selection_glyph&nbsp;=&nbsp;None,</div></div><div class=\"1060\" style=\"display: none;\"><div style=\"display: table-cell;\"></div><div style=\"display: table-cell;\">subscribed_events&nbsp;=&nbsp;[],</div></div><div class=\"1060\" style=\"display: none;\"><div style=\"display: table-cell;\"></div><div style=\"display: table-cell;\">tags&nbsp;=&nbsp;[],</div></div><div class=\"1060\" style=\"display: none;\"><div style=\"display: table-cell;\"></div><div style=\"display: table-cell;\">view&nbsp;=&nbsp;CDSView(id='1059', ...),</div></div><div class=\"1060\" style=\"display: none;\"><div style=\"display: table-cell;\"></div><div style=\"display: table-cell;\">visible&nbsp;=&nbsp;True,</div></div><div class=\"1060\" style=\"display: none;\"><div style=\"display: table-cell;\"></div><div style=\"display: table-cell;\">x_range_name&nbsp;=&nbsp;'default',</div></div><div class=\"1060\" style=\"display: none;\"><div style=\"display: table-cell;\"></div><div style=\"display: table-cell;\">y_range_name&nbsp;=&nbsp;'temp')</div></div></div>\n",
       "<script>\n",
       "(function() {\n",
       "  var expanded = false;\n",
       "  var ellipsis = document.getElementById(\"1061\");\n",
       "  ellipsis.addEventListener(\"click\", function() {\n",
       "    var rows = document.getElementsByClassName(\"1060\");\n",
       "    for (var i = 0; i < rows.length; i++) {\n",
       "      var el = rows[i];\n",
       "      el.style.display = expanded ? \"none\" : \"table-row\";\n",
       "    }\n",
       "    ellipsis.innerHTML = expanded ? \"&hellip;)\" : \"&lsaquo;&lsaquo;&lsaquo;\";\n",
       "    expanded = !expanded;\n",
       "  });\n",
       "})();\n",
       "</script>\n"
      ],
      "text/plain": [
       "GlyphRenderer(id='1058', ...)"
      ]
     },
     "execution_count": 32,
     "metadata": {},
     "output_type": "execute_result"
    }
   ],
   "source": [
    "v = figure(plot_height = 400, plot_width = 850, x_axis_type = 'datetime')\n",
    "\n",
    "v.extra_y_ranges = {'temp' : Range1d(start=0, end=45)}\n",
    "v.xaxis.formatter = dtformats\n",
    "v.add_layout(LinearAxis(y_range_name='temp'), 'right')\n",
    "v.line(target.index, target.VIC1, color = 'purple')\n",
    "v.line(target.index, dfvic['MELBOURNE-AIRPORT_MaxT_86282'][dfvic.index.isin(target.index)], color = 'orange', y_range_name='temp')\n",
    "v.line(target.index, dfvic['MELBOURNE-AIRPORT_MinT_86282'][dfvic.index.isin(target.index)], color = 'aqua', y_range_name='temp')\n",
    "v.vbar(target.index - pd.to_timedelta(15, unit='m'), width=pd.to_timedelta(30, unit='m'), \n",
    "       top=dfvic['workdayVIC'][dfvic.index.isin(target.index)]*100, fill_alpha=0.3, fill_color = 'green', \n",
    "       line_alpha=0, y_range_name='temp')\n",
    "\n",
    "# show(v)"
   ]
  },
  {
   "cell_type": "code",
   "execution_count": 33,
   "metadata": {},
   "outputs": [],
   "source": [
    "# z = figure(plot_height = 400, plot_width = 850, x_axis_type = 'datetime')\n",
    "\n",
    "# srange = pd.to_datetime('20-4-2018', dayfirst=True)\n",
    "# erange = pd.to_datetime('24-4-2018', dayfirst=True)\n",
    "\n",
    "# myfontsize = '14pt'\n",
    "# labelfont = '18pt'\n",
    "\n",
    "# z.x_range.start = srange\n",
    "# z.x_range.end   = erange\n",
    "# z.y_range.start = 2000\n",
    "# z.y_range.end   = 6500\n",
    "# z.yaxis.major_label_text_font_size = myfontsize\n",
    "# z.xaxis.major_label_text_font_size = myfontsize\n",
    "# z.xaxis.formatter = dtformats\n",
    "\n",
    "# z.yaxis.axis_label = 'Electricity Demand (MW)'\n",
    "# z.yaxis.axis_label_text_font_size = labelfont\n",
    "# z.yaxis.axis_label_standoff = 20\n",
    "\n",
    "\n",
    "# z.extra_y_ranges = {'temp' : Range1d(start=0, end=45)}\n",
    "# z.add_layout(LinearAxis(y_range_name='temp', major_label_text_font_size=myfontsize, \n",
    "#                         axis_label='Temperature (Min/Max) - deg C', axis_label_text_font_size=labelfont, axis_label_standoff = 20)\n",
    "#              , 'right')\n",
    "\n",
    "# # Elec Demand\n",
    "# z.line(target.index, target.VIC1, color = 'purple', line_width=3)\n",
    "\n",
    "# # # # Melb max temp\n",
    "# # z.line(target.index, dfvic['MELBOURNE-AIRPORT_MaxT_86282'][dfvic.index.isin(target.index)], color = 'orange', \n",
    "# #        y_range_name='temp', line_width=1.5, legend='Daily Max Temp (Melb Airport)')\n",
    "# # # # Melb min temp\n",
    "# # z.line(target.index, dfvic['MELBOURNE-AIRPORT_MinT_86282'][dfvic.index.isin(target.index)], color = 'aqua', \n",
    "# #        y_range_name='temp', line_width=1.5, legend='Daily Min Temp (Melb Airport)')\n",
    "\n",
    "# # is workday\n",
    "# workx = target.index + pd.to_timedelta(15, unit='m')\n",
    "# worky = dfvic['workdayVIC'][dfvic.index.isin(target.index)]*100\n",
    "# z.vbar(workx, width=pd.to_timedelta(30, unit='m'), top=worky, fill_alpha=0.3, fill_color = 'green', line_alpha=0, y_range_name='temp', legend='Is a workday')\n",
    "\n",
    "# z.legend.location = 'top_center'\n",
    "# z.legend.label_text_font_size = '12pt'\n",
    "\n",
    "# show(z)"
   ]
  },
  {
   "cell_type": "code",
   "execution_count": 34,
   "metadata": {},
   "outputs": [],
   "source": [
    "# target['Time'] = target.index.time\n",
    "# target.head()"
   ]
  },
  {
   "cell_type": "code",
   "execution_count": null,
   "metadata": {},
   "outputs": [],
   "source": [
    "# yravg = pd.pivot_table(data=target[['VIC1','Time']], index='Time')"
   ]
  },
  {
   "cell_type": "code",
   "execution_count": null,
   "metadata": {},
   "outputs": [],
   "source": [
    "# y = figure(plot_height = 400, plot_width = 600, x_axis_type = 'datetime')\n",
    "\n",
    "# y.x_range.start=pd.to_datetime('1-1-1970 00:00:00')\n",
    "# y.x_range.end  =pd.to_datetime('1-1-1970 23:30:00')\n",
    "\n",
    "# y.yaxis.major_label_text_font_size = myfontsize\n",
    "# y.xaxis.major_label_text_font_size = myfontsize\n",
    "\n",
    "# y.yaxis.axis_label = 'Electricity Demand (MW)'\n",
    "# y.yaxis.axis_label_text_font_size = labelfont\n",
    "# y.yaxis.axis_label_standoff = 20\n",
    "\n",
    "# y.xaxis.formatter = DatetimeTickFormatter(microseconds = ['%fus'],\n",
    "# milliseconds = ['%3Nms', '%S.%3Ns'],\n",
    "# seconds = ['%Ss'],\n",
    "# minsec = [':%M:%S'],\n",
    "# minutes = [':%M', '%Mm'],\n",
    "# hourmin = ['%H:%M'],\n",
    "# hours = ['%H:00', '%H:%M'],\n",
    "# days = ['%H:00'], #['%d/%m', '%a%d'],\n",
    "# months = ['%m/%Y', '%b %Y'],\n",
    "# years = ['%Y'])\n",
    "\n",
    "# y.line(yravg.index, yravg.VIC1, color='purple', line_width=2.5)\n",
    "\n",
    "# show(y)"
   ]
  },
  {
   "cell_type": "code",
   "execution_count": null,
   "metadata": {},
   "outputs": [],
   "source": []
  },
  {
   "cell_type": "code",
   "execution_count": null,
   "metadata": {},
   "outputs": [],
   "source": [
    "# draw_gridplot(target, columns=['wseason'])"
   ]
  },
  {
   "cell_type": "code",
   "execution_count": null,
   "metadata": {},
   "outputs": [],
   "source": [
    "newtarget = dfmerged[['VIC1']].copy()"
   ]
  },
  {
   "cell_type": "code",
   "execution_count": null,
   "metadata": {},
   "outputs": [],
   "source": [
    "# nweekly = seasonal_decompose(target.VIC1, freq = 48*7)\n",
    "# fig = plt.figure()  \n",
    "# fig = nweekly.plot()  \n",
    "# fig.set_size_inches(12, 6)\n",
    "# plt.show()"
   ]
  },
  {
   "cell_type": "code",
   "execution_count": null,
   "metadata": {},
   "outputs": [],
   "source": [
    "# newtarget['wtrend'] = nweekly.trend\n",
    "# newtarget['wseason'] = nweekly.seasonal\n",
    "# newtarget['wresid'] = nweekly.resid\n",
    "# newtarget.dropna(inplace=True)\n",
    "# newtarget.head()"
   ]
  },
  {
   "cell_type": "code",
   "execution_count": null,
   "metadata": {},
   "outputs": [],
   "source": [
    "# draw_gridplot(newtarget, columns=['wseason'])"
   ]
  },
  {
   "cell_type": "code",
   "execution_count": null,
   "metadata": {},
   "outputs": [],
   "source": [
    "# ndaily = seasonal_decompose(target.wtrend, freq = 48)\n",
    "# fig = plt.figure()  \n",
    "# fig = ndaily.plot()  \n",
    "# fig.set_size_inches(12, 6)\n",
    "# plt.show()"
   ]
  },
  {
   "cell_type": "code",
   "execution_count": null,
   "metadata": {},
   "outputs": [],
   "source": [
    "# len(newtarget) / 4"
   ]
  },
  {
   "cell_type": "code",
   "execution_count": null,
   "metadata": {},
   "outputs": [],
   "source": [
    "newtarget.head()"
   ]
  },
  {
   "cell_type": "code",
   "execution_count": null,
   "metadata": {},
   "outputs": [],
   "source": [
    "# newtarget['w_unexp'] = newtarget[['wtrend','wresid']].sum(axis=1)\n",
    "# newtarget.head(2)"
   ]
  },
  {
   "cell_type": "code",
   "execution_count": null,
   "metadata": {},
   "outputs": [],
   "source": [
    "# sumwin = seasonal_decompose(newtarget.wtrend, freq=int(len(newtarget) / 4))\n",
    "# fig = plt.figure()  \n",
    "# fig = sumwin.plot()  \n",
    "# fig.set_size_inches(12, 6)\n",
    "# plt.show()"
   ]
  },
  {
   "cell_type": "code",
   "execution_count": null,
   "metadata": {},
   "outputs": [],
   "source": [
    "# newtarget['strend'] = sumwin.trend\n",
    "# newtarget['sseason'] = sumwin.seasonal\n",
    "# newtarget['sresid'] = sumwin.resid\n",
    "# newtarget.dropna(inplace=True)\n",
    "# newtarget.head()"
   ]
  },
  {
   "cell_type": "code",
   "execution_count": null,
   "metadata": {},
   "outputs": [],
   "source": [
    "# newtarget['unexplained'] = newtarget[['sseason','sresid','wresid']].sum(axis=1)\n",
    "# newtarget['Total'] = newtarget[['strend','wseason','unexplained']].sum(axis=1)\n",
    "# newtarget.head(3)"
   ]
  },
  {
   "cell_type": "code",
   "execution_count": null,
   "metadata": {},
   "outputs": [],
   "source": [
    "# newtarget[abs(newtarget.VIC1 - newtarget.Total) > 0.01]"
   ]
  },
  {
   "cell_type": "code",
   "execution_count": null,
   "metadata": {},
   "outputs": [],
   "source": [
    "# fig, ax = plt.subplots(figsize=(12,4))\n",
    "# ax.plot(newtarget.index, newtarget.unexplained)\n",
    "# plt.show()"
   ]
  },
  {
   "cell_type": "markdown",
   "metadata": {},
   "source": [
    "<font color = 'purple'><br>\n",
    "### Creating StandardScaled set of exogenous features"
   ]
  },
  {
   "cell_type": "code",
   "execution_count": null,
   "metadata": {},
   "outputs": [],
   "source": [
    "vfeatures = dfvic[dfvic.index.isin(newtarget.index)].drop(columns=['Date','Year','Hour_of_day'])\n",
    "vfeatures.head()"
   ]
  },
  {
   "cell_type": "code",
   "execution_count": null,
   "metadata": {},
   "outputs": [],
   "source": [
    "ssv = StandardScaler()"
   ]
  },
  {
   "cell_type": "code",
   "execution_count": null,
   "metadata": {},
   "outputs": [],
   "source": [
    "vfeatures = pd.DataFrame(data=ssv.fit_transform(vfeatures), index=vfeatures.index, columns=vfeatures.columns)\n",
    "vfeatures.head()"
   ]
  },
  {
   "cell_type": "code",
   "execution_count": null,
   "metadata": {},
   "outputs": [],
   "source": []
  },
  {
   "cell_type": "code",
   "execution_count": null,
   "metadata": {},
   "outputs": [],
   "source": [
    "# both_for_plot = pd.merge(vfeatures, newtarget[['unexplained']], how='inner', left_index=True, right_index=True)"
   ]
  },
  {
   "cell_type": "code",
   "execution_count": null,
   "metadata": {},
   "outputs": [],
   "source": [
    "def multi_scatter(indf, ycol, xcols_list, no_cols=4):\n",
    "\n",
    "    no_rows = int(np.ceil(len(xcols_list)/no_cols))\n",
    "    plotlen = int(round((15/no_cols)*no_rows))\n",
    "    sfig, saxes = plt.subplots(nrows=no_rows, ncols=no_cols, figsize = (15,plotlen), sharey=True)\n",
    "\n",
    "    saxes = saxes.flatten()\n",
    "\n",
    "    for ct, a in enumerate(xcols_list):\n",
    "        saxes[ct].scatter(x=indf[a], y= indf[ycol])\n",
    "        saxes[ct].set(title=f\"{ycol} vs {a}\")\n",
    "\n",
    "    sfig.subplots_adjust(wspace= 0.2, hspace=0.35)\n",
    "#     plt.savefig(\"correlation-plots.png\")\n",
    "    plt.show()"
   ]
  },
  {
   "cell_type": "code",
   "execution_count": null,
   "metadata": {},
   "outputs": [],
   "source": [
    "# multi_scatter(both_for_plot, ycol='unexplained', xcols_list=vfeatures.columns)"
   ]
  },
  {
   "cell_type": "code",
   "execution_count": null,
   "metadata": {},
   "outputs": [],
   "source": []
  },
  {
   "cell_type": "code",
   "execution_count": null,
   "metadata": {},
   "outputs": [],
   "source": [
    "# newtarget['vdif'] = newtarget.VIC1.diff()\n",
    "# newtarget.dropna(inplace=True)\n",
    "# newtarget.head(3)"
   ]
  },
  {
   "cell_type": "code",
   "execution_count": null,
   "metadata": {},
   "outputs": [],
   "source": [
    "# dif = figure(plot_height = 400, plot_width = 850, x_axis_type = 'datetime')\n",
    "\n",
    "# dif.line(newtarget.index, newtarget.VIC1, color = 'purple')\n",
    "# dif.line(newtarget.index, newtarget.vdif, color = 'green')\n",
    "# dif.xaxis.formatter = dtformats\n",
    "\n",
    "# show(dif)"
   ]
  },
  {
   "cell_type": "code",
   "execution_count": null,
   "metadata": {},
   "outputs": [],
   "source": [
    "# fig, ax = plt.subplots(figsize=(15,5))\n",
    "# plot_acf(newtarget.vdif.values, lags=100, ax=ax)\n",
    "# plt.show()"
   ]
  },
  {
   "cell_type": "code",
   "execution_count": null,
   "metadata": {},
   "outputs": [],
   "source": [
    "# fig, ax = plt.subplots(figsize=(15,5))\n",
    "# plot_pacf(newtarget.vdif.values, lags=100, ax=ax)\n",
    "# plt.show()"
   ]
  },
  {
   "cell_type": "code",
   "execution_count": null,
   "metadata": {},
   "outputs": [],
   "source": [
    "from statsmodels.tsa.stattools import adfuller\n",
    "def test_stationarity(timeseries):\n",
    "\n",
    "    #Determing rolling statistics\n",
    "    rolmean = timeseries.rolling(window=12, center=False).mean()\n",
    "    rolstd = timeseries.rolling(window=12, center=False).std()\n",
    "\n",
    "    #Plot rolling statistics:\n",
    "    fig = plt.figure(figsize=(12, 8))\n",
    "    orig = plt.plot(timeseries, color='blue',label='Original')\n",
    "    mean = plt.plot(rolmean, color='red', label='Rolling Mean')\n",
    "    std = plt.plot(rolstd, color='black', label = 'Rolling Std')\n",
    "    plt.legend(loc='best')\n",
    "    plt.title('Rolling Mean & Standard Deviation')\n",
    "    plt.show()\n",
    "    \n",
    "    #Perform Dickey-Fuller test:\n",
    "    print('Results of Dickey-Fuller Test:')\n",
    "    dftest = adfuller(timeseries, autolag='AIC')\n",
    "    dfoutput = pd.Series(dftest[0:4], index=['Test Statistic','p-value','#Lags Used','Number of Observations Used'])\n",
    "    for key,value in list(dftest[4].items()):\n",
    "        dfoutput['Critical Value (%s)'%key] = value\n",
    "    print(dfoutput) "
   ]
  },
  {
   "cell_type": "code",
   "execution_count": null,
   "metadata": {},
   "outputs": [],
   "source": [
    "# test_stationarity(newtarget.unexplained)"
   ]
  },
  {
   "cell_type": "code",
   "execution_count": null,
   "metadata": {},
   "outputs": [],
   "source": [
    "# newtarget\n",
    "# print(len(newtarget))\n",
    "# print(len(newtarget[vfeatures.iloc[1:].index == newtarget.index]))"
   ]
  },
  {
   "cell_type": "code",
   "execution_count": null,
   "metadata": {},
   "outputs": [],
   "source": [
    "# print(newtarget.index.min())\n",
    "# print(newtarget.index.max())"
   ]
  },
  {
   "cell_type": "code",
   "execution_count": null,
   "metadata": {},
   "outputs": [],
   "source": [
    "%%time\n",
    "# Variables\n",
    "endog = newtarget.VIC1\n",
    "exog = vfeatures.iloc[1:]\n",
    "\n",
    "# Fit the model\n",
    "mod = sm.tsa.statespace.SARIMAX(endog, exog, order=(1,1,1), seasonal_order=(1,0,0,48))\n",
    "res = mod.fit(disp=False)\n",
    "print(res.summary())"
   ]
  },
  {
   "cell_type": "code",
   "execution_count": null,
   "metadata": {},
   "outputs": [],
   "source": [
    "# with open('sarimax111x100s48.pickle', 'wb') as outfile:\n",
    "#     dill.dump(res, outfile)\n",
    "#     ## this doesn't work, it's 2.6GB...."
   ]
  },
  {
   "cell_type": "code",
   "execution_count": null,
   "metadata": {},
   "outputs": [],
   "source": [
    "%%time\n",
    "yhat = res.predict(start=newtarget.index.min(), end=newtarget.index.max())"
   ]
  },
  {
   "cell_type": "code",
   "execution_count": null,
   "metadata": {},
   "outputs": [],
   "source": [
    "newtarget.head()"
   ]
  },
  {
   "cell_type": "code",
   "execution_count": null,
   "metadata": {},
   "outputs": [],
   "source": [
    "newtarget['pred'] = yhat\n",
    "newtarget.head(3)"
   ]
  },
  {
   "cell_type": "code",
   "execution_count": null,
   "metadata": {},
   "outputs": [],
   "source": [
    "newtarget.index.max()"
   ]
  },
  {
   "cell_type": "code",
   "execution_count": null,
   "metadata": {},
   "outputs": [],
   "source": [
    "forecast = res.get_prediction(start=newtarget.index.min(), end=newtarget.index.max(), dynamic = True)"
   ]
  },
  {
   "cell_type": "code",
   "execution_count": null,
   "metadata": {},
   "outputs": [],
   "source": [
    "forecast.prediction_results.results"
   ]
  },
  {
   "cell_type": "code",
   "execution_count": null,
   "metadata": {},
   "outputs": [],
   "source": [
    "# newtarget['forecast'] = forecast.prediction_results()"
   ]
  },
  {
   "cell_type": "code",
   "execution_count": null,
   "metadata": {},
   "outputs": [],
   "source": [
    "# [r for r in forecast.prediction_results.results]"
   ]
  },
  {
   "cell_type": "code",
   "execution_count": null,
   "metadata": {},
   "outputs": [],
   "source": [
    "newtarget"
   ]
  },
  {
   "cell_type": "code",
   "execution_count": null,
   "metadata": {},
   "outputs": [],
   "source": [
    "p = figure(x_axis_type='datetime', plot_width = 850, plot_height = 400)\n",
    "\n",
    "p.line(newtarget.index, newtarget.VIC1, color='blue')\n",
    "p.line(newtarget.index, newtarget.pred, color='pink')\n",
    "# p.line(newtarget.index, newtarget.forecast, color='green')\n",
    "\n",
    "show(p)"
   ]
  },
  {
   "cell_type": "code",
   "execution_count": null,
   "metadata": {},
   "outputs": [],
   "source": []
  }
 ],
 "metadata": {
  "kernelspec": {
   "display_name": "Python 3",
   "language": "python",
   "name": "python3"
  },
  "language_info": {
   "codemirror_mode": {
    "name": "ipython",
    "version": 3
   },
   "file_extension": ".py",
   "mimetype": "text/x-python",
   "name": "python",
   "nbconvert_exporter": "python",
   "pygments_lexer": "ipython3",
   "version": "3.6.8"
  }
 },
 "nbformat": 4,
 "nbformat_minor": 2
}
