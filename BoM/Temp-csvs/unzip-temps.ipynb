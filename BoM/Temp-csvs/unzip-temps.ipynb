{
 "cells": [
  {
   "cell_type": "code",
   "execution_count": 1,
   "metadata": {},
   "outputs": [],
   "source": [
    "import pandas as pd\n",
    "import numpy as np\n",
    "from glob import glob\n",
    "import re\n",
    "import zipfile\n",
    "import io\n",
    "import os\n",
    "import json"
   ]
  },
  {
   "cell_type": "code",
   "execution_count": 3,
   "metadata": {},
   "outputs": [
    {
     "data": {
      "text/plain": [
       "['../ZipDump/IDCJAC0011_58161_1800.zip',\n",
       " '../ZipDump/IDCJAC0011_66037_1800.zip',\n",
       " '../ZipDump/IDCJAC0010_076031_1800.zip',\n",
       " '../ZipDump/IDCJAC0010_023034_1800.zip',\n",
       " '../ZipDump/IDCJAC0011_39326_1800.zip',\n",
       " '../ZipDump/IDCJAC0011_86282_1800.zip',\n",
       " '../ZipDump/IDCJAC0011_23034_1800.zip',\n",
       " '../ZipDump/IDCJAC0011_76031_1800.zip',\n",
       " '../ZipDump/IDCJAC0010_086282_1800.zip',\n",
       " '../ZipDump/IDCJAC0010_039326_1800.zip',\n",
       " '../ZipDump/IDCJAC0010_058161_1800.zip',\n",
       " '../ZipDump/IDCJAC0010_066037_1800.zip',\n",
       " '../ZipDump/IDCJAC0011_40764_1800.zip',\n",
       " '../ZipDump/IDCJAC0011_72160_1800.zip',\n",
       " '../ZipDump/IDCJAC0011_39128_1800.zip',\n",
       " '../ZipDump/IDCJAC0011_61078_1800.zip',\n",
       " '../ZipDump/IDCJAC0011_041529_1800.zip',\n",
       " '../ZipDump/IDCJAC0011_68241_1800.zip',\n",
       " '../ZipDump/IDCJAC0010_047048_1800.zip',\n",
       " '../ZipDump/IDCJAC0010_026021_1800.zip',\n",
       " '../ZipDump/IDCJAC0011_24584_1800.zip',\n",
       " '../ZipDump/IDCJAC0010_039128_1800.zip',\n",
       " '../ZipDump/IDCJAC0010_061078_1800.zip',\n",
       " '../ZipDump/IDCJAC0010_040764_1800.zip',\n",
       " '../ZipDump/IDCJAC0010_072160_1800.zip',\n",
       " '../ZipDump/IDCJAC0011_26021_1800.zip',\n",
       " '../ZipDump/IDCJAC0010_024584_1800.zip',\n",
       " '../ZipDump/IDCJAC0010_041529_1800.zip',\n",
       " '../ZipDump/IDCJAC0011_47048_1800.zip',\n",
       " '../ZipDump/IDCJAC0010_068241_1800.zip']"
      ]
     },
     "execution_count": 3,
     "metadata": {},
     "output_type": "execute_result"
    }
   ],
   "source": [
    "fzips = glob(\"../ZipDump/*.zip\")\n",
    "fzips"
   ]
  },
  {
   "cell_type": "code",
   "execution_count": 4,
   "metadata": {},
   "outputs": [],
   "source": [
    "bomid = re.compile(\"station number:[ \\d]*\")\n",
    "stname = re.compile(\"Station name:[ \\w]*\")\n",
    "temptype = re.compile(\"[\\w]{3}imum Temp\")"
   ]
  },
  {
   "cell_type": "code",
   "execution_count": 5,
   "metadata": {},
   "outputs": [
    {
     "name": "stdout",
     "output_type": "stream",
     "text": [
      "GRAFTON-AIRPORT_MinT_58161\n",
      "SYDNEY-AIRPORT-AMO_MinT_66037\n",
      "MILDURA-AIRPORT_MaxT_76031\n",
      "ADELAIDE-AIRPORT_MaxT_23034\n",
      "GLADSTONE-AIRPORT_MinT_39326\n",
      "MELBOURNE-AIRPORT_MinT_86282\n",
      "ADELAIDE-AIRPORT_MinT_23034\n",
      "MILDURA-AIRPORT_MinT_76031\n",
      "MELBOURNE-AIRPORT_MaxT_86282\n",
      "GLADSTONE-AIRPORT_MaxT_39326\n",
      "GRAFTON-AIRPORT_MaxT_58161\n",
      "SYDNEY-AIRPORT-AMO_MaxT_66037\n",
      "GOLD-COAST-SEAWAY_MinT_40764\n",
      "ALBURY-AIRPORT_MinT_72160\n",
      "BUNDABERG-AERO_MinT_39128\n",
      "WILLIAMTOWN-RAAF_MinT_61078\n",
      "TOOWOOMBA-AIRPORT_MinT_41529\n",
      "ALBION-PARK_MinT_68241\n",
      "BROKEN-HILL-AIRPORT_MaxT_47048\n",
      "MOUNT-GAMBIER-AERO_MaxT_26021\n",
      "MURRAY-BRIDGE_MinT_24584\n",
      "BUNDABERG-AERO_MaxT_39128\n",
      "WILLIAMTOWN-RAAF_MaxT_61078\n",
      "GOLD-COAST-SEAWAY_MaxT_40764\n",
      "ALBURY-AIRPORT_MaxT_72160\n",
      "MOUNT-GAMBIER-AERO_MinT_26021\n",
      "MURRAY-BRIDGE_MaxT_24584\n",
      "TOOWOOMBA-AIRPORT_MaxT_41529\n",
      "BROKEN-HILL-AIRPORT_MinT_47048\n",
      "ALBION-PARK_MaxT_68241\n",
      "{'IDCJAC0011_58161_1800_Data.csv': 'GRAFTON-AIRPORT_MinT_58161', 'IDCJAC0011_66037_1800_Data.csv': 'SYDNEY-AIRPORT-AMO_MinT_66037', 'IDCJAC0010_076031_1800_Data.csv': 'MILDURA-AIRPORT_MaxT_76031', 'IDCJAC0010_023034_1800_Data.csv': 'ADELAIDE-AIRPORT_MaxT_23034', 'IDCJAC0011_39326_1800_Data.csv': 'GLADSTONE-AIRPORT_MinT_39326', 'IDCJAC0011_86282_1800_Data.csv': 'MELBOURNE-AIRPORT_MinT_86282', 'IDCJAC0011_23034_1800_Data.csv': 'ADELAIDE-AIRPORT_MinT_23034', 'IDCJAC0011_76031_1800_Data.csv': 'MILDURA-AIRPORT_MinT_76031', 'IDCJAC0010_086282_1800_Data.csv': 'MELBOURNE-AIRPORT_MaxT_86282', 'IDCJAC0010_039326_1800_Data.csv': 'GLADSTONE-AIRPORT_MaxT_39326', 'IDCJAC0010_058161_1800_Data.csv': 'GRAFTON-AIRPORT_MaxT_58161', 'IDCJAC0010_066037_1800_Data.csv': 'SYDNEY-AIRPORT-AMO_MaxT_66037', 'IDCJAC0011_40764_1800_Data.csv': 'GOLD-COAST-SEAWAY_MinT_40764', 'IDCJAC0011_72160_1800_Data.csv': 'ALBURY-AIRPORT_MinT_72160', 'IDCJAC0011_39128_1800_Data.csv': 'BUNDABERG-AERO_MinT_39128', 'IDCJAC0011_61078_1800_Data.csv': 'WILLIAMTOWN-RAAF_MinT_61078', 'IDCJAC0011_041529_1800_Data.csv': 'TOOWOOMBA-AIRPORT_MinT_41529', 'IDCJAC0011_68241_1800_Data.csv': 'ALBION-PARK_MinT_68241', 'IDCJAC0010_047048_1800_Data.csv': 'BROKEN-HILL-AIRPORT_MaxT_47048', 'IDCJAC0010_026021_1800_Data.csv': 'MOUNT-GAMBIER-AERO_MaxT_26021', 'IDCJAC0011_24584_1800_Data.csv': 'MURRAY-BRIDGE_MinT_24584', 'IDCJAC0010_039128_1800_Data.csv': 'BUNDABERG-AERO_MaxT_39128', 'IDCJAC0010_061078_1800_Data.csv': 'WILLIAMTOWN-RAAF_MaxT_61078', 'IDCJAC0010_040764_1800_Data.csv': 'GOLD-COAST-SEAWAY_MaxT_40764', 'IDCJAC0010_072160_1800_Data.csv': 'ALBURY-AIRPORT_MaxT_72160', 'IDCJAC0011_26021_1800_Data.csv': 'MOUNT-GAMBIER-AERO_MinT_26021', 'IDCJAC0010_024584_1800_Data.csv': 'MURRAY-BRIDGE_MaxT_24584', 'IDCJAC0010_041529_1800_Data.csv': 'TOOWOOMBA-AIRPORT_MaxT_41529', 'IDCJAC0011_47048_1800_Data.csv': 'BROKEN-HILL-AIRPORT_MinT_47048', 'IDCJAC0010_068241_1800_Data.csv': 'ALBION-PARK_MaxT_68241'}\n",
      "CPU times: user 93.6 ms, sys: 46.7 ms, total: 140 ms\n",
      "Wall time: 242 ms\n"
     ]
    }
   ],
   "source": [
    "%%time\n",
    "alltemps = {}\n",
    "for fz in fzips:\n",
    "    with zipfile.ZipFile(fz) as zopen:\n",
    "        ftext = [n for n in zopen.namelist() if '.txt' in n][0]\n",
    "        fcsv = [n for n in zopen.namelist() if '.csv' in n][0]\n",
    "        with zopen.open(ftext,'r') as infile:\n",
    "\n",
    "            txt = io.TextIOWrapper(io.BytesIO(infile.read()))\n",
    "            txt = ''.join([t for t in txt])\n",
    "\n",
    "        outid = re.findall(bomid, txt)[0].split(':')[1][1:]\n",
    "        outname = re.findall(stname, txt)[0].split(':')[1][1:]\n",
    "        outname = '-'.join(o for o in outname.split() if o != 'AWS')\n",
    "        mmtemp = re.findall(temptype, txt)[0][:3]\n",
    "\n",
    "        fullname = '_'.join([outname, mmtemp + 'T', outid])\n",
    "        \n",
    "        zopen.extract(fcsv) ## only once off, to extract the csv to cwd\n",
    "    alltemps[fcsv] = fullname\n",
    "    print(fullname)\n",
    "print(alltemps)"
   ]
  },
  {
   "cell_type": "code",
   "execution_count": 6,
   "metadata": {},
   "outputs": [],
   "source": [
    "for original, new in alltemps.items():\n",
    "#     print(original, new)\n",
    "    os.rename(original, \"./base-data/\" + new + \".csv\")"
   ]
  },
  {
   "cell_type": "code",
   "execution_count": 7,
   "metadata": {},
   "outputs": [],
   "source": [
    "relat = re.compile(r\"(Latitude)(.*):(.*)\")\n",
    "relong = re.compile(r\"(Longitude)(.*):(.*)\")\n",
    "restate = re.compile(r\"State: (.*)\")"
   ]
  },
  {
   "cell_type": "code",
   "execution_count": 8,
   "metadata": {},
   "outputs": [
    {
     "name": "stdout",
     "output_type": "stream",
     "text": [
      "CPU times: user 17.1 ms, sys: 5.63 ms, total: 22.8 ms\n",
      "Wall time: 28.8 ms\n"
     ]
    }
   ],
   "source": [
    "%%time\n",
    "infotemps = {}\n",
    "for fz in fzips:\n",
    "    with zipfile.ZipFile(fz) as zopen:\n",
    "        ftext = [n for n in zopen.namelist() if '.txt' in n][0]\n",
    "        fcsv = [n for n in zopen.namelist() if '.csv' in n][0]\n",
    "        with zopen.open(ftext,'r') as infile:\n",
    "\n",
    "            txt = io.TextIOWrapper(io.BytesIO(infile.read()))\n",
    "            txt = ''.join([t for t in txt])\n",
    "\n",
    "        outid = re.findall(bomid, txt)[0].split(':')[1][1:]\n",
    "        outname = re.findall(stname, txt)[0].split(':')[1][1:]\n",
    "        outname = '-'.join(o for o in outname.split() if o != 'AWS')\n",
    "        mmtemp = re.findall(temptype, txt)[0][:3]\n",
    "\n",
    "        fullname = '_'.join([outname, mmtemp + 'T', outid])\n",
    "        \n",
    "        lat = re.findall(relat, txt)[0][-1].strip()\n",
    "        long = re.findall(relong, txt)[0][-1].strip()\n",
    "        st = re.findall(restate, txt)[0].strip()\n",
    "        \n",
    "        infotemps[outid] = {k:v for k,v in zip([\"Name\", \"LatLong\", \"State\"],[outname, (lat,long), st])}\n",
    "        \n",
    "        \n",
    "        \n",
    "infotemps\n",
    "    \n",
    "    \n",
    "    \n",
    "    "
   ]
  },
  {
   "cell_type": "code",
   "execution_count": 9,
   "metadata": {},
   "outputs": [
    {
     "data": {
      "text/plain": [
       "{'58161': {'Name': 'GRAFTON-AIRPORT',\n",
       "  'LatLong': ('-29.76', '153.03'),\n",
       "  'State': 'NSW'},\n",
       " '66037': {'Name': 'SYDNEY-AIRPORT-AMO',\n",
       "  'LatLong': ('-33.95', '151.17'),\n",
       "  'State': 'NSW'},\n",
       " '76031': {'Name': 'MILDURA-AIRPORT',\n",
       "  'LatLong': ('-34.24', '142.09'),\n",
       "  'State': 'VIC'},\n",
       " '23034': {'Name': 'ADELAIDE-AIRPORT',\n",
       "  'LatLong': ('-34.95', '138.52'),\n",
       "  'State': 'SA'},\n",
       " '39326': {'Name': 'GLADSTONE-AIRPORT',\n",
       "  'LatLong': ('-23.87', '151.22'),\n",
       "  'State': 'QLD'},\n",
       " '86282': {'Name': 'MELBOURNE-AIRPORT',\n",
       "  'LatLong': ('-37.67', '144.83'),\n",
       "  'State': 'VIC'},\n",
       " '40764': {'Name': 'GOLD-COAST-SEAWAY',\n",
       "  'LatLong': ('-27.94', '153.43'),\n",
       "  'State': 'QLD'},\n",
       " '72160': {'Name': 'ALBURY-AIRPORT',\n",
       "  'LatLong': ('-36.07', '146.95'),\n",
       "  'State': 'NSW'},\n",
       " '39128': {'Name': 'BUNDABERG-AERO',\n",
       "  'LatLong': ('-24.91', '152.32'),\n",
       "  'State': 'QLD'},\n",
       " '61078': {'Name': 'WILLIAMTOWN-RAAF',\n",
       "  'LatLong': ('-32.79', '151.84'),\n",
       "  'State': 'NSW'},\n",
       " '41529': {'Name': 'TOOWOOMBA-AIRPORT',\n",
       "  'LatLong': ('-27.54', '151.91'),\n",
       "  'State': 'QLD'},\n",
       " '68241': {'Name': 'ALBION-PARK',\n",
       "  'LatLong': ('-34.56', '150.79'),\n",
       "  'State': 'NSW'},\n",
       " '47048': {'Name': 'BROKEN-HILL-AIRPORT',\n",
       "  'LatLong': ('-32.00', '141.47'),\n",
       "  'State': 'NSW'},\n",
       " '26021': {'Name': 'MOUNT-GAMBIER-AERO',\n",
       "  'LatLong': ('-37.75', '140.77'),\n",
       "  'State': 'SA'},\n",
       " '24584': {'Name': 'MURRAY-BRIDGE',\n",
       "  'LatLong': ('-35.07', '139.23'),\n",
       "  'State': 'SA'}}"
      ]
     },
     "execution_count": 9,
     "metadata": {},
     "output_type": "execute_result"
    }
   ],
   "source": [
    "infotemps"
   ]
  },
  {
   "cell_type": "code",
   "execution_count": 10,
   "metadata": {},
   "outputs": [
    {
     "data": {
      "text/plain": [
       "['../ZipDump/4bda4fce428abc201ce825db83b422085da007.txt',\n",
       " '../ZipDump/d206dc7de9fa9e09fbad36865c973d2dd82ad3.txt',\n",
       " '../ZipDump/501a5be88024d1e2a48e9de0f07c3a4cd9f6b2.txt',\n",
       " '../ZipDump/c628dc992aa66ffec97c0b63ce77a43d30b0e1.txt',\n",
       " '../ZipDump/97f5df45211225d087e43ad14598a6c1ca5a7e.txt',\n",
       " '../ZipDump/2a776952e29ec63ebe25c0e4bfdf8582d21d35.txt',\n",
       " '../ZipDump/36d0c5c73312bee8a74e352a52aec06ce72af6.txt',\n",
       " '../ZipDump/4e808b9bff58579814f47518386773f6112dcf.txt',\n",
       " '../ZipDump/34ddcdadfd269ede55b93206334d13422e4840.txt',\n",
       " '../ZipDump/b24064c77449e99ec3b49abe3452b6fa6ad609.txt',\n",
       " '../ZipDump/0e79e694e20578e66b9c59499d7f671d9cbd93.txt',\n",
       " '../ZipDump/37d153be3c7df84279704d9a322e734df488c0.txt',\n",
       " '../ZipDump/05ad874d09aba39244ed58c95f88a7a4157e42.txt',\n",
       " '../ZipDump/816c5057b0205ad6741cb44eb0bdc28b314e64.txt',\n",
       " '../ZipDump/fe0db15a6233192e72b6f92e612ae34499c92f.txt',\n",
       " '../ZipDump/019d4ef829b0a5750eb46d2df1225313235f28.txt',\n",
       " '../ZipDump/a15bd44552c4b99633f4c53b0b8ce08344e890.txt',\n",
       " '../ZipDump/d945ce2302d554e217fd435647c06ac331ec87.txt',\n",
       " '../ZipDump/4703c338aa396de98dbe069ce77c97571a4d61.txt',\n",
       " '../ZipDump/216d1f56acaa5a217af324f126749a0478cf8d.txt',\n",
       " '../ZipDump/9a72ac36cb1ead9f86be42adcda922cf23502f.txt',\n",
       " '../ZipDump/400985a3af899d350e5f4db15a60a8d450d24f.txt',\n",
       " '../ZipDump/9158f228ae9f83566b1f248f11f78b2012f8d7.txt',\n",
       " '../ZipDump/887fcd0fa96480f293a9e4d0c70f0cc89b58df.txt',\n",
       " '../ZipDump/1d5bb86c033d8eebd81cdf03a52c6c0a95eee8.txt',\n",
       " '../ZipDump/024b98425acd7354d713da43192b76478e4bea.txt',\n",
       " '../ZipDump/9173592439b7a24b1cef878fbefc12546436ed.txt',\n",
       " '../ZipDump/58faeda0a8d1e2f10a23a1533a0d7563296b81.txt',\n",
       " './base-data/d206dc7de9fa9e09fbad36865c973d2dd82ad3.txt',\n",
       " './base-data/c628dc992aa66ffec97c0b63ce77a43d30b0e1.txt',\n",
       " './base-data/b24064c77449e99ec3b49abe3452b6fa6ad609.txt',\n",
       " './base-data/fe0db15a6233192e72b6f92e612ae34499c92f.txt',\n",
       " './base-data/d945ce2302d554e217fd435647c06ac331ec87.txt']"
      ]
     },
     "execution_count": 10,
     "metadata": {},
     "output_type": "execute_result"
    }
   ],
   "source": [
    "oldnotes = glob(\"../*/*.txt\") + glob(\"./base-data/*.txt\")\n",
    "oldnotes"
   ]
  },
  {
   "cell_type": "code",
   "execution_count": 11,
   "metadata": {},
   "outputs": [
    {
     "data": {
      "text/plain": [
       "{'58161': {'Name': 'GRAFTON-AIRPORT',\n",
       "  'LatLong': ('-29.76', '153.03'),\n",
       "  'State': 'NSW'},\n",
       " '66037': {'Name': 'SYDNEY-AIRPORT-AMO',\n",
       "  'LatLong': ('-33.95', '151.17'),\n",
       "  'State': 'NSW'},\n",
       " '76031': {'Name': 'MILDURA-AIRPORT',\n",
       "  'LatLong': ('-34.24', '142.09'),\n",
       "  'State': 'VIC'},\n",
       " '23034': {'Name': 'ADELAIDE-AIRPORT',\n",
       "  'LatLong': ('-34.95', '138.52'),\n",
       "  'State': 'SA'},\n",
       " '39326': {'Name': 'GLADSTONE-AIRPORT',\n",
       "  'LatLong': ('-23.87', '151.22'),\n",
       "  'State': 'QLD'},\n",
       " '86282': {'Name': 'MELBOURNE-AIRPORT',\n",
       "  'LatLong': ('-37.67', '144.83'),\n",
       "  'State': 'VIC'},\n",
       " '40764': {'Name': 'GOLD-COAST-SEAWAY',\n",
       "  'LatLong': ('-27.94', '153.43'),\n",
       "  'State': 'QLD'},\n",
       " '72160': {'Name': 'ALBURY-AIRPORT',\n",
       "  'LatLong': ('-36.07', '146.95'),\n",
       "  'State': 'NSW'},\n",
       " '39128': {'Name': 'BUNDABERG-AERO',\n",
       "  'LatLong': ('-24.91', '152.32'),\n",
       "  'State': 'QLD'},\n",
       " '61078': {'Name': 'WILLIAMTOWN-RAAF',\n",
       "  'LatLong': ('-32.79', '151.84'),\n",
       "  'State': 'NSW'},\n",
       " '41529': {'Name': 'TOOWOOMBA-AIRPORT',\n",
       "  'LatLong': ('-27.54', '151.91'),\n",
       "  'State': 'QLD'},\n",
       " '68241': {'Name': 'ALBION-PARK',\n",
       "  'LatLong': ('-34.56', '150.79'),\n",
       "  'State': 'NSW'},\n",
       " '47048': {'Name': 'BROKEN-HILL-AIRPORT',\n",
       "  'LatLong': ('-32.00', '141.47'),\n",
       "  'State': 'NSW'},\n",
       " '26021': {'Name': 'MOUNT-GAMBIER-AERO',\n",
       "  'LatLong': ('-37.75', '140.77'),\n",
       "  'State': 'SA'},\n",
       " '24584': {'Name': 'MURRAY-BRIDGE',\n",
       "  'LatLong': ('-35.07', '139.23'),\n",
       "  'State': 'SA'},\n",
       " '18201': {'Name': 'PORT-AUGUSTA-AERO',\n",
       "  'LatLong': ('-32.51', '137.72'),\n",
       "  'State': 'SA'},\n",
       " '85280': {'Name': 'MORWELL', 'LatLong': ('-38.21', '146.47'), 'State': 'VIC'},\n",
       " '23000': {'Name': 'ADELAIDE', 'LatLong': ('-34.93', '138.58'), 'State': 'SA'},\n",
       " '56037': {'Name': 'ARMIDALE',\n",
       "  'LatLong': ('-30.52', '151.67'),\n",
       "  'State': 'NSW'},\n",
       " '40913': {'Name': 'BRISBANE',\n",
       "  'LatLong': ('-27.48', '153.04'),\n",
       "  'State': 'QLD'},\n",
       " '86338': {'Name': 'MELBOURNE',\n",
       "  'LatLong': ('-37.83', '144.98'),\n",
       "  'State': 'VIC'},\n",
       " '66212': {'Name': 'SYDNEY-OLYMPIC-PARK',\n",
       "  'LatLong': ('-33.83', '151.07'),\n",
       "  'State': 'NSW'},\n",
       " '70351': {'Name': 'CANBERRA-AIRPORT',\n",
       "  'LatLong': ('-35.31', '149.20'),\n",
       "  'State': 'NSW'},\n",
       " '91237': {'Name': 'LAUNCESTON',\n",
       "  'LatLong': ('-41.42', '147.12'),\n",
       "  'State': 'TAS'},\n",
       " '94029': {'Name': 'HOBART', 'LatLong': ('-42.89', '147.33'), 'State': 'TAS'},\n",
       " '65070': {'Name': 'DUBBO-AIRPORT',\n",
       "  'LatLong': ('-32.22', '148.58'),\n",
       "  'State': 'NSW'},\n",
       " '39083': {'Name': 'ROCKHAMPTON-AERO',\n",
       "  'LatLong': ('-23.38', '150.48'),\n",
       "  'State': 'QLD'},\n",
       " '32040': {'Name': 'TOWNSVILLE-AERO',\n",
       "  'LatLong': ('-19.25', '146.77'),\n",
       "  'State': 'QLD'},\n",
       " '90184': {'Name': 'CAPE-NELSON-LIGHTHOUSE',\n",
       "  'LatLong': ('-38.43', '141.54'),\n",
       "  'State': 'VIC'}}"
      ]
     },
     "execution_count": 11,
     "metadata": {},
     "output_type": "execute_result"
    }
   ],
   "source": [
    "for note in oldnotes:\n",
    "    with open(note, 'r') as infile:\n",
    "        txt = infile.read()\n",
    "    outid = re.findall(bomid, txt)[0].split(':')[1][1:]\n",
    "    outname = re.findall(stname, txt)[0].split(':')[1][1:]\n",
    "    outname = '-'.join(o for o in outname.split() if o != 'AWS')\n",
    "    mmtemp = re.findall(temptype, txt)[0][:3]\n",
    "\n",
    "    fullname = '_'.join([outname, mmtemp + 'T', outid])\n",
    "\n",
    "    lat = re.findall(relat, txt)[0][-1].strip()\n",
    "    long = re.findall(relong, txt)[0][-1].strip()\n",
    "    st = re.findall(restate, txt)[0].strip()\n",
    "\n",
    "    infotemps[outid] = {k:v for k,v in zip([\"Name\", \"LatLong\", \"State\"],[outname, (lat,long), st])}\n",
    "    \n",
    "infotemps"
   ]
  },
  {
   "cell_type": "code",
   "execution_count": 12,
   "metadata": {},
   "outputs": [],
   "source": [
    "with open('station-data.json', 'w') as outfile:\n",
    "    json.dump(infotemps, outfile)"
   ]
  },
  {
   "cell_type": "code",
   "execution_count": null,
   "metadata": {},
   "outputs": [],
   "source": []
  }
 ],
 "metadata": {
  "kernelspec": {
   "display_name": "Python 3",
   "language": "python",
   "name": "python3"
  },
  "language_info": {
   "codemirror_mode": {
    "name": "ipython",
    "version": 3
   },
   "file_extension": ".py",
   "mimetype": "text/x-python",
   "name": "python",
   "nbconvert_exporter": "python",
   "pygments_lexer": "ipython3",
   "version": "3.6.8"
  }
 },
 "nbformat": 4,
 "nbformat_minor": 2
}
